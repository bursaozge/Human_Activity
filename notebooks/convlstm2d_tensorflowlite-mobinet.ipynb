{
 "cells": [
  {
   "cell_type": "code",
   "execution_count": 1,
   "metadata": {},
   "outputs": [
    {
     "name": "stdout",
     "output_type": "stream",
     "text": [
      "2.5.0\n"
     ]
    }
   ],
   "source": [
    "import tensorflow as tf\n",
    "from tensorflow.keras import Sequential\n",
    "from tensorflow.keras.layers import Flatten, Dense, Dropout, BatchNormalization\n",
    "from tensorflow.keras.layers import Conv2D, MaxPool2D, LSTM\n",
    "from tensorflow.keras.optimizers import Adam\n",
    "from sklearn.metrics import accuracy_score\n",
    "from tensorflow import keras\n",
    "print(tf.__version__)"
   ]
  },
  {
   "cell_type": "code",
   "execution_count": 3,
   "metadata": {},
   "outputs": [],
   "source": [
    "import pandas as pd\n",
    "import numpy as np\n",
    "import matplotlib.pyplot as plt\n",
    "from sklearn.model_selection import train_test_split\n",
    "from sklearn.preprocessing import StandardScaler,LabelEncoder\n",
    "import scipy.stats as stats"
   ]
  },
  {
   "cell_type": "code",
   "execution_count": 6,
   "metadata": {},
   "outputs": [
    {
     "data": {
      "text/html": [
       "<div>\n",
       "<style scoped>\n",
       "    .dataframe tbody tr th:only-of-type {\n",
       "        vertical-align: middle;\n",
       "    }\n",
       "\n",
       "    .dataframe tbody tr th {\n",
       "        vertical-align: top;\n",
       "    }\n",
       "\n",
       "    .dataframe thead th {\n",
       "        text-align: right;\n",
       "    }\n",
       "</style>\n",
       "<table border=\"1\" class=\"dataframe\">\n",
       "  <thead>\n",
       "    <tr style=\"text-align: right;\">\n",
       "      <th></th>\n",
       "      <th>Time</th>\n",
       "      <th>x</th>\n",
       "      <th>y</th>\n",
       "      <th>z</th>\n",
       "      <th>Activity</th>\n",
       "      <th>User</th>\n",
       "    </tr>\n",
       "  </thead>\n",
       "  <tbody>\n",
       "    <tr>\n",
       "      <th>0</th>\n",
       "      <td>235423306000</td>\n",
       "      <td>-0.172383</td>\n",
       "      <td>9.883265</td>\n",
       "      <td>-0.450110</td>\n",
       "      <td>STD</td>\n",
       "      <td>39</td>\n",
       "    </tr>\n",
       "    <tr>\n",
       "      <th>1</th>\n",
       "      <td>235450722000</td>\n",
       "      <td>-0.220267</td>\n",
       "      <td>9.921572</td>\n",
       "      <td>-0.440533</td>\n",
       "      <td>STD</td>\n",
       "      <td>39</td>\n",
       "    </tr>\n",
       "    <tr>\n",
       "      <th>2</th>\n",
       "      <td>235460429000</td>\n",
       "      <td>-0.258574</td>\n",
       "      <td>9.892841</td>\n",
       "      <td>-0.459687</td>\n",
       "      <td>STD</td>\n",
       "      <td>39</td>\n",
       "    </tr>\n",
       "    <tr>\n",
       "      <th>3</th>\n",
       "      <td>235470358000</td>\n",
       "      <td>-0.248997</td>\n",
       "      <td>9.873688</td>\n",
       "      <td>-0.450110</td>\n",
       "      <td>STD</td>\n",
       "      <td>39</td>\n",
       "    </tr>\n",
       "    <tr>\n",
       "      <th>4</th>\n",
       "      <td>235490379000</td>\n",
       "      <td>-0.229843</td>\n",
       "      <td>9.825804</td>\n",
       "      <td>-0.411803</td>\n",
       "      <td>STD</td>\n",
       "      <td>39</td>\n",
       "    </tr>\n",
       "  </tbody>\n",
       "</table>\n",
       "</div>"
      ],
      "text/plain": [
       "           Time         x         y         z Activity  User\n",
       "0  235423306000 -0.172383  9.883265 -0.450110      STD    39\n",
       "1  235450722000 -0.220267  9.921572 -0.440533      STD    39\n",
       "2  235460429000 -0.258574  9.892841 -0.459687      STD    39\n",
       "3  235470358000 -0.248997  9.873688 -0.450110      STD    39\n",
       "4  235490379000 -0.229843  9.825804 -0.411803      STD    39"
      ]
     },
     "execution_count": 6,
     "metadata": {},
     "output_type": "execute_result"
    }
   ],
   "source": [
    "data = pd.read_csv('../data/MobiAct/raw_data.csv')\n",
    "data.head()"
   ]
  },
  {
   "cell_type": "code",
   "execution_count": 7,
   "metadata": {},
   "outputs": [
    {
     "name": "stdout",
     "output_type": "stream",
     "text": [
      "<class 'pandas.core.frame.DataFrame'>\n",
      "RangeIndex: 5275371 entries, 0 to 5275370\n",
      "Data columns (total 6 columns):\n",
      " #   Column    Dtype  \n",
      "---  ------    -----  \n",
      " 0   Time      int64  \n",
      " 1   x         float64\n",
      " 2   y         float64\n",
      " 3   z         float64\n",
      " 4   Activity  object \n",
      " 5   User      int64  \n",
      "dtypes: float64(3), int64(2), object(1)\n",
      "memory usage: 241.5+ MB\n"
     ]
    }
   ],
   "source": [
    "data.info()"
   ]
  },
  {
   "cell_type": "code",
   "execution_count": 8,
   "metadata": {},
   "outputs": [
    {
     "data": {
      "text/plain": [
       "(5275371, 6)"
      ]
     },
     "execution_count": 8,
     "metadata": {},
     "output_type": "execute_result"
    }
   ],
   "source": [
    "data.shape"
   ]
  },
  {
   "cell_type": "code",
   "execution_count": 9,
   "metadata": {},
   "outputs": [
    {
     "data": {
      "text/plain": [
       "Time        0\n",
       "x           0\n",
       "y           0\n",
       "z           0\n",
       "Activity    0\n",
       "User        0\n",
       "dtype: int64"
      ]
     },
     "execution_count": 9,
     "metadata": {},
     "output_type": "execute_result"
    }
   ],
   "source": [
    "data.isnull().sum()"
   ]
  },
  {
   "cell_type": "code",
   "execution_count": 10,
   "metadata": {},
   "outputs": [
    {
     "data": {
      "text/plain": [
       "WAL    1729683\n",
       "STD    1317859\n",
       "JOG     511585\n",
       "JUM     501578\n",
       "STU     305505\n",
       "STN     302998\n",
       "CSO     164927\n",
       "CSI     163639\n",
       "SCH     152401\n",
       "SIT      77674\n",
       "CHU      47522\n",
       "Name: Activity, dtype: int64"
      ]
     },
     "execution_count": 10,
     "metadata": {},
     "output_type": "execute_result"
    }
   ],
   "source": [
    "data['Activity'].value_counts()"
   ]
  },
  {
   "cell_type": "code",
   "execution_count": 11,
   "metadata": {},
   "outputs": [],
   "source": [
    "data['x']=data['x'].astype('float')\n",
    "data['y']=data['y'].astype('float')\n",
    "data['z']=data['z'].astype('float')"
   ]
  },
  {
   "cell_type": "code",
   "execution_count": 12,
   "metadata": {},
   "outputs": [
    {
     "name": "stdout",
     "output_type": "stream",
     "text": [
      "<class 'pandas.core.frame.DataFrame'>\n",
      "RangeIndex: 5275371 entries, 0 to 5275370\n",
      "Data columns (total 6 columns):\n",
      " #   Column    Dtype  \n",
      "---  ------    -----  \n",
      " 0   Time      int64  \n",
      " 1   x         float64\n",
      " 2   y         float64\n",
      " 3   z         float64\n",
      " 4   Activity  object \n",
      " 5   User      int64  \n",
      "dtypes: float64(3), int64(2), object(1)\n",
      "memory usage: 241.5+ MB\n"
     ]
    }
   ],
   "source": [
    "data.info()"
   ]
  },
  {
   "cell_type": "code",
   "execution_count": null,
   "metadata": {},
   "outputs": [],
   "source": [
    "Fs = 20"
   ]
  },
  {
   "cell_type": "code",
   "execution_count": null,
   "metadata": {},
   "outputs": [],
   "source": [
    "activities = data['Activity'].value_counts().index"
   ]
  },
  {
   "cell_type": "code",
   "execution_count": null,
   "metadata": {},
   "outputs": [],
   "source": [
    "activities"
   ]
  },
  {
   "cell_type": "code",
   "execution_count": 13,
   "metadata": {},
   "outputs": [
    {
     "data": {
      "text/html": [
       "<div>\n",
       "<style scoped>\n",
       "    .dataframe tbody tr th:only-of-type {\n",
       "        vertical-align: middle;\n",
       "    }\n",
       "\n",
       "    .dataframe tbody tr th {\n",
       "        vertical-align: top;\n",
       "    }\n",
       "\n",
       "    .dataframe thead th {\n",
       "        text-align: right;\n",
       "    }\n",
       "</style>\n",
       "<table border=\"1\" class=\"dataframe\">\n",
       "  <thead>\n",
       "    <tr style=\"text-align: right;\">\n",
       "      <th></th>\n",
       "      <th>x</th>\n",
       "      <th>y</th>\n",
       "      <th>z</th>\n",
       "      <th>Activity</th>\n",
       "    </tr>\n",
       "  </thead>\n",
       "  <tbody>\n",
       "    <tr>\n",
       "      <th>0</th>\n",
       "      <td>-0.172383</td>\n",
       "      <td>9.883265</td>\n",
       "      <td>-0.450110</td>\n",
       "      <td>STD</td>\n",
       "    </tr>\n",
       "    <tr>\n",
       "      <th>1</th>\n",
       "      <td>-0.220267</td>\n",
       "      <td>9.921572</td>\n",
       "      <td>-0.440533</td>\n",
       "      <td>STD</td>\n",
       "    </tr>\n",
       "    <tr>\n",
       "      <th>2</th>\n",
       "      <td>-0.258574</td>\n",
       "      <td>9.892841</td>\n",
       "      <td>-0.459687</td>\n",
       "      <td>STD</td>\n",
       "    </tr>\n",
       "    <tr>\n",
       "      <th>3</th>\n",
       "      <td>-0.248997</td>\n",
       "      <td>9.873688</td>\n",
       "      <td>-0.450110</td>\n",
       "      <td>STD</td>\n",
       "    </tr>\n",
       "    <tr>\n",
       "      <th>4</th>\n",
       "      <td>-0.229843</td>\n",
       "      <td>9.825804</td>\n",
       "      <td>-0.411803</td>\n",
       "      <td>STD</td>\n",
       "    </tr>\n",
       "  </tbody>\n",
       "</table>\n",
       "</div>"
      ],
      "text/plain": [
       "          x         y         z Activity\n",
       "0 -0.172383  9.883265 -0.450110      STD\n",
       "1 -0.220267  9.921572 -0.440533      STD\n",
       "2 -0.258574  9.892841 -0.459687      STD\n",
       "3 -0.248997  9.873688 -0.450110      STD\n",
       "4 -0.229843  9.825804 -0.411803      STD"
      ]
     },
     "execution_count": 13,
     "metadata": {},
     "output_type": "execute_result"
    }
   ],
   "source": [
    "df=data.drop(['User','Time'],axis=1).copy()\n",
    "df.head()"
   ]
  },
  {
   "cell_type": "code",
   "execution_count": 14,
   "metadata": {},
   "outputs": [
    {
     "data": {
      "text/plain": [
       "WAL    1729683\n",
       "STD    1317859\n",
       "JOG     511585\n",
       "JUM     501578\n",
       "STU     305505\n",
       "STN     302998\n",
       "CSO     164927\n",
       "CSI     163639\n",
       "SCH     152401\n",
       "SIT      77674\n",
       "CHU      47522\n",
       "Name: Activity, dtype: int64"
      ]
     },
     "execution_count": 14,
     "metadata": {},
     "output_type": "execute_result"
    }
   ],
   "source": [
    "df['Activity'].value_counts()"
   ]
  },
  {
   "cell_type": "code",
   "execution_count": 15,
   "metadata": {},
   "outputs": [
    {
     "data": {
      "text/html": [
       "<div>\n",
       "<style scoped>\n",
       "    .dataframe tbody tr th:only-of-type {\n",
       "        vertical-align: middle;\n",
       "    }\n",
       "\n",
       "    .dataframe tbody tr th {\n",
       "        vertical-align: top;\n",
       "    }\n",
       "\n",
       "    .dataframe thead th {\n",
       "        text-align: right;\n",
       "    }\n",
       "</style>\n",
       "<table border=\"1\" class=\"dataframe\">\n",
       "  <thead>\n",
       "    <tr style=\"text-align: right;\">\n",
       "      <th></th>\n",
       "      <th>x</th>\n",
       "      <th>y</th>\n",
       "      <th>z</th>\n",
       "      <th>Activity</th>\n",
       "      <th>label</th>\n",
       "    </tr>\n",
       "  </thead>\n",
       "  <tbody>\n",
       "    <tr>\n",
       "      <th>0</th>\n",
       "      <td>-0.172383</td>\n",
       "      <td>9.883265</td>\n",
       "      <td>-0.450110</td>\n",
       "      <td>STD</td>\n",
       "      <td>7</td>\n",
       "    </tr>\n",
       "    <tr>\n",
       "      <th>1</th>\n",
       "      <td>-0.220267</td>\n",
       "      <td>9.921572</td>\n",
       "      <td>-0.440533</td>\n",
       "      <td>STD</td>\n",
       "      <td>7</td>\n",
       "    </tr>\n",
       "    <tr>\n",
       "      <th>2</th>\n",
       "      <td>-0.258574</td>\n",
       "      <td>9.892841</td>\n",
       "      <td>-0.459687</td>\n",
       "      <td>STD</td>\n",
       "      <td>7</td>\n",
       "    </tr>\n",
       "    <tr>\n",
       "      <th>3</th>\n",
       "      <td>-0.248997</td>\n",
       "      <td>9.873688</td>\n",
       "      <td>-0.450110</td>\n",
       "      <td>STD</td>\n",
       "      <td>7</td>\n",
       "    </tr>\n",
       "    <tr>\n",
       "      <th>4</th>\n",
       "      <td>-0.229843</td>\n",
       "      <td>9.825804</td>\n",
       "      <td>-0.411803</td>\n",
       "      <td>STD</td>\n",
       "      <td>7</td>\n",
       "    </tr>\n",
       "  </tbody>\n",
       "</table>\n",
       "</div>"
      ],
      "text/plain": [
       "          x         y         z Activity  label\n",
       "0 -0.172383  9.883265 -0.450110      STD      7\n",
       "1 -0.220267  9.921572 -0.440533      STD      7\n",
       "2 -0.258574  9.892841 -0.459687      STD      7\n",
       "3 -0.248997  9.873688 -0.450110      STD      7\n",
       "4 -0.229843  9.825804 -0.411803      STD      7"
      ]
     },
     "execution_count": 15,
     "metadata": {},
     "output_type": "execute_result"
    }
   ],
   "source": [
    "label = LabelEncoder()\n",
    "df['label'] = label.fit_transform(df['Activity'])\n",
    "df.head()"
   ]
  },
  {
   "cell_type": "code",
   "execution_count": 16,
   "metadata": {},
   "outputs": [
    {
     "data": {
      "text/plain": [
       "array(['CHU', 'CSI', 'CSO', 'JOG', 'JUM', 'SCH', 'SIT', 'STD', 'STN',\n",
       "       'STU', 'WAL'], dtype=object)"
      ]
     },
     "execution_count": 16,
     "metadata": {},
     "output_type": "execute_result"
    }
   ],
   "source": [
    "label.classes_"
   ]
  },
  {
   "cell_type": "markdown",
   "metadata": {},
   "source": [
    "## Standardrizing"
   ]
  },
  {
   "cell_type": "code",
   "execution_count": 21,
   "metadata": {},
   "outputs": [],
   "source": [
    "X=df[['x','y','z']]\n",
    "y=df['label']"
   ]
  },
  {
   "cell_type": "code",
   "execution_count": 22,
   "metadata": {},
   "outputs": [
    {
     "data": {
      "text/html": [
       "<div>\n",
       "<style scoped>\n",
       "    .dataframe tbody tr th:only-of-type {\n",
       "        vertical-align: middle;\n",
       "    }\n",
       "\n",
       "    .dataframe tbody tr th {\n",
       "        vertical-align: top;\n",
       "    }\n",
       "\n",
       "    .dataframe thead th {\n",
       "        text-align: right;\n",
       "    }\n",
       "</style>\n",
       "<table border=\"1\" class=\"dataframe\">\n",
       "  <thead>\n",
       "    <tr style=\"text-align: right;\">\n",
       "      <th></th>\n",
       "      <th>x</th>\n",
       "      <th>y</th>\n",
       "      <th>z</th>\n",
       "      <th>label</th>\n",
       "    </tr>\n",
       "  </thead>\n",
       "  <tbody>\n",
       "    <tr>\n",
       "      <th>0</th>\n",
       "      <td>-0.111117</td>\n",
       "      <td>0.431247</td>\n",
       "      <td>-0.243865</td>\n",
       "      <td>7</td>\n",
       "    </tr>\n",
       "    <tr>\n",
       "      <th>1</th>\n",
       "      <td>-0.124153</td>\n",
       "      <td>0.436782</td>\n",
       "      <td>-0.241153</td>\n",
       "      <td>7</td>\n",
       "    </tr>\n",
       "    <tr>\n",
       "      <th>2</th>\n",
       "      <td>-0.134581</td>\n",
       "      <td>0.432631</td>\n",
       "      <td>-0.246576</td>\n",
       "      <td>7</td>\n",
       "    </tr>\n",
       "    <tr>\n",
       "      <th>3</th>\n",
       "      <td>-0.131974</td>\n",
       "      <td>0.429864</td>\n",
       "      <td>-0.243865</td>\n",
       "      <td>7</td>\n",
       "    </tr>\n",
       "    <tr>\n",
       "      <th>4</th>\n",
       "      <td>-0.126760</td>\n",
       "      <td>0.422945</td>\n",
       "      <td>-0.233018</td>\n",
       "      <td>7</td>\n",
       "    </tr>\n",
       "    <tr>\n",
       "      <th>...</th>\n",
       "      <td>...</td>\n",
       "      <td>...</td>\n",
       "      <td>...</td>\n",
       "      <td>...</td>\n",
       "    </tr>\n",
       "    <tr>\n",
       "      <th>5275366</th>\n",
       "      <td>-0.332724</td>\n",
       "      <td>-2.373387</td>\n",
       "      <td>-0.590948</td>\n",
       "      <td>2</td>\n",
       "    </tr>\n",
       "    <tr>\n",
       "      <th>5275367</th>\n",
       "      <td>-0.322296</td>\n",
       "      <td>-2.374770</td>\n",
       "      <td>-0.582814</td>\n",
       "      <td>2</td>\n",
       "    </tr>\n",
       "    <tr>\n",
       "      <th>5275368</th>\n",
       "      <td>-0.319689</td>\n",
       "      <td>-2.378921</td>\n",
       "      <td>-0.574679</td>\n",
       "      <td>2</td>\n",
       "    </tr>\n",
       "    <tr>\n",
       "      <th>5275369</th>\n",
       "      <td>-0.330117</td>\n",
       "      <td>-2.373387</td>\n",
       "      <td>-0.588237</td>\n",
       "      <td>2</td>\n",
       "    </tr>\n",
       "    <tr>\n",
       "      <th>5275370</th>\n",
       "      <td>-0.327510</td>\n",
       "      <td>-2.374770</td>\n",
       "      <td>-0.582814</td>\n",
       "      <td>2</td>\n",
       "    </tr>\n",
       "  </tbody>\n",
       "</table>\n",
       "<p>5275371 rows × 4 columns</p>\n",
       "</div>"
      ],
      "text/plain": [
       "                x         y         z  label\n",
       "0       -0.111117  0.431247 -0.243865      7\n",
       "1       -0.124153  0.436782 -0.241153      7\n",
       "2       -0.134581  0.432631 -0.246576      7\n",
       "3       -0.131974  0.429864 -0.243865      7\n",
       "4       -0.126760  0.422945 -0.233018      7\n",
       "...           ...       ...       ...    ...\n",
       "5275366 -0.332724 -2.373387 -0.590948      2\n",
       "5275367 -0.322296 -2.374770 -0.582814      2\n",
       "5275368 -0.319689 -2.378921 -0.574679      2\n",
       "5275369 -0.330117 -2.373387 -0.588237      2\n",
       "5275370 -0.327510 -2.374770 -0.582814      2\n",
       "\n",
       "[5275371 rows x 4 columns]"
      ]
     },
     "execution_count": 22,
     "metadata": {},
     "output_type": "execute_result"
    }
   ],
   "source": [
    "scaler = StandardScaler()\n",
    "X= scaler.fit_transform(X)\n",
    "\n",
    "scaled_X  = pd.DataFrame(data = X,columns = ['x','y','z'])\n",
    "scaled_X['label']= y.values\n",
    "\n",
    "scaled_X"
   ]
  },
  {
   "cell_type": "markdown",
   "metadata": {},
   "source": [
    "## Frame Preparation"
   ]
  },
  {
   "cell_type": "code",
   "execution_count": 23,
   "metadata": {},
   "outputs": [],
   "source": [
    "Fs = 20\n",
    "frame_size = Fs*4 # 80\n",
    "hop_size = Fs*2 # 40"
   ]
  },
  {
   "cell_type": "code",
   "execution_count": 24,
   "metadata": {},
   "outputs": [],
   "source": [
    "def get_frames(df, frame_size, hop_size):\n",
    "\n",
    "    N_FEATURES = 3\n",
    "\n",
    "    frames = []\n",
    "    labels = []\n",
    "    for i in range(0, len(df) - frame_size, hop_size):\n",
    "        x = df['x'].values[i: i + frame_size]\n",
    "        y = df['y'].values[i: i + frame_size]\n",
    "        z = df['z'].values[i: i + frame_size]\n",
    "        \n",
    "        # Retrieve the most often used label in this segment\n",
    "        label = stats.mode(df['label'][i: i + frame_size])[0][0]\n",
    "        frames.append([x, y, z])\n",
    "        labels.append(label)\n",
    "\n",
    "    # Bring the segments into a better shape\n",
    "    frames = np.asarray(frames).reshape(-1, frame_size, N_FEATURES)\n",
    "    labels = np.asarray(labels)\n",
    "\n",
    "    return frames, labels"
   ]
  },
  {
   "cell_type": "code",
   "execution_count": 25,
   "metadata": {},
   "outputs": [],
   "source": [
    "X, y = get_frames(scaled_X, frame_size, hop_size)"
   ]
  },
  {
   "cell_type": "code",
   "execution_count": 26,
   "metadata": {},
   "outputs": [
    {
     "data": {
      "text/plain": [
       "((131883, 80, 3), (131883,))"
      ]
     },
     "execution_count": 26,
     "metadata": {},
     "output_type": "execute_result"
    }
   ],
   "source": [
    "X.shape,y.shape        #(3555*)/40"
   ]
  },
  {
   "cell_type": "code",
   "execution_count": 27,
   "metadata": {},
   "outputs": [
    {
     "data": {
      "text/plain": [
       "array([7, 7, 7, ..., 2, 2, 2])"
      ]
     },
     "execution_count": 27,
     "metadata": {},
     "output_type": "execute_result"
    }
   ],
   "source": [
    "y"
   ]
  },
  {
   "cell_type": "code",
   "execution_count": 63,
   "metadata": {},
   "outputs": [],
   "source": [
    "X_train, X_test, y_train, y_test = train_test_split(X, y, test_size = 0.2, random_state = 0, stratify = y)"
   ]
  },
  {
   "cell_type": "code",
   "execution_count": 64,
   "metadata": {},
   "outputs": [
    {
     "data": {
      "text/plain": [
       "((105506, 80, 3), (26377, 80, 3), (105506,))"
      ]
     },
     "execution_count": 64,
     "metadata": {},
     "output_type": "execute_result"
    }
   ],
   "source": [
    "X_train.shape, X_test.shape, y_train.shape"
   ]
  },
  {
   "cell_type": "code",
   "execution_count": 65,
   "metadata": {},
   "outputs": [
    {
     "data": {
      "text/plain": [
       "((80, 3), (80, 3))"
      ]
     },
     "execution_count": 65,
     "metadata": {},
     "output_type": "execute_result"
    }
   ],
   "source": [
    "X_train[0].shape, X_test[0].shape"
   ]
  },
  {
   "cell_type": "code",
   "execution_count": 67,
   "metadata": {},
   "outputs": [
    {
     "data": {
      "text/plain": [
       "array([10, 10,  8, ...,  7, 10, 10])"
      ]
     },
     "execution_count": 67,
     "metadata": {},
     "output_type": "execute_result"
    }
   ],
   "source": [
    "y_train"
   ]
  },
  {
   "cell_type": "code",
   "execution_count": 69,
   "metadata": {},
   "outputs": [
    {
     "data": {
      "text/plain": [
       "(105506, 80, 3)"
      ]
     },
     "execution_count": 69,
     "metadata": {},
     "output_type": "execute_result"
    }
   ],
   "source": [
    "X_train.shape"
   ]
  },
  {
   "cell_type": "code",
   "execution_count": 70,
   "metadata": {},
   "outputs": [],
   "source": [
    "n_steps, n_length = 4, 32"
   ]
  },
  {
   "cell_type": "code",
   "execution_count": 71,
   "metadata": {},
   "outputs": [],
   "source": [
    "n_timesteps, n_features, n_outputs = X_train.shape[1], X_train.shape[2], y_train.shape[0]"
   ]
  },
  {
   "cell_type": "code",
   "execution_count": 72,
   "metadata": {},
   "outputs": [
    {
     "data": {
      "text/plain": [
       "(80, 3)"
      ]
     },
     "execution_count": 72,
     "metadata": {},
     "output_type": "execute_result"
    }
   ],
   "source": [
    " X_train.shape[1], X_train.shape[2]"
   ]
  },
  {
   "cell_type": "code",
   "execution_count": 73,
   "metadata": {},
   "outputs": [],
   "source": [
    "from sklearn.preprocessing import OneHotEncoder\n",
    "\n",
    "enc = OneHotEncoder(handle_unknown='ignore', sparse=False)\n",
    "\n",
    "enc = enc.fit(y_train.reshape(-1, 1))\n",
    "\n",
    "y_train = enc.transform(y_train.reshape(-1, 1))\n",
    "y_test = enc.transform(y_test.reshape(-1, 1))"
   ]
  },
  {
   "cell_type": "code",
   "execution_count": 74,
   "metadata": {},
   "outputs": [
    {
     "data": {
      "text/plain": [
       "(105506, 11)"
      ]
     },
     "execution_count": 74,
     "metadata": {},
     "output_type": "execute_result"
    }
   ],
   "source": [
    "y_train.shape"
   ]
  },
  {
   "cell_type": "code",
   "execution_count": 76,
   "metadata": {},
   "outputs": [
    {
     "data": {
      "text/plain": [
       "(105506, 80, 3)"
      ]
     },
     "execution_count": 76,
     "metadata": {},
     "output_type": "execute_result"
    }
   ],
   "source": [
    "X_train.shape"
   ]
  },
  {
   "cell_type": "code",
   "execution_count": 77,
   "metadata": {},
   "outputs": [
    {
     "data": {
      "text/plain": [
       "3"
      ]
     },
     "execution_count": 77,
     "metadata": {},
     "output_type": "execute_result"
    }
   ],
   "source": [
    "n_features #1"
   ]
  },
  {
   "cell_type": "code",
   "execution_count": 78,
   "metadata": {},
   "outputs": [
    {
     "data": {
      "text/plain": [
       "((105506, 80, 3), (105506, 11), (26377, 80, 3), (26377, 11))"
      ]
     },
     "execution_count": 78,
     "metadata": {},
     "output_type": "execute_result"
    }
   ],
   "source": [
    "X_train.shape, y_train.shape, X_test.shape, y_test.shape"
   ]
  },
  {
   "cell_type": "code",
   "execution_count": 79,
   "metadata": {},
   "outputs": [
    {
     "name": "stdout",
     "output_type": "stream",
     "text": [
      "Epoch 1/25\n",
      "1649/1649 [==============================] - 69s 40ms/step - loss: 0.7375 - accuracy: 0.7659\n",
      "Epoch 2/25\n",
      "1649/1649 [==============================] - 66s 40ms/step - loss: 0.5105 - accuracy: 0.8372\n",
      "Epoch 3/25\n",
      "1649/1649 [==============================] - 65s 39ms/step - loss: 0.4462 - accuracy: 0.8587\n",
      "Epoch 4/25\n",
      "1649/1649 [==============================] - 65s 40ms/step - loss: 0.4044 - accuracy: 0.8723\n",
      "Epoch 5/25\n",
      "1649/1649 [==============================] - 66s 40ms/step - loss: 0.3723 - accuracy: 0.8815\n",
      "Epoch 6/25\n",
      "1649/1649 [==============================] - 67s 40ms/step - loss: 0.3519 - accuracy: 0.8885\n",
      "Epoch 7/25\n",
      "1649/1649 [==============================] - 67s 41ms/step - loss: 0.3316 - accuracy: 0.8954\n",
      "Epoch 8/25\n",
      "1649/1649 [==============================] - 67s 41ms/step - loss: 0.3162 - accuracy: 0.8992\n",
      "Epoch 9/25\n",
      "1649/1649 [==============================] - 67s 41ms/step - loss: 0.3067 - accuracy: 0.9025\n",
      "Epoch 10/25\n",
      "1649/1649 [==============================] - 68s 41ms/step - loss: 0.2942 - accuracy: 0.9063\n",
      "Epoch 11/25\n",
      "1649/1649 [==============================] - 63s 38ms/step - loss: 0.2847 - accuracy: 0.9092\n",
      "Epoch 12/25\n",
      "1649/1649 [==============================] - 59s 36ms/step - loss: 0.2790 - accuracy: 0.9121\n",
      "Epoch 13/25\n",
      "1649/1649 [==============================] - 63s 38ms/step - loss: 0.2729 - accuracy: 0.9132\n",
      "Epoch 14/25\n",
      "1649/1649 [==============================] - 62s 37ms/step - loss: 0.2665 - accuracy: 0.9151\n",
      "Epoch 15/25\n",
      "1649/1649 [==============================] - 61s 37ms/step - loss: 0.2624 - accuracy: 0.9166\n",
      "Epoch 16/25\n",
      "1649/1649 [==============================] - 62s 38ms/step - loss: 0.2576 - accuracy: 0.9179\n",
      "Epoch 17/25\n",
      "1649/1649 [==============================] - 63s 38ms/step - loss: 0.2528 - accuracy: 0.9192\n",
      "Epoch 18/25\n",
      "1649/1649 [==============================] - 67s 40ms/step - loss: 0.2474 - accuracy: 0.9201\n",
      "Epoch 19/25\n",
      "1649/1649 [==============================] - 67s 41ms/step - loss: 0.2439 - accuracy: 0.9216\n",
      "Epoch 20/25\n",
      "1649/1649 [==============================] - 60s 37ms/step - loss: 0.2418 - accuracy: 0.9225\n",
      "Epoch 21/25\n",
      "1649/1649 [==============================] - 73s 44ms/step - loss: 0.2388 - accuracy: 0.9230\n",
      "Epoch 22/25\n",
      "1649/1649 [==============================] - 68s 42ms/step - loss: 0.2343 - accuracy: 0.9245\n",
      "Epoch 23/25\n",
      "1649/1649 [==============================] - 70s 43ms/step - loss: 0.2319 - accuracy: 0.9255\n",
      "Epoch 24/25\n",
      "1649/1649 [==============================] - 56s 34ms/step - loss: 0.2292 - accuracy: 0.9257\n",
      "Epoch 25/25\n",
      "1649/1649 [==============================] - 69s 42ms/step - loss: 0.2250 - accuracy: 0.9281\n"
     ]
    }
   ],
   "source": [
    "verbose, epochs, batch_size = 0, 25, 64\n",
    "n_timesteps, n_features, n_outputs = X_train.shape[1], X_train.shape[2], y_train.shape[1]\n",
    "# reshape into subsequences (samples, time steps, rows, cols, channels)\n",
    "n_steps, n_length = 4, 20\n",
    "X_train = X_train.reshape((X_train.shape[0], n_steps, 1, n_length, n_features))\n",
    "X_test = X_test.reshape((X_test.shape[0], n_steps, 1, n_length, n_features))\n",
    "# define model\n",
    "model = Sequential()\n",
    "model.add(ConvLSTM2D(filters=64, kernel_size=(1,3), activation='relu')) #input_shape=(n_steps, 1, n_length, n_features)))\n",
    "model.add(Dropout(0.5))\n",
    "model.add(Flatten())\n",
    "model.add(Dense(100, activation='relu'))\n",
    "model.add(Dense(n_outputs, activation='softmax'))\n",
    "model.compile(loss='categorical_crossentropy', optimizer='adam', metrics=['accuracy'])\n",
    "# fit network\n",
    "model.fit(X_train, y_train, epochs=epochs, batch_size=batch_size, verbose=1)\n",
    "# evaluate model\n",
    "_, accuracy = model.evaluate(X_test, y_test, batch_size=batch_size, verbose=0)"
   ]
  },
  {
   "cell_type": "code",
   "execution_count": 80,
   "metadata": {},
   "outputs": [
    {
     "data": {
      "text/plain": [
       "((105506, 4, 1, 20, 3), (105506, 11), (26377, 4, 1, 20, 3), (26377, 11))"
      ]
     },
     "execution_count": 80,
     "metadata": {},
     "output_type": "execute_result"
    }
   ],
   "source": [
    "X_train.shape, y_train.shape, X_test.shape, y_test.shape"
   ]
  },
  {
   "cell_type": "code",
   "execution_count": null,
   "metadata": {},
   "outputs": [],
   "source": [
    "model.summary()"
   ]
  },
  {
   "cell_type": "code",
   "execution_count": 81,
   "metadata": {},
   "outputs": [
    {
     "name": "stderr",
     "output_type": "stream",
     "text": [
      "/Users/ozge.bursa/opt/anaconda3/lib/python3.7/site-packages/tensorflow/python/keras/engine/sequential.py:455: UserWarning: `model.predict_classes()` is deprecated and will be removed after 2021-01-01. Please use instead:* `np.argmax(model.predict(x), axis=-1)`,   if your model does multi-class classification   (e.g. if it uses a `softmax` last-layer activation).* `(model.predict(x) > 0.5).astype(\"int32\")`,   if your model does binary classification   (e.g. if it uses a `sigmoid` last-layer activation).\n",
      "  warnings.warn('`model.predict_classes()` is deprecated and '\n"
     ]
    },
    {
     "name": "stdout",
     "output_type": "stream",
     "text": [
      "CPU times: user 11.1 s, sys: 3.95 s, total: 15 s\n",
      "Wall time: 4.27 s\n"
     ]
    }
   ],
   "source": [
    "%time y_pred = model.predict_classes(X_test)"
   ]
  },
  {
   "cell_type": "code",
   "execution_count": 82,
   "metadata": {},
   "outputs": [
    {
     "data": {
      "text/plain": [
       "array([10,  3, 10, ..., 10,  7,  7])"
      ]
     },
     "execution_count": 82,
     "metadata": {},
     "output_type": "execute_result"
    }
   ],
   "source": [
    "y_pred"
   ]
  },
  {
   "cell_type": "code",
   "execution_count": 83,
   "metadata": {},
   "outputs": [
    {
     "data": {
      "text/plain": [
       "array([10,  3, 10, ..., 10,  7,  7])"
      ]
     },
     "execution_count": 83,
     "metadata": {},
     "output_type": "execute_result"
    }
   ],
   "source": [
    "np.argmax(y_test, axis=1)"
   ]
  },
  {
   "cell_type": "code",
   "execution_count": 84,
   "metadata": {},
   "outputs": [
    {
     "data": {
      "text/plain": [
       "array(['CHU', 'CSI', 'CSO', 'JOG', 'JUM', 'SCH', 'SIT', 'STD', 'STN',\n",
       "       'STU', 'WAL'], dtype=object)"
      ]
     },
     "execution_count": 84,
     "metadata": {},
     "output_type": "execute_result"
    }
   ],
   "source": [
    "label.classes_"
   ]
  },
  {
   "cell_type": "code",
   "execution_count": null,
   "metadata": {},
   "outputs": [],
   "source": [
    "model.save('../models/mobiact_convlstm2d.h5')"
   ]
  },
  {
   "cell_type": "code",
   "execution_count": 85,
   "metadata": {},
   "outputs": [
    {
     "data": {
      "text/plain": [
       "((105506, 4, 1, 20, 3), (105506, 11), (26377, 4, 1, 20, 3), (26377, 11))"
      ]
     },
     "execution_count": 85,
     "metadata": {},
     "output_type": "execute_result"
    }
   ],
   "source": [
    "X_train.shape, y_train.shape, X_test.shape, y_test.shape"
   ]
  },
  {
   "cell_type": "code",
   "execution_count": 86,
   "metadata": {},
   "outputs": [
    {
     "name": "stdout",
     "output_type": "stream",
     "text": [
      "0.9204610076960988\n"
     ]
    }
   ],
   "source": [
    "print(accuracy_score(np.argmax(y_test, axis=1), y_pred))"
   ]
  },
  {
   "cell_type": "markdown",
   "metadata": {},
   "source": [
    "## TFLITE CONVERTER"
   ]
  },
  {
   "cell_type": "code",
   "execution_count": null,
   "metadata": {},
   "outputs": [],
   "source": [
    "TFLITE_MODEL = '../tflite_models/mobiact/model_keras_lite.tflite'\n",
    "TFLITE_DYNAMIC_MODEL = '../tflite_models/mobiact/model_keras_lite_dynamic.tflite'\n",
    "TFLITE_FLOAT16_MODEL = '../tflite_models/mobiact/model_keras_lite_float16.tflite'"
   ]
  },
  {
   "cell_type": "code",
   "execution_count": null,
   "metadata": {},
   "outputs": [],
   "source": [
    "# Convert the model \n",
    "converter = tf.lite.TFLiteConverter.from_keras_model(model) # path to the SavedModel directory\n",
    "tflite_model = converter.convert()"
   ]
  },
  {
   "cell_type": "code",
   "execution_count": null,
   "metadata": {},
   "outputs": [],
   "source": [
    "# Save the model.\n",
    "with open(TFLITE_MODEL, 'wb') as f:\n",
    "  f.write(tflite_model)"
   ]
  },
  {
   "cell_type": "code",
   "execution_count": null,
   "metadata": {},
   "outputs": [],
   "source": [
    "# Convert the model \n",
    "# Dynamic\n",
    "converter = tf.lite.TFLiteConverter.from_keras_model(model) # path to the SavedModel directory\n",
    "converter.optimizations = [tf.lite.Optimize.DEFAULT]\n",
    "tflite_quant_model_dynamic = converter.convert()"
   ]
  },
  {
   "cell_type": "code",
   "execution_count": null,
   "metadata": {},
   "outputs": [],
   "source": [
    "# Save the model.\n",
    "with open(TFLITE_DYNAMIC_MODEL, 'wb') as f:\n",
    "  f.write(tflite_quant_model_dynamic)"
   ]
  },
  {
   "cell_type": "code",
   "execution_count": null,
   "metadata": {},
   "outputs": [],
   "source": [
    "# Convert the model \n",
    "# Float16\n",
    "converter = tf.lite.TFLiteConverter.from_keras_model(model)\n",
    "converter.optimizations = [tf.lite.Optimize.DEFAULT]\n",
    "converter.target_spec.supported_types = [tf.float16]\n",
    "tflite_quant_model_float16 = converter.convert()"
   ]
  },
  {
   "cell_type": "code",
   "execution_count": null,
   "metadata": {},
   "outputs": [],
   "source": [
    "# Save the model.\n",
    "with open(TFLITE_FLOAT16_MODEL, 'wb') as f:\n",
    "  f.write(tflite_quant_model_float16)"
   ]
  },
  {
   "cell_type": "code",
   "execution_count": null,
   "metadata": {},
   "outputs": [],
   "source": [
    "'''\n",
    "def representative_dataset():\n",
    "    for _ in range(100):\n",
    "      data = np.random.rand(1, 244, 244, 3)\n",
    "      yield [data.astype(np.float32)]\n",
    "        \n",
    "converter = tf.lite.TFLiteConverter.from_keras_model(model)\n",
    "converter.representative_dataset = representative_dataset\n",
    "converter.optimizations = [tf.lite.Optimize.DEFAULT]\n",
    "converter.target_spec.supported_ops = [tf.lite.OpsSet.EXPERIMENTAL_TFLITE_BUILTINS_ACTIVATIONS_INT16_WEIGHTS_INT8]\n",
    "tflite_quant_model_int_16_8 = converter.convert()\n",
    "'''"
   ]
  },
  {
   "cell_type": "markdown",
   "metadata": {},
   "source": [
    "## TFLITE INTERPRETER"
   ]
  },
  {
   "cell_type": "markdown",
   "metadata": {},
   "source": [
    "## TFLITE"
   ]
  },
  {
   "cell_type": "code",
   "execution_count": null,
   "metadata": {},
   "outputs": [],
   "source": [
    "# Load the TFLite model and allocate tensors.  \n",
    "interpreter = tf.lite.Interpreter(model_path=TFLITE_MODEL, num_threads=2)    #(model_content=tflite_model) \n",
    "interpreter.allocate_tensors()"
   ]
  },
  {
   "cell_type": "code",
   "execution_count": null,
   "metadata": {},
   "outputs": [],
   "source": [
    "# Get input and output tensors.    \n",
    "input_det = interpreter.get_input_details()[0]\n",
    "output_det = interpreter.get_output_details()[0]"
   ]
  },
  {
   "cell_type": "code",
   "execution_count": null,
   "metadata": {},
   "outputs": [],
   "source": [
    "input_det"
   ]
  },
  {
   "cell_type": "code",
   "execution_count": null,
   "metadata": {},
   "outputs": [],
   "source": [
    "output_det"
   ]
  },
  {
   "cell_type": "code",
   "execution_count": null,
   "metadata": {},
   "outputs": [],
   "source": [
    "input_index = input_det[\"index\"]\n",
    "output_index = output_det[\"index\"]\n",
    "input_shape = input_det[\"shape\"]\n",
    "output_shape = output_det[\"shape\"]\n",
    "input_dtype = input_det[\"dtype\"]\n",
    "output_dtype = output_det[\"dtype\"]"
   ]
  },
  {
   "cell_type": "code",
   "execution_count": null,
   "metadata": {},
   "outputs": [],
   "source": [
    "input_index, output_index, input_shape, output_shape, input_dtype, output_dtype"
   ]
  },
  {
   "cell_type": "code",
   "execution_count": null,
   "metadata": {},
   "outputs": [],
   "source": [
    "X_train.shape, y_train.shape, X_test.shape, y_test.shape"
   ]
  },
  {
   "cell_type": "code",
   "execution_count": null,
   "metadata": {},
   "outputs": [],
   "source": [
    "def predict(inp, input_dtype, output_shape, output_dtype, interpreter, input_index, output_index):\n",
    "    inp = inp.astype(input_dtype)\n",
    "    count = inp.shape[0]\n",
    "    out = np.zeros((count, output_shape[1]), dtype=output_dtype)\n",
    "    for i in range(count):\n",
    "        interpreter.set_tensor(input_index, inp[i:i+1])\n",
    "        interpreter.invoke()\n",
    "        out[i] = interpreter.get_tensor(output_index)[0]\n",
    "    return out"
   ]
  },
  {
   "cell_type": "code",
   "execution_count": null,
   "metadata": {},
   "outputs": [],
   "source": [
    "%time y_pred_lite = predict(X_test, input_dtype, output_shape, output_dtype, interpreter, input_index, output_index)"
   ]
  },
  {
   "cell_type": "code",
   "execution_count": null,
   "metadata": {},
   "outputs": [],
   "source": [
    "y_pred_lite.shape"
   ]
  },
  {
   "cell_type": "code",
   "execution_count": null,
   "metadata": {},
   "outputs": [],
   "source": [
    "y_pred_lite = np.argmax(y_pred_lite, axis=1) \n",
    "y_pred_lite"
   ]
  },
  {
   "cell_type": "markdown",
   "metadata": {},
   "source": [
    "## TFLITE DYNAMIC"
   ]
  },
  {
   "cell_type": "code",
   "execution_count": null,
   "metadata": {},
   "outputs": [],
   "source": [
    "# Load the TFLite model and allocate tensors.  \n",
    "interpreter = tf.lite.Interpreter(model_path=TFLITE_DYNAMIC_MODEL, num_threads=4)    #(model_content=tflite_model) \n",
    "interpreter.allocate_tensors()\n",
    "\n",
    "# Get input and output tensors.    \n",
    "input_det = interpreter.get_input_details()[0]\n",
    "output_det = interpreter.get_output_details()[0]\n",
    "\n",
    "input_index = input_det[\"index\"]\n",
    "output_index = output_det[\"index\"]\n",
    "input_shape = input_det[\"shape\"]\n",
    "output_shape = output_det[\"shape\"]\n",
    "input_dtype = input_det[\"dtype\"]\n",
    "output_dtype = output_det[\"dtype\"]"
   ]
  },
  {
   "cell_type": "code",
   "execution_count": null,
   "metadata": {},
   "outputs": [],
   "source": [
    "%time y_pred_lite_dynamic = predict(X_test, input_dtype, output_shape, output_dtype, interpreter, input_index, output_index)"
   ]
  },
  {
   "cell_type": "code",
   "execution_count": null,
   "metadata": {},
   "outputs": [],
   "source": [
    "y_pred_lite_dynamic = np.argmax(y_pred_lite_dynamic, axis=1) \n",
    "y_pred_lite_dynamic"
   ]
  },
  {
   "cell_type": "markdown",
   "metadata": {},
   "source": [
    "## TFLITE FLOAT16"
   ]
  },
  {
   "cell_type": "code",
   "execution_count": null,
   "metadata": {},
   "outputs": [],
   "source": [
    "# Load the TFLite model and allocate tensors.  \n",
    "interpreter = tf.lite.Interpreter(model_path=TFLITE_FLOAT16_MODEL, num_threads=2)    #(model_content=tflite_model) \n",
    "interpreter.allocate_tensors()\n",
    "\n",
    "# Get input and output tensors.    \n",
    "input_det = interpreter.get_input_details()[0]\n",
    "output_det = interpreter.get_output_details()[0]\n",
    "\n",
    "input_index = input_det[\"index\"]\n",
    "output_index = output_det[\"index\"]\n",
    "input_shape = input_det[\"shape\"]\n",
    "output_shape = output_det[\"shape\"]\n",
    "input_dtype = input_det[\"dtype\"]\n",
    "output_dtype = output_det[\"dtype\"]"
   ]
  },
  {
   "cell_type": "code",
   "execution_count": null,
   "metadata": {},
   "outputs": [],
   "source": [
    "input_shape"
   ]
  },
  {
   "cell_type": "code",
   "execution_count": null,
   "metadata": {},
   "outputs": [],
   "source": [
    "%time y_pred_lite_float16 = predict(X_test, input_dtype, output_shape, output_dtype, interpreter, input_index, output_index)"
   ]
  },
  {
   "cell_type": "code",
   "execution_count": null,
   "metadata": {},
   "outputs": [],
   "source": [
    "y_pred_lite_float16 = np.argmax(y_pred_lite_float16, axis=1) \n",
    "y_pred_lite_float16"
   ]
  },
  {
   "cell_type": "code",
   "execution_count": null,
   "metadata": {},
   "outputs": [],
   "source": [
    "\n",
    "with tf.device('/gpu:0'):\n",
    "    %time y_pred_lite_float16 = predict(X_test, input_dtype, output_shape, output_dtype, interpreter, input_index, output_index)\n"
   ]
  },
  {
   "cell_type": "code",
   "execution_count": null,
   "metadata": {},
   "outputs": [],
   "source": [
    "\n",
    "with tf.device('/cpu:0'):\n",
    "    %time y_pred_lite_float16 = predict(X_test, input_dtype, output_shape, output_dtype, interpreter, input_index, output_index)\n"
   ]
  },
  {
   "cell_type": "code",
   "execution_count": null,
   "metadata": {},
   "outputs": [],
   "source": [
    "print(\"Num GPUs Available: \", len(tf.config.list_physical_devices('GPU')))"
   ]
  },
  {
   "cell_type": "markdown",
   "metadata": {},
   "source": [
    "## Ploting Confusion Matrix"
   ]
  },
  {
   "cell_type": "markdown",
   "metadata": {},
   "source": [
    "model.save_weights('cnn_model.h5')"
   ]
  },
  {
   "cell_type": "code",
   "execution_count": null,
   "metadata": {},
   "outputs": [],
   "source": [
    "from sklearn.metrics import accuracy_score\n",
    "print(accuracy_score(y_test, y_pred))"
   ]
  },
  {
   "cell_type": "code",
   "execution_count": null,
   "metadata": {},
   "outputs": [],
   "source": [
    "print(accuracy_score(y_test, y_pred_lite))"
   ]
  },
  {
   "cell_type": "code",
   "execution_count": null,
   "metadata": {},
   "outputs": [],
   "source": [
    "print(accuracy_score(y_test, y_pred_lite_dynamic))"
   ]
  },
  {
   "cell_type": "code",
   "execution_count": null,
   "metadata": {},
   "outputs": [],
   "source": [
    "print(accuracy_score(y_test, y_pred_lite_float16))"
   ]
  },
  {
   "cell_type": "code",
   "execution_count": null,
   "metadata": {},
   "outputs": [],
   "source": [
    "from sklearn.metrics import confusion_matrix\n",
    "import seaborn as sns\n",
    "def plot_cm_new(y_true, y_pred, class_names):\n",
    "  cm = confusion_matrix(y_true, y_pred)\n",
    "  fig, ax = plt.subplots(figsize=(18, 16)) \n",
    "  ax = sns.heatmap(\n",
    "      cm, \n",
    "      annot=True, \n",
    "      fmt=\"d\", \n",
    "      cmap=sns.color_palette(\"muted\"),\n",
    "      ax=ax\n",
    "  )\n",
    "\n",
    "  plt.ylabel('Actual')\n",
    "  plt.xlabel('Predicted')\n",
    "  ax.set_xticklabels(class_names)\n",
    "  ax.set_yticklabels(class_names)\n",
    "  b, t = plt.ylim() # discover the values for bottom and top\n",
    "  b += 0.5 # Add 0.5 to the bottom\n",
    "  t -= 0.5 # Subtract 0.5 from the top\n",
    "  plt.ylim(b, t) # update the ylim(bottom, top) values\n",
    "  #plt.show() # ta-da!\n",
    "  plt.savefig(\"confusion_matrix_cnn_im.png\")"
   ]
  },
  {
   "cell_type": "code",
   "execution_count": null,
   "metadata": {},
   "outputs": [],
   "source": [
    "plot_cm_new(\n",
    "  label.inverse_transform(y_test),\n",
    "  label.inverse_transform(y_pred),\n",
    "  label.classes_\n",
    ")"
   ]
  },
  {
   "cell_type": "code",
   "execution_count": null,
   "metadata": {},
   "outputs": [],
   "source": [
    "label.classes_"
   ]
  },
  {
   "cell_type": "code",
   "execution_count": null,
   "metadata": {},
   "outputs": [],
   "source": [
    "# Confusion Matrix\n",
    "from sklearn.metrics import confusion_matrix\n",
    "print(confusion_matrix(label.inverse_transform(y_test), label.inverse_transform(y_pred)))\n",
    "# Accuracy\n",
    "from sklearn.metrics import accuracy_score\n",
    "print(accuracy_score(label.inverse_transform(y_test), label.inverse_transform(y_pred)))\n",
    "# Recall\n",
    "from sklearn.metrics import recall_score\n",
    "print(recall_score(label.inverse_transform(y_test), label.inverse_transform(y_pred), average=None))\n",
    "# Precision\n",
    "from sklearn.metrics import precision_score\n",
    "print(precision_score(label.inverse_transform(y_test), label.inverse_transform(y_pred), average=None))\n",
    "# F1 score\n",
    "from sklearn.metrics import f1_score\n",
    "f1_score(label.inverse_transform(y_test), label.inverse_transform(y_pred), average=None)"
   ]
  },
  {
   "cell_type": "code",
   "execution_count": null,
   "metadata": {},
   "outputs": [],
   "source": []
  },
  {
   "cell_type": "code",
   "execution_count": null,
   "metadata": {},
   "outputs": [],
   "source": []
  }
 ],
 "metadata": {
  "kernelspec": {
   "display_name": "Python 3",
   "language": "python",
   "name": "python3"
  },
  "language_info": {
   "codemirror_mode": {
    "name": "ipython",
    "version": 3
   },
   "file_extension": ".py",
   "mimetype": "text/x-python",
   "name": "python",
   "nbconvert_exporter": "python",
   "pygments_lexer": "ipython3",
   "version": "3.7.4"
  }
 },
 "nbformat": 4,
 "nbformat_minor": 4
}
