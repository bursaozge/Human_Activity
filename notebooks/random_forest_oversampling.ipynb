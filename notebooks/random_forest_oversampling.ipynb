{
 "cells": [
  {
   "cell_type": "markdown",
   "metadata": {},
   "source": [
    "## Importing Packages"
   ]
  },
  {
   "cell_type": "code",
   "execution_count": 1,
   "metadata": {},
   "outputs": [
    {
     "name": "stderr",
     "output_type": "stream",
     "text": [
      "/Users/ozge.bursa/opt/anaconda3/lib/python3.7/site-packages/statsmodels/tools/_testing.py:19: FutureWarning: pandas.util.testing is deprecated. Use the functions in the public API at pandas.testing instead.\n",
      "  import pandas.util.testing as tm\n"
     ]
    }
   ],
   "source": [
    "import pandas as pd\n",
    "import numpy as np\n",
    "import matplotlib.pyplot as plt\n",
    "import seaborn as sns\n",
    "from sklearn.model_selection import train_test_split\n",
    "from sklearn.ensemble import RandomForestClassifier\n",
    "from sklearn.preprocessing import LabelEncoder\n",
    "from sklearn.metrics import confusion_matrix\n",
    "from sklearn.model_selection import GridSearchCV\n",
    "\n",
    "pd.set_option('display.max_columns', 500)"
   ]
  },
  {
   "cell_type": "markdown",
   "metadata": {},
   "source": [
    "## Reading CSV Data"
   ]
  },
  {
   "cell_type": "code",
   "execution_count": 2,
   "metadata": {
    "scrolled": true
   },
   "outputs": [
    {
     "data": {
      "text/html": [
       "<div>\n",
       "<style scoped>\n",
       "    .dataframe tbody tr th:only-of-type {\n",
       "        vertical-align: middle;\n",
       "    }\n",
       "\n",
       "    .dataframe tbody tr th {\n",
       "        vertical-align: top;\n",
       "    }\n",
       "\n",
       "    .dataframe thead th {\n",
       "        text-align: right;\n",
       "    }\n",
       "</style>\n",
       "<table border=\"1\" class=\"dataframe\">\n",
       "  <thead>\n",
       "    <tr style=\"text-align: right;\">\n",
       "      <th></th>\n",
       "      <th>user</th>\n",
       "      <th>X0</th>\n",
       "      <th>X1</th>\n",
       "      <th>X2</th>\n",
       "      <th>X3</th>\n",
       "      <th>X4</th>\n",
       "      <th>X5</th>\n",
       "      <th>X6</th>\n",
       "      <th>X7</th>\n",
       "      <th>X8</th>\n",
       "      <th>X9</th>\n",
       "      <th>Y0</th>\n",
       "      <th>Y1</th>\n",
       "      <th>Y2</th>\n",
       "      <th>Y3</th>\n",
       "      <th>Y4</th>\n",
       "      <th>Y5</th>\n",
       "      <th>Y6</th>\n",
       "      <th>Y7</th>\n",
       "      <th>Y8</th>\n",
       "      <th>Y9</th>\n",
       "      <th>Z0</th>\n",
       "      <th>Z1</th>\n",
       "      <th>Z2</th>\n",
       "      <th>Z3</th>\n",
       "      <th>Z4</th>\n",
       "      <th>Z5</th>\n",
       "      <th>Z6</th>\n",
       "      <th>Z7</th>\n",
       "      <th>Z8</th>\n",
       "      <th>Z9</th>\n",
       "      <th>XAVG</th>\n",
       "      <th>YAVG</th>\n",
       "      <th>ZAVG</th>\n",
       "      <th>XPEAK</th>\n",
       "      <th>YPEAK</th>\n",
       "      <th>ZPEAK</th>\n",
       "      <th>XABSOLDEV</th>\n",
       "      <th>YABSOLDEV</th>\n",
       "      <th>ZABSOLDEV</th>\n",
       "      <th>XSTANDDEV</th>\n",
       "      <th>YSTANDDEV</th>\n",
       "      <th>ZSTANDDEV</th>\n",
       "      <th>RESULTANT</th>\n",
       "      <th>class</th>\n",
       "    </tr>\n",
       "  </thead>\n",
       "  <tbody>\n",
       "    <tr>\n",
       "      <th>0</th>\n",
       "      <td>33</td>\n",
       "      <td>0.04</td>\n",
       "      <td>0.09</td>\n",
       "      <td>0.14</td>\n",
       "      <td>0.12</td>\n",
       "      <td>0.11</td>\n",
       "      <td>0.10</td>\n",
       "      <td>0.08</td>\n",
       "      <td>0.13</td>\n",
       "      <td>0.13</td>\n",
       "      <td>0.08</td>\n",
       "      <td>0.09</td>\n",
       "      <td>0.10</td>\n",
       "      <td>0.11</td>\n",
       "      <td>0.11</td>\n",
       "      <td>0.08</td>\n",
       "      <td>0.04</td>\n",
       "      <td>0.16</td>\n",
       "      <td>0.13</td>\n",
       "      <td>0.10</td>\n",
       "      <td>0.03</td>\n",
       "      <td>0.12</td>\n",
       "      <td>0.08</td>\n",
       "      <td>0.09</td>\n",
       "      <td>0.12</td>\n",
       "      <td>0.10</td>\n",
       "      <td>0.10</td>\n",
       "      <td>0.08</td>\n",
       "      <td>0.11</td>\n",
       "      <td>0.12</td>\n",
       "      <td>0.10</td>\n",
       "      <td>0</td>\n",
       "      <td>8.40</td>\n",
       "      <td>1.76</td>\n",
       "      <td>2075.00</td>\n",
       "      <td>293.94</td>\n",
       "      <td>1550.00</td>\n",
       "      <td>3.29</td>\n",
       "      <td>7.21</td>\n",
       "      <td>4.00</td>\n",
       "      <td>4.05</td>\n",
       "      <td>8.17</td>\n",
       "      <td>4.05</td>\n",
       "      <td>11.96</td>\n",
       "      <td>Jogging</td>\n",
       "    </tr>\n",
       "    <tr>\n",
       "      <th>1</th>\n",
       "      <td>33</td>\n",
       "      <td>0.12</td>\n",
       "      <td>0.12</td>\n",
       "      <td>0.06</td>\n",
       "      <td>0.07</td>\n",
       "      <td>0.11</td>\n",
       "      <td>0.10</td>\n",
       "      <td>0.11</td>\n",
       "      <td>0.09</td>\n",
       "      <td>0.12</td>\n",
       "      <td>0.10</td>\n",
       "      <td>0.12</td>\n",
       "      <td>0.11</td>\n",
       "      <td>0.07</td>\n",
       "      <td>0.10</td>\n",
       "      <td>0.13</td>\n",
       "      <td>0.13</td>\n",
       "      <td>0.06</td>\n",
       "      <td>0.11</td>\n",
       "      <td>0.10</td>\n",
       "      <td>0.04</td>\n",
       "      <td>0.11</td>\n",
       "      <td>0.11</td>\n",
       "      <td>0.11</td>\n",
       "      <td>0.09</td>\n",
       "      <td>0.12</td>\n",
       "      <td>0.10</td>\n",
       "      <td>0.11</td>\n",
       "      <td>0.10</td>\n",
       "      <td>0.07</td>\n",
       "      <td>0.08</td>\n",
       "      <td>0</td>\n",
       "      <td>7.62</td>\n",
       "      <td>1.43</td>\n",
       "      <td>1525.00</td>\n",
       "      <td>269.44</td>\n",
       "      <td>1233.33</td>\n",
       "      <td>4.23</td>\n",
       "      <td>6.88</td>\n",
       "      <td>4.05</td>\n",
       "      <td>5.43</td>\n",
       "      <td>8.19</td>\n",
       "      <td>5.43</td>\n",
       "      <td>12.05</td>\n",
       "      <td>Jogging</td>\n",
       "    </tr>\n",
       "    <tr>\n",
       "      <th>2</th>\n",
       "      <td>33</td>\n",
       "      <td>0.14</td>\n",
       "      <td>0.09</td>\n",
       "      <td>0.11</td>\n",
       "      <td>0.09</td>\n",
       "      <td>0.09</td>\n",
       "      <td>0.11</td>\n",
       "      <td>0.12</td>\n",
       "      <td>0.08</td>\n",
       "      <td>0.05</td>\n",
       "      <td>0.12</td>\n",
       "      <td>0.09</td>\n",
       "      <td>0.10</td>\n",
       "      <td>0.12</td>\n",
       "      <td>0.10</td>\n",
       "      <td>0.10</td>\n",
       "      <td>0.12</td>\n",
       "      <td>0.08</td>\n",
       "      <td>0.07</td>\n",
       "      <td>0.10</td>\n",
       "      <td>0.06</td>\n",
       "      <td>0.07</td>\n",
       "      <td>0.11</td>\n",
       "      <td>0.10</td>\n",
       "      <td>0.09</td>\n",
       "      <td>0.08</td>\n",
       "      <td>0.11</td>\n",
       "      <td>0.11</td>\n",
       "      <td>0.09</td>\n",
       "      <td>0.10</td>\n",
       "      <td>0.12</td>\n",
       "      <td>0</td>\n",
       "      <td>7.77</td>\n",
       "      <td>2.39</td>\n",
       "      <td>1766.67</td>\n",
       "      <td>248.65</td>\n",
       "      <td>1780.00</td>\n",
       "      <td>4.18</td>\n",
       "      <td>6.89</td>\n",
       "      <td>4.07</td>\n",
       "      <td>5.55</td>\n",
       "      <td>8.19</td>\n",
       "      <td>5.55</td>\n",
       "      <td>11.99</td>\n",
       "      <td>Jogging</td>\n",
       "    </tr>\n",
       "    <tr>\n",
       "      <th>3</th>\n",
       "      <td>33</td>\n",
       "      <td>0.06</td>\n",
       "      <td>0.10</td>\n",
       "      <td>0.09</td>\n",
       "      <td>0.09</td>\n",
       "      <td>0.11</td>\n",
       "      <td>0.07</td>\n",
       "      <td>0.12</td>\n",
       "      <td>0.10</td>\n",
       "      <td>0.14</td>\n",
       "      <td>0.14</td>\n",
       "      <td>0.12</td>\n",
       "      <td>0.08</td>\n",
       "      <td>0.11</td>\n",
       "      <td>0.10</td>\n",
       "      <td>0.10</td>\n",
       "      <td>0.11</td>\n",
       "      <td>0.11</td>\n",
       "      <td>0.10</td>\n",
       "      <td>0.08</td>\n",
       "      <td>0.11</td>\n",
       "      <td>0.10</td>\n",
       "      <td>0.10</td>\n",
       "      <td>0.11</td>\n",
       "      <td>0.10</td>\n",
       "      <td>0.09</td>\n",
       "      <td>0.07</td>\n",
       "      <td>0.12</td>\n",
       "      <td>0.14</td>\n",
       "      <td>0.07</td>\n",
       "      <td>0.11</td>\n",
       "      <td>0</td>\n",
       "      <td>9.57</td>\n",
       "      <td>0.49</td>\n",
       "      <td>2525.00</td>\n",
       "      <td>709.09</td>\n",
       "      <td>1380.00</td>\n",
       "      <td>2.26</td>\n",
       "      <td>4.13</td>\n",
       "      <td>2.49</td>\n",
       "      <td>2.87</td>\n",
       "      <td>4.95</td>\n",
       "      <td>2.87</td>\n",
       "      <td>10.69</td>\n",
       "      <td>Walking</td>\n",
       "    </tr>\n",
       "    <tr>\n",
       "      <th>4</th>\n",
       "      <td>33</td>\n",
       "      <td>0.12</td>\n",
       "      <td>0.11</td>\n",
       "      <td>0.10</td>\n",
       "      <td>0.08</td>\n",
       "      <td>0.10</td>\n",
       "      <td>0.14</td>\n",
       "      <td>0.10</td>\n",
       "      <td>0.11</td>\n",
       "      <td>0.08</td>\n",
       "      <td>0.07</td>\n",
       "      <td>0.10</td>\n",
       "      <td>0.11</td>\n",
       "      <td>0.07</td>\n",
       "      <td>0.09</td>\n",
       "      <td>0.10</td>\n",
       "      <td>0.11</td>\n",
       "      <td>0.10</td>\n",
       "      <td>0.11</td>\n",
       "      <td>0.14</td>\n",
       "      <td>0.09</td>\n",
       "      <td>0.10</td>\n",
       "      <td>0.09</td>\n",
       "      <td>0.11</td>\n",
       "      <td>0.10</td>\n",
       "      <td>0.11</td>\n",
       "      <td>0.11</td>\n",
       "      <td>0.08</td>\n",
       "      <td>0.09</td>\n",
       "      <td>0.14</td>\n",
       "      <td>0.10</td>\n",
       "      <td>0</td>\n",
       "      <td>9.76</td>\n",
       "      <td>0.51</td>\n",
       "      <td>1075.00</td>\n",
       "      <td>3300.00</td>\n",
       "      <td>1775.00</td>\n",
       "      <td>2.29</td>\n",
       "      <td>3.94</td>\n",
       "      <td>2.41</td>\n",
       "      <td>3.08</td>\n",
       "      <td>4.64</td>\n",
       "      <td>3.08</td>\n",
       "      <td>10.80</td>\n",
       "      <td>Walking</td>\n",
       "    </tr>\n",
       "    <tr>\n",
       "      <th>5</th>\n",
       "      <td>33</td>\n",
       "      <td>0.09</td>\n",
       "      <td>0.09</td>\n",
       "      <td>0.10</td>\n",
       "      <td>0.12</td>\n",
       "      <td>0.08</td>\n",
       "      <td>0.06</td>\n",
       "      <td>0.09</td>\n",
       "      <td>0.08</td>\n",
       "      <td>0.07</td>\n",
       "      <td>0.08</td>\n",
       "      <td>0.07</td>\n",
       "      <td>0.10</td>\n",
       "      <td>0.11</td>\n",
       "      <td>0.08</td>\n",
       "      <td>0.08</td>\n",
       "      <td>0.08</td>\n",
       "      <td>0.09</td>\n",
       "      <td>0.08</td>\n",
       "      <td>0.07</td>\n",
       "      <td>0.09</td>\n",
       "      <td>0.08</td>\n",
       "      <td>0.10</td>\n",
       "      <td>0.06</td>\n",
       "      <td>0.09</td>\n",
       "      <td>0.09</td>\n",
       "      <td>0.11</td>\n",
       "      <td>0.08</td>\n",
       "      <td>0.08</td>\n",
       "      <td>0.07</td>\n",
       "      <td>0.08</td>\n",
       "      <td>0</td>\n",
       "      <td>7.73</td>\n",
       "      <td>0.31</td>\n",
       "      <td>3125.00</td>\n",
       "      <td>1337.50</td>\n",
       "      <td>2675.00</td>\n",
       "      <td>2.00</td>\n",
       "      <td>3.39</td>\n",
       "      <td>1.94</td>\n",
       "      <td>3.13</td>\n",
       "      <td>4.95</td>\n",
       "      <td>3.13</td>\n",
       "      <td>8.63</td>\n",
       "      <td>Walking</td>\n",
       "    </tr>\n",
       "    <tr>\n",
       "      <th>6</th>\n",
       "      <td>33</td>\n",
       "      <td>0.12</td>\n",
       "      <td>0.12</td>\n",
       "      <td>0.12</td>\n",
       "      <td>0.13</td>\n",
       "      <td>0.15</td>\n",
       "      <td>0.11</td>\n",
       "      <td>0.08</td>\n",
       "      <td>0.09</td>\n",
       "      <td>0.06</td>\n",
       "      <td>0.03</td>\n",
       "      <td>0.10</td>\n",
       "      <td>0.11</td>\n",
       "      <td>0.09</td>\n",
       "      <td>0.10</td>\n",
       "      <td>0.10</td>\n",
       "      <td>0.12</td>\n",
       "      <td>0.09</td>\n",
       "      <td>0.11</td>\n",
       "      <td>0.10</td>\n",
       "      <td>0.10</td>\n",
       "      <td>0.13</td>\n",
       "      <td>0.08</td>\n",
       "      <td>0.11</td>\n",
       "      <td>0.12</td>\n",
       "      <td>0.08</td>\n",
       "      <td>0.07</td>\n",
       "      <td>0.09</td>\n",
       "      <td>0.10</td>\n",
       "      <td>0.11</td>\n",
       "      <td>0.13</td>\n",
       "      <td>0</td>\n",
       "      <td>9.20</td>\n",
       "      <td>1.19</td>\n",
       "      <td>4900.00</td>\n",
       "      <td>1058.33</td>\n",
       "      <td>1825.00</td>\n",
       "      <td>1.56</td>\n",
       "      <td>2.55</td>\n",
       "      <td>1.72</td>\n",
       "      <td>2.09</td>\n",
       "      <td>3.20</td>\n",
       "      <td>2.09</td>\n",
       "      <td>9.87</td>\n",
       "      <td>Upstairs</td>\n",
       "    </tr>\n",
       "    <tr>\n",
       "      <th>7</th>\n",
       "      <td>33</td>\n",
       "      <td>0.10</td>\n",
       "      <td>0.10</td>\n",
       "      <td>0.10</td>\n",
       "      <td>0.10</td>\n",
       "      <td>0.11</td>\n",
       "      <td>0.11</td>\n",
       "      <td>0.09</td>\n",
       "      <td>0.09</td>\n",
       "      <td>0.12</td>\n",
       "      <td>0.12</td>\n",
       "      <td>0.09</td>\n",
       "      <td>0.11</td>\n",
       "      <td>0.10</td>\n",
       "      <td>0.08</td>\n",
       "      <td>0.10</td>\n",
       "      <td>0.12</td>\n",
       "      <td>0.08</td>\n",
       "      <td>0.10</td>\n",
       "      <td>0.11</td>\n",
       "      <td>0.11</td>\n",
       "      <td>0.08</td>\n",
       "      <td>0.11</td>\n",
       "      <td>0.10</td>\n",
       "      <td>0.10</td>\n",
       "      <td>0.12</td>\n",
       "      <td>0.10</td>\n",
       "      <td>0.13</td>\n",
       "      <td>0.10</td>\n",
       "      <td>0.07</td>\n",
       "      <td>0.10</td>\n",
       "      <td>0</td>\n",
       "      <td>9.30</td>\n",
       "      <td>1.40</td>\n",
       "      <td>800.00</td>\n",
       "      <td>1275.00</td>\n",
       "      <td>2983.33</td>\n",
       "      <td>1.84</td>\n",
       "      <td>2.69</td>\n",
       "      <td>1.41</td>\n",
       "      <td>2.22</td>\n",
       "      <td>3.35</td>\n",
       "      <td>2.22</td>\n",
       "      <td>9.91</td>\n",
       "      <td>Upstairs</td>\n",
       "    </tr>\n",
       "    <tr>\n",
       "      <th>8</th>\n",
       "      <td>33</td>\n",
       "      <td>0.08</td>\n",
       "      <td>0.07</td>\n",
       "      <td>0.08</td>\n",
       "      <td>0.08</td>\n",
       "      <td>0.05</td>\n",
       "      <td>0.08</td>\n",
       "      <td>0.14</td>\n",
       "      <td>0.10</td>\n",
       "      <td>0.15</td>\n",
       "      <td>0.16</td>\n",
       "      <td>0.12</td>\n",
       "      <td>0.09</td>\n",
       "      <td>0.09</td>\n",
       "      <td>0.12</td>\n",
       "      <td>0.11</td>\n",
       "      <td>0.08</td>\n",
       "      <td>0.11</td>\n",
       "      <td>0.09</td>\n",
       "      <td>0.10</td>\n",
       "      <td>0.10</td>\n",
       "      <td>0.08</td>\n",
       "      <td>0.09</td>\n",
       "      <td>0.10</td>\n",
       "      <td>0.10</td>\n",
       "      <td>0.10</td>\n",
       "      <td>0.11</td>\n",
       "      <td>0.11</td>\n",
       "      <td>0.12</td>\n",
       "      <td>0.12</td>\n",
       "      <td>0.08</td>\n",
       "      <td>0</td>\n",
       "      <td>9.06</td>\n",
       "      <td>1.38</td>\n",
       "      <td>1283.33</td>\n",
       "      <td>845.45</td>\n",
       "      <td>1533.33</td>\n",
       "      <td>2.26</td>\n",
       "      <td>2.70</td>\n",
       "      <td>1.30</td>\n",
       "      <td>2.68</td>\n",
       "      <td>3.40</td>\n",
       "      <td>2.68</td>\n",
       "      <td>9.78</td>\n",
       "      <td>Upstairs</td>\n",
       "    </tr>\n",
       "    <tr>\n",
       "      <th>9</th>\n",
       "      <td>33</td>\n",
       "      <td>0.01</td>\n",
       "      <td>0.00</td>\n",
       "      <td>0.00</td>\n",
       "      <td>0.01</td>\n",
       "      <td>0.01</td>\n",
       "      <td>0.01</td>\n",
       "      <td>0.01</td>\n",
       "      <td>0.01</td>\n",
       "      <td>0.00</td>\n",
       "      <td>0.00</td>\n",
       "      <td>0.00</td>\n",
       "      <td>0.00</td>\n",
       "      <td>0.00</td>\n",
       "      <td>0.01</td>\n",
       "      <td>0.01</td>\n",
       "      <td>0.01</td>\n",
       "      <td>0.02</td>\n",
       "      <td>0.01</td>\n",
       "      <td>0.00</td>\n",
       "      <td>0.00</td>\n",
       "      <td>0.01</td>\n",
       "      <td>0.02</td>\n",
       "      <td>0.00</td>\n",
       "      <td>0.01</td>\n",
       "      <td>0.00</td>\n",
       "      <td>0.00</td>\n",
       "      <td>0.01</td>\n",
       "      <td>0.00</td>\n",
       "      <td>0.00</td>\n",
       "      <td>0.00</td>\n",
       "      <td>0</td>\n",
       "      <td>0.39</td>\n",
       "      <td>-0.01</td>\n",
       "      <td>NaN</td>\n",
       "      <td>125.00</td>\n",
       "      <td>NaN</td>\n",
       "      <td>0.07</td>\n",
       "      <td>0.37</td>\n",
       "      <td>0.03</td>\n",
       "      <td>1.85</td>\n",
       "      <td>9.34</td>\n",
       "      <td>1.85</td>\n",
       "      <td>0.39</td>\n",
       "      <td>Upstairs</td>\n",
       "    </tr>\n",
       "  </tbody>\n",
       "</table>\n",
       "</div>"
      ],
      "text/plain": [
       "   user    X0    X1    X2    X3    X4    X5    X6    X7    X8    X9    Y0  \\\n",
       "0    33  0.04  0.09  0.14  0.12  0.11  0.10  0.08  0.13  0.13  0.08  0.09   \n",
       "1    33  0.12  0.12  0.06  0.07  0.11  0.10  0.11  0.09  0.12  0.10  0.12   \n",
       "2    33  0.14  0.09  0.11  0.09  0.09  0.11  0.12  0.08  0.05  0.12  0.09   \n",
       "3    33  0.06  0.10  0.09  0.09  0.11  0.07  0.12  0.10  0.14  0.14  0.12   \n",
       "4    33  0.12  0.11  0.10  0.08  0.10  0.14  0.10  0.11  0.08  0.07  0.10   \n",
       "5    33  0.09  0.09  0.10  0.12  0.08  0.06  0.09  0.08  0.07  0.08  0.07   \n",
       "6    33  0.12  0.12  0.12  0.13  0.15  0.11  0.08  0.09  0.06  0.03  0.10   \n",
       "7    33  0.10  0.10  0.10  0.10  0.11  0.11  0.09  0.09  0.12  0.12  0.09   \n",
       "8    33  0.08  0.07  0.08  0.08  0.05  0.08  0.14  0.10  0.15  0.16  0.12   \n",
       "9    33  0.01  0.00  0.00  0.01  0.01  0.01  0.01  0.01  0.00  0.00  0.00   \n",
       "\n",
       "     Y1    Y2    Y3    Y4    Y5    Y6    Y7    Y8    Y9    Z0    Z1    Z2  \\\n",
       "0  0.10  0.11  0.11  0.08  0.04  0.16  0.13  0.10  0.03  0.12  0.08  0.09   \n",
       "1  0.11  0.07  0.10  0.13  0.13  0.06  0.11  0.10  0.04  0.11  0.11  0.11   \n",
       "2  0.10  0.12  0.10  0.10  0.12  0.08  0.07  0.10  0.06  0.07  0.11  0.10   \n",
       "3  0.08  0.11  0.10  0.10  0.11  0.11  0.10  0.08  0.11  0.10  0.10  0.11   \n",
       "4  0.11  0.07  0.09  0.10  0.11  0.10  0.11  0.14  0.09  0.10  0.09  0.11   \n",
       "5  0.10  0.11  0.08  0.08  0.08  0.09  0.08  0.07  0.09  0.08  0.10  0.06   \n",
       "6  0.11  0.09  0.10  0.10  0.12  0.09  0.11  0.10  0.10  0.13  0.08  0.11   \n",
       "7  0.11  0.10  0.08  0.10  0.12  0.08  0.10  0.11  0.11  0.08  0.11  0.10   \n",
       "8  0.09  0.09  0.12  0.11  0.08  0.11  0.09  0.10  0.10  0.08  0.09  0.10   \n",
       "9  0.00  0.00  0.01  0.01  0.01  0.02  0.01  0.00  0.00  0.01  0.02  0.00   \n",
       "\n",
       "     Z3    Z4    Z5    Z6    Z7    Z8    Z9  XAVG  YAVG  ZAVG    XPEAK  \\\n",
       "0  0.12  0.10  0.10  0.08  0.11  0.12  0.10     0  8.40  1.76  2075.00   \n",
       "1  0.09  0.12  0.10  0.11  0.10  0.07  0.08     0  7.62  1.43  1525.00   \n",
       "2  0.09  0.08  0.11  0.11  0.09  0.10  0.12     0  7.77  2.39  1766.67   \n",
       "3  0.10  0.09  0.07  0.12  0.14  0.07  0.11     0  9.57  0.49  2525.00   \n",
       "4  0.10  0.11  0.11  0.08  0.09  0.14  0.10     0  9.76  0.51  1075.00   \n",
       "5  0.09  0.09  0.11  0.08  0.08  0.07  0.08     0  7.73  0.31  3125.00   \n",
       "6  0.12  0.08  0.07  0.09  0.10  0.11  0.13     0  9.20  1.19  4900.00   \n",
       "7  0.10  0.12  0.10  0.13  0.10  0.07  0.10     0  9.30  1.40   800.00   \n",
       "8  0.10  0.10  0.11  0.11  0.12  0.12  0.08     0  9.06  1.38  1283.33   \n",
       "9  0.01  0.00  0.00  0.01  0.00  0.00  0.00     0  0.39 -0.01      NaN   \n",
       "\n",
       "     YPEAK    ZPEAK  XABSOLDEV  YABSOLDEV  ZABSOLDEV  XSTANDDEV  YSTANDDEV  \\\n",
       "0   293.94  1550.00       3.29       7.21       4.00       4.05       8.17   \n",
       "1   269.44  1233.33       4.23       6.88       4.05       5.43       8.19   \n",
       "2   248.65  1780.00       4.18       6.89       4.07       5.55       8.19   \n",
       "3   709.09  1380.00       2.26       4.13       2.49       2.87       4.95   \n",
       "4  3300.00  1775.00       2.29       3.94       2.41       3.08       4.64   \n",
       "5  1337.50  2675.00       2.00       3.39       1.94       3.13       4.95   \n",
       "6  1058.33  1825.00       1.56       2.55       1.72       2.09       3.20   \n",
       "7  1275.00  2983.33       1.84       2.69       1.41       2.22       3.35   \n",
       "8   845.45  1533.33       2.26       2.70       1.30       2.68       3.40   \n",
       "9   125.00      NaN       0.07       0.37       0.03       1.85       9.34   \n",
       "\n",
       "   ZSTANDDEV  RESULTANT     class  \n",
       "0       4.05      11.96   Jogging  \n",
       "1       5.43      12.05   Jogging  \n",
       "2       5.55      11.99   Jogging  \n",
       "3       2.87      10.69   Walking  \n",
       "4       3.08      10.80   Walking  \n",
       "5       3.13       8.63   Walking  \n",
       "6       2.09       9.87  Upstairs  \n",
       "7       2.22       9.91  Upstairs  \n",
       "8       2.68       9.78  Upstairs  \n",
       "9       1.85       0.39  Upstairs  "
      ]
     },
     "execution_count": 2,
     "metadata": {},
     "output_type": "execute_result"
    }
   ],
   "source": [
    "df = pd.read_csv('../data/WISDM_ar_v1.1_transformed.csv', na_values=[\"?\"])\n",
    "df.drop([\"UNIQUE_ID\"],axis=1, inplace=True)\n",
    "df.head(10)"
   ]
  },
  {
   "cell_type": "code",
   "execution_count": 3,
   "metadata": {},
   "outputs": [
    {
     "data": {
      "text/plain": [
       "(5418, 45)"
      ]
     },
     "execution_count": 3,
     "metadata": {},
     "output_type": "execute_result"
    }
   ],
   "source": [
    "df.shape"
   ]
  },
  {
   "cell_type": "markdown",
   "metadata": {},
   "source": [
    "## Visualizing the Number Values in each Classes"
   ]
  },
  {
   "cell_type": "code",
   "execution_count": 4,
   "metadata": {},
   "outputs": [
    {
     "data": {
      "image/png": "[encoded data removed]",
      "text/plain": [
       "<Figure size 432x288 with 1 Axes>"
      ]
     },
     "metadata": {
      "needs_background": "light"
     },
     "output_type": "display_data"
    }
   ],
   "source": [
    "sns.countplot(df[\"class\"])\n",
    "plt.grid()\n",
    "plt.show()"
   ]
  },
  {
   "cell_type": "code",
   "execution_count": 5,
   "metadata": {},
   "outputs": [
    {
     "data": {
      "image/png": "[encoded data removed]",
      "text/plain": [
       "<Figure size 432x288 with 1 Axes>"
      ]
     },
     "metadata": {
      "needs_background": "light"
     },
     "output_type": "display_data"
    }
   ],
   "source": [
    "sns.countplot(df[\"user\"])\n",
    "plt.grid()\n",
    "plt.show()"
   ]
  },
  {
   "cell_type": "markdown",
   "metadata": {},
   "source": [
    "## transform non-numerical labels to numerical labels."
   ]
  },
  {
   "cell_type": "code",
   "execution_count": 6,
   "metadata": {},
   "outputs": [
    {
     "data": {
      "text/plain": [
       "array(['Downstairs', 'Jogging', 'Sitting', 'Standing', 'Upstairs',\n",
       "       'Walking'], dtype=object)"
      ]
     },
     "execution_count": 6,
     "metadata": {},
     "output_type": "execute_result"
    }
   ],
   "source": [
    "clEnc = LabelEncoder()\n",
    "df[\"class\"] = clEnc.fit_transform(df[\"class\"])\n",
    "clEnc.classes_"
   ]
  },
  {
   "cell_type": "markdown",
   "metadata": {},
   "source": [
    "## getting corrilation of each atributes with Dependent Variables"
   ]
  },
  {
   "cell_type": "code",
   "execution_count": 7,
   "metadata": {},
   "outputs": [
    {
     "ename": "ModuleNotFoundError",
     "evalue": "No module named 'numpy.core._multiarray_umath'",
     "output_type": "error",
     "traceback": [
      "\u001b[0;31m---------------------------------------------------------------------------\u001b[0m",
      "\u001b[0;31mModuleNotFoundError\u001b[0m                       Traceback (most recent call last)",
      "\u001b[0;31mModuleNotFoundError\u001b[0m: No module named 'numpy.core._multiarray_umath'"
     ]
    },
    {
     "data": {
      "text/html": [
       "<div>\n",
       "<style scoped>\n",
       "    .dataframe tbody tr th:only-of-type {\n",
       "        vertical-align: middle;\n",
       "    }\n",
       "\n",
       "    .dataframe tbody tr th {\n",
       "        vertical-align: top;\n",
       "    }\n",
       "\n",
       "    .dataframe thead th {\n",
       "        text-align: right;\n",
       "    }\n",
       "</style>\n",
       "<table border=\"1\" class=\"dataframe\">\n",
       "  <thead>\n",
       "    <tr style=\"text-align: right;\">\n",
       "      <th></th>\n",
       "      <th>user</th>\n",
       "      <th>class</th>\n",
       "    </tr>\n",
       "  </thead>\n",
       "  <tbody>\n",
       "    <tr>\n",
       "      <th>user</th>\n",
       "      <td>1.000000</td>\n",
       "      <td>NaN</td>\n",
       "    </tr>\n",
       "    <tr>\n",
       "      <th>X0</th>\n",
       "      <td>NaN</td>\n",
       "      <td>NaN</td>\n",
       "    </tr>\n",
       "    <tr>\n",
       "      <th>X1</th>\n",
       "      <td>NaN</td>\n",
       "      <td>NaN</td>\n",
       "    </tr>\n",
       "    <tr>\n",
       "      <th>X2</th>\n",
       "      <td>NaN</td>\n",
       "      <td>NaN</td>\n",
       "    </tr>\n",
       "    <tr>\n",
       "      <th>X3</th>\n",
       "      <td>NaN</td>\n",
       "      <td>NaN</td>\n",
       "    </tr>\n",
       "    <tr>\n",
       "      <th>X4</th>\n",
       "      <td>NaN</td>\n",
       "      <td>NaN</td>\n",
       "    </tr>\n",
       "    <tr>\n",
       "      <th>X5</th>\n",
       "      <td>NaN</td>\n",
       "      <td>NaN</td>\n",
       "    </tr>\n",
       "    <tr>\n",
       "      <th>X6</th>\n",
       "      <td>NaN</td>\n",
       "      <td>NaN</td>\n",
       "    </tr>\n",
       "    <tr>\n",
       "      <th>X7</th>\n",
       "      <td>NaN</td>\n",
       "      <td>NaN</td>\n",
       "    </tr>\n",
       "    <tr>\n",
       "      <th>X8</th>\n",
       "      <td>NaN</td>\n",
       "      <td>NaN</td>\n",
       "    </tr>\n",
       "    <tr>\n",
       "      <th>X9</th>\n",
       "      <td>NaN</td>\n",
       "      <td>NaN</td>\n",
       "    </tr>\n",
       "    <tr>\n",
       "      <th>Y0</th>\n",
       "      <td>NaN</td>\n",
       "      <td>NaN</td>\n",
       "    </tr>\n",
       "    <tr>\n",
       "      <th>Y1</th>\n",
       "      <td>NaN</td>\n",
       "      <td>NaN</td>\n",
       "    </tr>\n",
       "    <tr>\n",
       "      <th>Y2</th>\n",
       "      <td>NaN</td>\n",
       "      <td>NaN</td>\n",
       "    </tr>\n",
       "    <tr>\n",
       "      <th>Y3</th>\n",
       "      <td>NaN</td>\n",
       "      <td>NaN</td>\n",
       "    </tr>\n",
       "    <tr>\n",
       "      <th>Y4</th>\n",
       "      <td>NaN</td>\n",
       "      <td>NaN</td>\n",
       "    </tr>\n",
       "    <tr>\n",
       "      <th>Y5</th>\n",
       "      <td>NaN</td>\n",
       "      <td>NaN</td>\n",
       "    </tr>\n",
       "    <tr>\n",
       "      <th>Y6</th>\n",
       "      <td>NaN</td>\n",
       "      <td>NaN</td>\n",
       "    </tr>\n",
       "    <tr>\n",
       "      <th>Y7</th>\n",
       "      <td>NaN</td>\n",
       "      <td>NaN</td>\n",
       "    </tr>\n",
       "    <tr>\n",
       "      <th>Y8</th>\n",
       "      <td>NaN</td>\n",
       "      <td>NaN</td>\n",
       "    </tr>\n",
       "    <tr>\n",
       "      <th>Y9</th>\n",
       "      <td>NaN</td>\n",
       "      <td>0.138669</td>\n",
       "    </tr>\n",
       "    <tr>\n",
       "      <th>Z0</th>\n",
       "      <td>NaN</td>\n",
       "      <td>NaN</td>\n",
       "    </tr>\n",
       "    <tr>\n",
       "      <th>Z1</th>\n",
       "      <td>NaN</td>\n",
       "      <td>NaN</td>\n",
       "    </tr>\n",
       "    <tr>\n",
       "      <th>Z2</th>\n",
       "      <td>NaN</td>\n",
       "      <td>NaN</td>\n",
       "    </tr>\n",
       "    <tr>\n",
       "      <th>Z3</th>\n",
       "      <td>NaN</td>\n",
       "      <td>NaN</td>\n",
       "    </tr>\n",
       "    <tr>\n",
       "      <th>Z4</th>\n",
       "      <td>NaN</td>\n",
       "      <td>NaN</td>\n",
       "    </tr>\n",
       "    <tr>\n",
       "      <th>Z5</th>\n",
       "      <td>NaN</td>\n",
       "      <td>NaN</td>\n",
       "    </tr>\n",
       "    <tr>\n",
       "      <th>Z6</th>\n",
       "      <td>NaN</td>\n",
       "      <td>NaN</td>\n",
       "    </tr>\n",
       "    <tr>\n",
       "      <th>Z7</th>\n",
       "      <td>NaN</td>\n",
       "      <td>NaN</td>\n",
       "    </tr>\n",
       "    <tr>\n",
       "      <th>Z8</th>\n",
       "      <td>NaN</td>\n",
       "      <td>NaN</td>\n",
       "    </tr>\n",
       "    <tr>\n",
       "      <th>Z9</th>\n",
       "      <td>NaN</td>\n",
       "      <td>NaN</td>\n",
       "    </tr>\n",
       "    <tr>\n",
       "      <th>XAVG</th>\n",
       "      <td>NaN</td>\n",
       "      <td>NaN</td>\n",
       "    </tr>\n",
       "    <tr>\n",
       "      <th>YAVG</th>\n",
       "      <td>NaN</td>\n",
       "      <td>0.304911</td>\n",
       "    </tr>\n",
       "    <tr>\n",
       "      <th>ZAVG</th>\n",
       "      <td>NaN</td>\n",
       "      <td>-0.109477</td>\n",
       "    </tr>\n",
       "    <tr>\n",
       "      <th>XPEAK</th>\n",
       "      <td>NaN</td>\n",
       "      <td>0.132298</td>\n",
       "    </tr>\n",
       "    <tr>\n",
       "      <th>YPEAK</th>\n",
       "      <td>NaN</td>\n",
       "      <td>0.195308</td>\n",
       "    </tr>\n",
       "    <tr>\n",
       "      <th>ZPEAK</th>\n",
       "      <td>NaN</td>\n",
       "      <td>0.119971</td>\n",
       "    </tr>\n",
       "    <tr>\n",
       "      <th>XABSOLDEV</th>\n",
       "      <td>-0.109400</td>\n",
       "      <td>-0.234542</td>\n",
       "    </tr>\n",
       "    <tr>\n",
       "      <th>YABSOLDEV</th>\n",
       "      <td>NaN</td>\n",
       "      <td>-0.379568</td>\n",
       "    </tr>\n",
       "    <tr>\n",
       "      <th>ZABSOLDEV</th>\n",
       "      <td>-0.110352</td>\n",
       "      <td>-0.263535</td>\n",
       "    </tr>\n",
       "    <tr>\n",
       "      <th>XSTANDDEV</th>\n",
       "      <td>-0.119288</td>\n",
       "      <td>-0.277638</td>\n",
       "    </tr>\n",
       "    <tr>\n",
       "      <th>YSTANDDEV</th>\n",
       "      <td>NaN</td>\n",
       "      <td>-0.393652</td>\n",
       "    </tr>\n",
       "    <tr>\n",
       "      <th>ZSTANDDEV</th>\n",
       "      <td>-0.119288</td>\n",
       "      <td>-0.277638</td>\n",
       "    </tr>\n",
       "    <tr>\n",
       "      <th>RESULTANT</th>\n",
       "      <td>NaN</td>\n",
       "      <td>-0.207198</td>\n",
       "    </tr>\n",
       "    <tr>\n",
       "      <th>class</th>\n",
       "      <td>NaN</td>\n",
       "      <td>1.000000</td>\n",
       "    </tr>\n",
       "  </tbody>\n",
       "</table>\n",
       "</div>"
      ],
      "text/plain": [
       "               user     class\n",
       "user       1.000000       NaN\n",
       "X0              NaN       NaN\n",
       "X1              NaN       NaN\n",
       "X2              NaN       NaN\n",
       "X3              NaN       NaN\n",
       "X4              NaN       NaN\n",
       "X5              NaN       NaN\n",
       "X6              NaN       NaN\n",
       "X7              NaN       NaN\n",
       "X8              NaN       NaN\n",
       "X9              NaN       NaN\n",
       "Y0              NaN       NaN\n",
       "Y1              NaN       NaN\n",
       "Y2              NaN       NaN\n",
       "Y3              NaN       NaN\n",
       "Y4              NaN       NaN\n",
       "Y5              NaN       NaN\n",
       "Y6              NaN       NaN\n",
       "Y7              NaN       NaN\n",
       "Y8              NaN       NaN\n",
       "Y9              NaN  0.138669\n",
       "Z0              NaN       NaN\n",
       "Z1              NaN       NaN\n",
       "Z2              NaN       NaN\n",
       "Z3              NaN       NaN\n",
       "Z4              NaN       NaN\n",
       "Z5              NaN       NaN\n",
       "Z6              NaN       NaN\n",
       "Z7              NaN       NaN\n",
       "Z8              NaN       NaN\n",
       "Z9              NaN       NaN\n",
       "XAVG            NaN       NaN\n",
       "YAVG            NaN  0.304911\n",
       "ZAVG            NaN -0.109477\n",
       "XPEAK           NaN  0.132298\n",
       "YPEAK           NaN  0.195308\n",
       "ZPEAK           NaN  0.119971\n",
       "XABSOLDEV -0.109400 -0.234542\n",
       "YABSOLDEV       NaN -0.379568\n",
       "ZABSOLDEV -0.110352 -0.263535\n",
       "XSTANDDEV -0.119288 -0.277638\n",
       "YSTANDDEV       NaN -0.393652\n",
       "ZSTANDDEV -0.119288 -0.277638\n",
       "RESULTANT       NaN -0.207198\n",
       "class           NaN  1.000000"
      ]
     },
     "execution_count": 7,
     "metadata": {},
     "output_type": "execute_result"
    }
   ],
   "source": [
    "corr_df = df.corr()[['user', 'class']] \n",
    "corr_df[((corr_df > 0.1) | (corr_df < -0.1))]"
   ]
  },
  {
   "cell_type": "markdown",
   "metadata": {},
   "source": [
    "## applying log transformation"
   ]
  },
  {
   "cell_type": "code",
   "execution_count": 8,
   "metadata": {},
   "outputs": [],
   "source": [
    "df['XPEAK'] = np.log(df['XPEAK'])\n",
    "df['YPEAK'] = np.log(df['YPEAK'])\n",
    "df['ZPEAK'] = np.log(df['ZPEAK'])"
   ]
  },
  {
   "cell_type": "markdown",
   "metadata": {},
   "source": [
    "## filling na values"
   ]
  },
  {
   "cell_type": "code",
   "execution_count": 9,
   "metadata": {},
   "outputs": [],
   "source": [
    "df['XPEAK'] = df['XPEAK'].fillna(df['XPEAK'].mean())\n",
    "df['YPEAK'] = df['YPEAK'].fillna(df['YPEAK'].mean())\n",
    "df['ZPEAK'] = df['ZPEAK'].fillna(df['ZPEAK'].mean())"
   ]
  },
  {
   "cell_type": "markdown",
   "metadata": {},
   "source": [
    "## spliting data into Dependent (X) and Independent (Y) Variables"
   ]
  },
  {
   "cell_type": "code",
   "execution_count": 10,
   "metadata": {
    "code_folding": []
   },
   "outputs": [],
   "source": [
    "X = df.drop([\"user\", \"class\"], 1)\n",
    "# Y = df[[\"user\", \"class\"]]\n",
    "Y = df[[\"class\"]]"
   ]
  },
  {
   "cell_type": "markdown",
   "metadata": {},
   "source": [
    "# Oversampling"
   ]
  },
  {
   "cell_type": "code",
   "execution_count": 11,
   "metadata": {},
   "outputs": [
    {
     "name": "stdout",
     "output_type": "stream",
     "text": [
      "Class 0 has 528 instances\n",
      "Class 1 has 1625 instances\n",
      "Class 2 has 306 instances\n",
      "Class 3 has 246 instances\n",
      "Class 4 has 632 instances\n",
      "Class 5 has 2081 instances\n"
     ]
    },
    {
     "name": "stderr",
     "output_type": "stream",
     "text": [
      "/Users/ozge.bursa/opt/anaconda3/lib/python3.7/site-packages/sklearn/utils/validation.py:761: DataConversionWarning: A column-vector y was passed when a 1d array was expected. Please change the shape of y to (n_samples, ), for example using ravel().\n",
      "  y = column_or_1d(y, warn=True)\n"
     ]
    },
    {
     "name": "stdout",
     "output_type": "stream",
     "text": [
      "Class 0 has 2081 instances after oversampling\n",
      "Class 1 has 2081 instances after oversampling\n",
      "Class 2 has 2081 instances after oversampling\n",
      "Class 3 has 2080 instances after oversampling\n",
      "Class 4 has 2081 instances after oversampling\n",
      "Class 5 has 2081 instances after oversampling\n"
     ]
    },
    {
     "data": {
      "text/plain": [
       "[None, None, None, None, None, None]"
      ]
     },
     "execution_count": 11,
     "metadata": {},
     "output_type": "execute_result"
    }
   ],
   "source": [
    "import numpy as np\n",
    "from kmeans_smote import KMeansSMOTE\n",
    "\n",
    "[print('Class {} has {} instances'.format(label, count))\n",
    " for label, count in zip(*np.unique(Y, return_counts=True))]\n",
    "\n",
    "kmeans_smote = KMeansSMOTE(\n",
    "    kmeans_args={\n",
    "        'n_clusters': 100\n",
    "    },\n",
    "    smote_args={\n",
    "        'k_neighbors': 10\n",
    "    }\n",
    ")\n",
    "X_resampled, y_resampled = kmeans_smote.fit_sample(X, Y)\n",
    "\n",
    "[print('Class {} has {} instances after oversampling'.format(label, count))\n",
    " for label, count in zip(*np.unique(y_resampled, return_counts=True))]"
   ]
  },
  {
   "cell_type": "code",
   "execution_count": 12,
   "metadata": {},
   "outputs": [],
   "source": [
    "yy = pd.DataFrame(y_resampled, columns=['class'])"
   ]
  },
  {
   "cell_type": "code",
   "execution_count": 13,
   "metadata": {},
   "outputs": [
    {
     "data": {
      "text/html": [
       "<div>\n",
       "<style scoped>\n",
       "    .dataframe tbody tr th:only-of-type {\n",
       "        vertical-align: middle;\n",
       "    }\n",
       "\n",
       "    .dataframe tbody tr th {\n",
       "        vertical-align: top;\n",
       "    }\n",
       "\n",
       "    .dataframe thead th {\n",
       "        text-align: right;\n",
       "    }\n",
       "</style>\n",
       "<table border=\"1\" class=\"dataframe\">\n",
       "  <thead>\n",
       "    <tr style=\"text-align: right;\">\n",
       "      <th></th>\n",
       "      <th>class</th>\n",
       "    </tr>\n",
       "  </thead>\n",
       "  <tbody>\n",
       "    <tr>\n",
       "      <th>0</th>\n",
       "      <td>1</td>\n",
       "    </tr>\n",
       "    <tr>\n",
       "      <th>1</th>\n",
       "      <td>1</td>\n",
       "    </tr>\n",
       "    <tr>\n",
       "      <th>2</th>\n",
       "      <td>1</td>\n",
       "    </tr>\n",
       "    <tr>\n",
       "      <th>3</th>\n",
       "      <td>5</td>\n",
       "    </tr>\n",
       "    <tr>\n",
       "      <th>4</th>\n",
       "      <td>5</td>\n",
       "    </tr>\n",
       "    <tr>\n",
       "      <th>...</th>\n",
       "      <td>...</td>\n",
       "    </tr>\n",
       "    <tr>\n",
       "      <th>12480</th>\n",
       "      <td>4</td>\n",
       "    </tr>\n",
       "    <tr>\n",
       "      <th>12481</th>\n",
       "      <td>4</td>\n",
       "    </tr>\n",
       "    <tr>\n",
       "      <th>12482</th>\n",
       "      <td>4</td>\n",
       "    </tr>\n",
       "    <tr>\n",
       "      <th>12483</th>\n",
       "      <td>4</td>\n",
       "    </tr>\n",
       "    <tr>\n",
       "      <th>12484</th>\n",
       "      <td>4</td>\n",
       "    </tr>\n",
       "  </tbody>\n",
       "</table>\n",
       "<p>12485 rows × 1 columns</p>\n",
       "</div>"
      ],
      "text/plain": [
       "       class\n",
       "0          1\n",
       "1          1\n",
       "2          1\n",
       "3          5\n",
       "4          5\n",
       "...      ...\n",
       "12480      4\n",
       "12481      4\n",
       "12482      4\n",
       "12483      4\n",
       "12484      4\n",
       "\n",
       "[12485 rows x 1 columns]"
      ]
     },
     "execution_count": 13,
     "metadata": {},
     "output_type": "execute_result"
    }
   ],
   "source": [
    "yy"
   ]
  },
  {
   "cell_type": "code",
   "execution_count": 14,
   "metadata": {},
   "outputs": [
    {
     "data": {
      "text/plain": [
       "(12485, 43)"
      ]
     },
     "execution_count": 14,
     "metadata": {},
     "output_type": "execute_result"
    }
   ],
   "source": [
    "X_resampled.shape"
   ]
  },
  {
   "cell_type": "code",
   "execution_count": 15,
   "metadata": {},
   "outputs": [
    {
     "data": {
      "text/plain": [
       "{5: 0.833319983980777,\n",
       " 4: 0.833319983980777,\n",
       " 2: 0.833319983980777,\n",
       " 1: 0.833319983980777,\n",
       " 0: 0.833319983980777,\n",
       " 3: 0.8334000800961153}"
      ]
     },
     "execution_count": 15,
     "metadata": {},
     "output_type": "execute_result"
    }
   ],
   "source": [
    "dict(1- yy['class'].value_counts(normalize=True))"
   ]
  },
  {
   "cell_type": "code",
   "execution_count": 16,
   "metadata": {},
   "outputs": [],
   "source": [
    "trainX, testX, trainY, testY = train_test_split(X_resampled, y_resampled, test_size=.2, random_state=10)"
   ]
  },
  {
   "cell_type": "code",
   "execution_count": 17,
   "metadata": {},
   "outputs": [
    {
     "data": {
      "text/plain": [
       "array([4, 2, 5, ..., 4, 3, 3])"
      ]
     },
     "execution_count": 17,
     "metadata": {},
     "output_type": "execute_result"
    }
   ],
   "source": [
    "testY"
   ]
  },
  {
   "cell_type": "code",
   "execution_count": null,
   "metadata": {},
   "outputs": [],
   "source": []
  },
  {
   "cell_type": "code",
   "execution_count": 18,
   "metadata": {},
   "outputs": [
    {
     "data": {
      "text/plain": [
       "0.9507408890668803"
      ]
     },
     "execution_count": 18,
     "metadata": {},
     "output_type": "execute_result"
    }
   ],
   "source": [
    "from sklearn.metrics import accuracy_score\n",
    "\n",
    "#Train the model\n",
    "csf = RandomForestClassifier(n_estimators=500, class_weight= dict(1- yy['class'].value_counts(normalize=True)))\n",
    "csf.fit(trainX, trainY)\n",
    "pred = csf.predict(testX)\n",
    "\n",
    "y_test = pd.DataFrame(testY, columns=['class'])[['class']]\n",
    "y_pred = pd.DataFrame(pred, columns=['class'])[['class']]\n",
    "\n",
    "#Evaluate\n",
    "accuracy_score(y_test, y_pred)"
   ]
  },
  {
   "cell_type": "code",
   "execution_count": 19,
   "metadata": {},
   "outputs": [
    {
     "data": {
      "text/plain": [
       "0.9507408890668803"
      ]
     },
     "execution_count": 19,
     "metadata": {},
     "output_type": "execute_result"
    }
   ],
   "source": [
    "accuracy_score(y_test, y_pred)"
   ]
  },
  {
   "cell_type": "code",
   "execution_count": 20,
   "metadata": {},
   "outputs": [
    {
     "name": "stdout",
     "output_type": "stream",
     "text": [
      "[0.87438424 0.99285714 0.99519231 0.99022005 0.88372093 0.96875   ]\n",
      "[0.93915344 0.97429907 1.         1.         0.94527363 0.85744681]\n"
     ]
    },
    {
     "data": {
      "text/plain": [
       "array([0.90561224, 0.98349057, 0.99759036, 0.995086  , 0.91346154,\n",
       "       0.90970655])"
      ]
     },
     "execution_count": 20,
     "metadata": {},
     "output_type": "execute_result"
    }
   ],
   "source": [
    "# Recall\n",
    "from sklearn.metrics import recall_score\n",
    "print(recall_score(y_test, y_pred, average=None))\n",
    "# Precision\n",
    "from sklearn.metrics import precision_score\n",
    "print(precision_score(y_test, y_pred, average=None))\n",
    "# F1 score\n",
    "from sklearn.metrics import f1_score\n",
    "f1_score(y_test, y_pred, average=None)"
   ]
  },
  {
   "cell_type": "code",
   "execution_count": 21,
   "metadata": {},
   "outputs": [
    {
     "data": {
      "text/html": [
       "<div>\n",
       "<style scoped>\n",
       "    .dataframe tbody tr th:only-of-type {\n",
       "        vertical-align: middle;\n",
       "    }\n",
       "\n",
       "    .dataframe tbody tr th {\n",
       "        vertical-align: top;\n",
       "    }\n",
       "\n",
       "    .dataframe thead th {\n",
       "        text-align: right;\n",
       "    }\n",
       "</style>\n",
       "<table border=\"1\" class=\"dataframe\">\n",
       "  <thead>\n",
       "    <tr style=\"text-align: right;\">\n",
       "      <th></th>\n",
       "      <th>0</th>\n",
       "      <th>1</th>\n",
       "      <th>2</th>\n",
       "      <th>3</th>\n",
       "      <th>4</th>\n",
       "      <th>5</th>\n",
       "      <th>6</th>\n",
       "      <th>7</th>\n",
       "      <th>8</th>\n",
       "      <th>9</th>\n",
       "      <th>10</th>\n",
       "      <th>11</th>\n",
       "      <th>12</th>\n",
       "      <th>13</th>\n",
       "      <th>14</th>\n",
       "      <th>15</th>\n",
       "      <th>16</th>\n",
       "      <th>17</th>\n",
       "      <th>18</th>\n",
       "      <th>19</th>\n",
       "      <th>20</th>\n",
       "      <th>21</th>\n",
       "      <th>22</th>\n",
       "      <th>23</th>\n",
       "      <th>24</th>\n",
       "      <th>25</th>\n",
       "      <th>26</th>\n",
       "      <th>27</th>\n",
       "      <th>28</th>\n",
       "      <th>29</th>\n",
       "      <th>30</th>\n",
       "      <th>31</th>\n",
       "      <th>32</th>\n",
       "      <th>33</th>\n",
       "      <th>34</th>\n",
       "      <th>35</th>\n",
       "      <th>36</th>\n",
       "      <th>37</th>\n",
       "      <th>38</th>\n",
       "      <th>39</th>\n",
       "      <th>40</th>\n",
       "      <th>41</th>\n",
       "      <th>42</th>\n",
       "    </tr>\n",
       "  </thead>\n",
       "  <tbody>\n",
       "    <tr>\n",
       "      <th>0</th>\n",
       "      <td>0.04</td>\n",
       "      <td>0.09</td>\n",
       "      <td>0.14</td>\n",
       "      <td>0.12</td>\n",
       "      <td>0.11</td>\n",
       "      <td>0.10</td>\n",
       "      <td>0.08</td>\n",
       "      <td>0.13</td>\n",
       "      <td>0.13</td>\n",
       "      <td>0.08</td>\n",
       "      <td>0.09</td>\n",
       "      <td>0.10</td>\n",
       "      <td>0.11</td>\n",
       "      <td>0.11</td>\n",
       "      <td>0.08</td>\n",
       "      <td>0.04</td>\n",
       "      <td>0.16</td>\n",
       "      <td>0.13</td>\n",
       "      <td>0.10</td>\n",
       "      <td>0.03</td>\n",
       "      <td>0.12</td>\n",
       "      <td>0.08</td>\n",
       "      <td>0.09</td>\n",
       "      <td>0.12</td>\n",
       "      <td>0.10</td>\n",
       "      <td>0.10</td>\n",
       "      <td>0.08</td>\n",
       "      <td>0.11</td>\n",
       "      <td>0.12</td>\n",
       "      <td>0.10</td>\n",
       "      <td>0.0</td>\n",
       "      <td>8.40</td>\n",
       "      <td>1.76</td>\n",
       "      <td>7.637716</td>\n",
       "      <td>5.683376</td>\n",
       "      <td>7.346010</td>\n",
       "      <td>3.29</td>\n",
       "      <td>7.21</td>\n",
       "      <td>4.00</td>\n",
       "      <td>4.05</td>\n",
       "      <td>8.17</td>\n",
       "      <td>4.05</td>\n",
       "      <td>11.96</td>\n",
       "    </tr>\n",
       "    <tr>\n",
       "      <th>1</th>\n",
       "      <td>0.12</td>\n",
       "      <td>0.12</td>\n",
       "      <td>0.06</td>\n",
       "      <td>0.07</td>\n",
       "      <td>0.11</td>\n",
       "      <td>0.10</td>\n",
       "      <td>0.11</td>\n",
       "      <td>0.09</td>\n",
       "      <td>0.12</td>\n",
       "      <td>0.10</td>\n",
       "      <td>0.12</td>\n",
       "      <td>0.11</td>\n",
       "      <td>0.07</td>\n",
       "      <td>0.10</td>\n",
       "      <td>0.13</td>\n",
       "      <td>0.13</td>\n",
       "      <td>0.06</td>\n",
       "      <td>0.11</td>\n",
       "      <td>0.10</td>\n",
       "      <td>0.04</td>\n",
       "      <td>0.11</td>\n",
       "      <td>0.11</td>\n",
       "      <td>0.11</td>\n",
       "      <td>0.09</td>\n",
       "      <td>0.12</td>\n",
       "      <td>0.10</td>\n",
       "      <td>0.11</td>\n",
       "      <td>0.10</td>\n",
       "      <td>0.07</td>\n",
       "      <td>0.08</td>\n",
       "      <td>0.0</td>\n",
       "      <td>7.62</td>\n",
       "      <td>1.43</td>\n",
       "      <td>7.329750</td>\n",
       "      <td>5.596346</td>\n",
       "      <td>7.117473</td>\n",
       "      <td>4.23</td>\n",
       "      <td>6.88</td>\n",
       "      <td>4.05</td>\n",
       "      <td>5.43</td>\n",
       "      <td>8.19</td>\n",
       "      <td>5.43</td>\n",
       "      <td>12.05</td>\n",
       "    </tr>\n",
       "    <tr>\n",
       "      <th>2</th>\n",
       "      <td>0.14</td>\n",
       "      <td>0.09</td>\n",
       "      <td>0.11</td>\n",
       "      <td>0.09</td>\n",
       "      <td>0.09</td>\n",
       "      <td>0.11</td>\n",
       "      <td>0.12</td>\n",
       "      <td>0.08</td>\n",
       "      <td>0.05</td>\n",
       "      <td>0.12</td>\n",
       "      <td>0.09</td>\n",
       "      <td>0.10</td>\n",
       "      <td>0.12</td>\n",
       "      <td>0.10</td>\n",
       "      <td>0.10</td>\n",
       "      <td>0.12</td>\n",
       "      <td>0.08</td>\n",
       "      <td>0.07</td>\n",
       "      <td>0.10</td>\n",
       "      <td>0.06</td>\n",
       "      <td>0.07</td>\n",
       "      <td>0.11</td>\n",
       "      <td>0.10</td>\n",
       "      <td>0.09</td>\n",
       "      <td>0.08</td>\n",
       "      <td>0.11</td>\n",
       "      <td>0.11</td>\n",
       "      <td>0.09</td>\n",
       "      <td>0.10</td>\n",
       "      <td>0.12</td>\n",
       "      <td>0.0</td>\n",
       "      <td>7.77</td>\n",
       "      <td>2.39</td>\n",
       "      <td>7.476852</td>\n",
       "      <td>5.516046</td>\n",
       "      <td>7.484369</td>\n",
       "      <td>4.18</td>\n",
       "      <td>6.89</td>\n",
       "      <td>4.07</td>\n",
       "      <td>5.55</td>\n",
       "      <td>8.19</td>\n",
       "      <td>5.55</td>\n",
       "      <td>11.99</td>\n",
       "    </tr>\n",
       "    <tr>\n",
       "      <th>3</th>\n",
       "      <td>0.06</td>\n",
       "      <td>0.10</td>\n",
       "      <td>0.09</td>\n",
       "      <td>0.09</td>\n",
       "      <td>0.11</td>\n",
       "      <td>0.07</td>\n",
       "      <td>0.12</td>\n",
       "      <td>0.10</td>\n",
       "      <td>0.14</td>\n",
       "      <td>0.14</td>\n",
       "      <td>0.12</td>\n",
       "      <td>0.08</td>\n",
       "      <td>0.11</td>\n",
       "      <td>0.10</td>\n",
       "      <td>0.10</td>\n",
       "      <td>0.11</td>\n",
       "      <td>0.11</td>\n",
       "      <td>0.10</td>\n",
       "      <td>0.08</td>\n",
       "      <td>0.11</td>\n",
       "      <td>0.10</td>\n",
       "      <td>0.10</td>\n",
       "      <td>0.11</td>\n",
       "      <td>0.10</td>\n",
       "      <td>0.09</td>\n",
       "      <td>0.07</td>\n",
       "      <td>0.12</td>\n",
       "      <td>0.14</td>\n",
       "      <td>0.07</td>\n",
       "      <td>0.11</td>\n",
       "      <td>0.0</td>\n",
       "      <td>9.57</td>\n",
       "      <td>0.49</td>\n",
       "      <td>7.833996</td>\n",
       "      <td>6.563982</td>\n",
       "      <td>7.229839</td>\n",
       "      <td>2.26</td>\n",
       "      <td>4.13</td>\n",
       "      <td>2.49</td>\n",
       "      <td>2.87</td>\n",
       "      <td>4.95</td>\n",
       "      <td>2.87</td>\n",
       "      <td>10.69</td>\n",
       "    </tr>\n",
       "    <tr>\n",
       "      <th>4</th>\n",
       "      <td>0.12</td>\n",
       "      <td>0.11</td>\n",
       "      <td>0.10</td>\n",
       "      <td>0.08</td>\n",
       "      <td>0.10</td>\n",
       "      <td>0.14</td>\n",
       "      <td>0.10</td>\n",
       "      <td>0.11</td>\n",
       "      <td>0.08</td>\n",
       "      <td>0.07</td>\n",
       "      <td>0.10</td>\n",
       "      <td>0.11</td>\n",
       "      <td>0.07</td>\n",
       "      <td>0.09</td>\n",
       "      <td>0.10</td>\n",
       "      <td>0.11</td>\n",
       "      <td>0.10</td>\n",
       "      <td>0.11</td>\n",
       "      <td>0.14</td>\n",
       "      <td>0.09</td>\n",
       "      <td>0.10</td>\n",
       "      <td>0.09</td>\n",
       "      <td>0.11</td>\n",
       "      <td>0.10</td>\n",
       "      <td>0.11</td>\n",
       "      <td>0.11</td>\n",
       "      <td>0.08</td>\n",
       "      <td>0.09</td>\n",
       "      <td>0.14</td>\n",
       "      <td>0.10</td>\n",
       "      <td>0.0</td>\n",
       "      <td>9.76</td>\n",
       "      <td>0.51</td>\n",
       "      <td>6.980076</td>\n",
       "      <td>8.101678</td>\n",
       "      <td>7.481556</td>\n",
       "      <td>2.29</td>\n",
       "      <td>3.94</td>\n",
       "      <td>2.41</td>\n",
       "      <td>3.08</td>\n",
       "      <td>4.64</td>\n",
       "      <td>3.08</td>\n",
       "      <td>10.80</td>\n",
       "    </tr>\n",
       "  </tbody>\n",
       "</table>\n",
       "</div>"
      ],
      "text/plain": [
       "      0     1     2     3     4     5     6     7     8     9    10    11  \\\n",
       "0  0.04  0.09  0.14  0.12  0.11  0.10  0.08  0.13  0.13  0.08  0.09  0.10   \n",
       "1  0.12  0.12  0.06  0.07  0.11  0.10  0.11  0.09  0.12  0.10  0.12  0.11   \n",
       "2  0.14  0.09  0.11  0.09  0.09  0.11  0.12  0.08  0.05  0.12  0.09  0.10   \n",
       "3  0.06  0.10  0.09  0.09  0.11  0.07  0.12  0.10  0.14  0.14  0.12  0.08   \n",
       "4  0.12  0.11  0.10  0.08  0.10  0.14  0.10  0.11  0.08  0.07  0.10  0.11   \n",
       "\n",
       "     12    13    14    15    16    17    18    19    20    21    22    23  \\\n",
       "0  0.11  0.11  0.08  0.04  0.16  0.13  0.10  0.03  0.12  0.08  0.09  0.12   \n",
       "1  0.07  0.10  0.13  0.13  0.06  0.11  0.10  0.04  0.11  0.11  0.11  0.09   \n",
       "2  0.12  0.10  0.10  0.12  0.08  0.07  0.10  0.06  0.07  0.11  0.10  0.09   \n",
       "3  0.11  0.10  0.10  0.11  0.11  0.10  0.08  0.11  0.10  0.10  0.11  0.10   \n",
       "4  0.07  0.09  0.10  0.11  0.10  0.11  0.14  0.09  0.10  0.09  0.11  0.10   \n",
       "\n",
       "     24    25    26    27    28    29   30    31    32        33        34  \\\n",
       "0  0.10  0.10  0.08  0.11  0.12  0.10  0.0  8.40  1.76  7.637716  5.683376   \n",
       "1  0.12  0.10  0.11  0.10  0.07  0.08  0.0  7.62  1.43  7.329750  5.596346   \n",
       "2  0.08  0.11  0.11  0.09  0.10  0.12  0.0  7.77  2.39  7.476852  5.516046   \n",
       "3  0.09  0.07  0.12  0.14  0.07  0.11  0.0  9.57  0.49  7.833996  6.563982   \n",
       "4  0.11  0.11  0.08  0.09  0.14  0.10  0.0  9.76  0.51  6.980076  8.101678   \n",
       "\n",
       "         35    36    37    38    39    40    41     42  \n",
       "0  7.346010  3.29  7.21  4.00  4.05  8.17  4.05  11.96  \n",
       "1  7.117473  4.23  6.88  4.05  5.43  8.19  5.43  12.05  \n",
       "2  7.484369  4.18  6.89  4.07  5.55  8.19  5.55  11.99  \n",
       "3  7.229839  2.26  4.13  2.49  2.87  4.95  2.87  10.69  \n",
       "4  7.481556  2.29  3.94  2.41  3.08  4.64  3.08  10.80  "
      ]
     },
     "execution_count": 21,
     "metadata": {},
     "output_type": "execute_result"
    }
   ],
   "source": [
    "df_over = pd.DataFrame(X_resampled)\n",
    "df_over.head()"
   ]
  },
  {
   "cell_type": "code",
   "execution_count": 22,
   "metadata": {},
   "outputs": [],
   "source": [
    "df_over['class'] = pd.DataFrame(y_resampled, columns=['class'])"
   ]
  },
  {
   "cell_type": "code",
   "execution_count": 23,
   "metadata": {},
   "outputs": [
    {
     "data": {
      "text/html": [
       "<div>\n",
       "<style scoped>\n",
       "    .dataframe tbody tr th:only-of-type {\n",
       "        vertical-align: middle;\n",
       "    }\n",
       "\n",
       "    .dataframe tbody tr th {\n",
       "        vertical-align: top;\n",
       "    }\n",
       "\n",
       "    .dataframe thead th {\n",
       "        text-align: right;\n",
       "    }\n",
       "</style>\n",
       "<table border=\"1\" class=\"dataframe\">\n",
       "  <thead>\n",
       "    <tr style=\"text-align: right;\">\n",
       "      <th></th>\n",
       "      <th>0</th>\n",
       "      <th>1</th>\n",
       "      <th>2</th>\n",
       "      <th>3</th>\n",
       "      <th>4</th>\n",
       "      <th>5</th>\n",
       "      <th>6</th>\n",
       "      <th>7</th>\n",
       "      <th>8</th>\n",
       "      <th>9</th>\n",
       "      <th>10</th>\n",
       "      <th>11</th>\n",
       "      <th>12</th>\n",
       "      <th>13</th>\n",
       "      <th>14</th>\n",
       "      <th>15</th>\n",
       "      <th>16</th>\n",
       "      <th>17</th>\n",
       "      <th>18</th>\n",
       "      <th>19</th>\n",
       "      <th>20</th>\n",
       "      <th>21</th>\n",
       "      <th>22</th>\n",
       "      <th>23</th>\n",
       "      <th>24</th>\n",
       "      <th>25</th>\n",
       "      <th>26</th>\n",
       "      <th>27</th>\n",
       "      <th>28</th>\n",
       "      <th>29</th>\n",
       "      <th>30</th>\n",
       "      <th>31</th>\n",
       "      <th>32</th>\n",
       "      <th>33</th>\n",
       "      <th>34</th>\n",
       "      <th>35</th>\n",
       "      <th>36</th>\n",
       "      <th>37</th>\n",
       "      <th>38</th>\n",
       "      <th>39</th>\n",
       "      <th>40</th>\n",
       "      <th>41</th>\n",
       "      <th>42</th>\n",
       "      <th>class</th>\n",
       "    </tr>\n",
       "  </thead>\n",
       "  <tbody>\n",
       "    <tr>\n",
       "      <th>0</th>\n",
       "      <td>0.04</td>\n",
       "      <td>0.09</td>\n",
       "      <td>0.14</td>\n",
       "      <td>0.12</td>\n",
       "      <td>0.11</td>\n",
       "      <td>0.10</td>\n",
       "      <td>0.08</td>\n",
       "      <td>0.13</td>\n",
       "      <td>0.13</td>\n",
       "      <td>0.08</td>\n",
       "      <td>0.09</td>\n",
       "      <td>0.10</td>\n",
       "      <td>0.11</td>\n",
       "      <td>0.11</td>\n",
       "      <td>0.08</td>\n",
       "      <td>0.04</td>\n",
       "      <td>0.16</td>\n",
       "      <td>0.13</td>\n",
       "      <td>0.10</td>\n",
       "      <td>0.03</td>\n",
       "      <td>0.12</td>\n",
       "      <td>0.08</td>\n",
       "      <td>0.09</td>\n",
       "      <td>0.12</td>\n",
       "      <td>0.10</td>\n",
       "      <td>0.10</td>\n",
       "      <td>0.08</td>\n",
       "      <td>0.11</td>\n",
       "      <td>0.12</td>\n",
       "      <td>0.10</td>\n",
       "      <td>0.0</td>\n",
       "      <td>8.40</td>\n",
       "      <td>1.76</td>\n",
       "      <td>7.637716</td>\n",
       "      <td>5.683376</td>\n",
       "      <td>7.346010</td>\n",
       "      <td>3.29</td>\n",
       "      <td>7.21</td>\n",
       "      <td>4.00</td>\n",
       "      <td>4.05</td>\n",
       "      <td>8.17</td>\n",
       "      <td>4.05</td>\n",
       "      <td>11.96</td>\n",
       "      <td>1</td>\n",
       "    </tr>\n",
       "    <tr>\n",
       "      <th>1</th>\n",
       "      <td>0.12</td>\n",
       "      <td>0.12</td>\n",
       "      <td>0.06</td>\n",
       "      <td>0.07</td>\n",
       "      <td>0.11</td>\n",
       "      <td>0.10</td>\n",
       "      <td>0.11</td>\n",
       "      <td>0.09</td>\n",
       "      <td>0.12</td>\n",
       "      <td>0.10</td>\n",
       "      <td>0.12</td>\n",
       "      <td>0.11</td>\n",
       "      <td>0.07</td>\n",
       "      <td>0.10</td>\n",
       "      <td>0.13</td>\n",
       "      <td>0.13</td>\n",
       "      <td>0.06</td>\n",
       "      <td>0.11</td>\n",
       "      <td>0.10</td>\n",
       "      <td>0.04</td>\n",
       "      <td>0.11</td>\n",
       "      <td>0.11</td>\n",
       "      <td>0.11</td>\n",
       "      <td>0.09</td>\n",
       "      <td>0.12</td>\n",
       "      <td>0.10</td>\n",
       "      <td>0.11</td>\n",
       "      <td>0.10</td>\n",
       "      <td>0.07</td>\n",
       "      <td>0.08</td>\n",
       "      <td>0.0</td>\n",
       "      <td>7.62</td>\n",
       "      <td>1.43</td>\n",
       "      <td>7.329750</td>\n",
       "      <td>5.596346</td>\n",
       "      <td>7.117473</td>\n",
       "      <td>4.23</td>\n",
       "      <td>6.88</td>\n",
       "      <td>4.05</td>\n",
       "      <td>5.43</td>\n",
       "      <td>8.19</td>\n",
       "      <td>5.43</td>\n",
       "      <td>12.05</td>\n",
       "      <td>1</td>\n",
       "    </tr>\n",
       "    <tr>\n",
       "      <th>2</th>\n",
       "      <td>0.14</td>\n",
       "      <td>0.09</td>\n",
       "      <td>0.11</td>\n",
       "      <td>0.09</td>\n",
       "      <td>0.09</td>\n",
       "      <td>0.11</td>\n",
       "      <td>0.12</td>\n",
       "      <td>0.08</td>\n",
       "      <td>0.05</td>\n",
       "      <td>0.12</td>\n",
       "      <td>0.09</td>\n",
       "      <td>0.10</td>\n",
       "      <td>0.12</td>\n",
       "      <td>0.10</td>\n",
       "      <td>0.10</td>\n",
       "      <td>0.12</td>\n",
       "      <td>0.08</td>\n",
       "      <td>0.07</td>\n",
       "      <td>0.10</td>\n",
       "      <td>0.06</td>\n",
       "      <td>0.07</td>\n",
       "      <td>0.11</td>\n",
       "      <td>0.10</td>\n",
       "      <td>0.09</td>\n",
       "      <td>0.08</td>\n",
       "      <td>0.11</td>\n",
       "      <td>0.11</td>\n",
       "      <td>0.09</td>\n",
       "      <td>0.10</td>\n",
       "      <td>0.12</td>\n",
       "      <td>0.0</td>\n",
       "      <td>7.77</td>\n",
       "      <td>2.39</td>\n",
       "      <td>7.476852</td>\n",
       "      <td>5.516046</td>\n",
       "      <td>7.484369</td>\n",
       "      <td>4.18</td>\n",
       "      <td>6.89</td>\n",
       "      <td>4.07</td>\n",
       "      <td>5.55</td>\n",
       "      <td>8.19</td>\n",
       "      <td>5.55</td>\n",
       "      <td>11.99</td>\n",
       "      <td>1</td>\n",
       "    </tr>\n",
       "    <tr>\n",
       "      <th>3</th>\n",
       "      <td>0.06</td>\n",
       "      <td>0.10</td>\n",
       "      <td>0.09</td>\n",
       "      <td>0.09</td>\n",
       "      <td>0.11</td>\n",
       "      <td>0.07</td>\n",
       "      <td>0.12</td>\n",
       "      <td>0.10</td>\n",
       "      <td>0.14</td>\n",
       "      <td>0.14</td>\n",
       "      <td>0.12</td>\n",
       "      <td>0.08</td>\n",
       "      <td>0.11</td>\n",
       "      <td>0.10</td>\n",
       "      <td>0.10</td>\n",
       "      <td>0.11</td>\n",
       "      <td>0.11</td>\n",
       "      <td>0.10</td>\n",
       "      <td>0.08</td>\n",
       "      <td>0.11</td>\n",
       "      <td>0.10</td>\n",
       "      <td>0.10</td>\n",
       "      <td>0.11</td>\n",
       "      <td>0.10</td>\n",
       "      <td>0.09</td>\n",
       "      <td>0.07</td>\n",
       "      <td>0.12</td>\n",
       "      <td>0.14</td>\n",
       "      <td>0.07</td>\n",
       "      <td>0.11</td>\n",
       "      <td>0.0</td>\n",
       "      <td>9.57</td>\n",
       "      <td>0.49</td>\n",
       "      <td>7.833996</td>\n",
       "      <td>6.563982</td>\n",
       "      <td>7.229839</td>\n",
       "      <td>2.26</td>\n",
       "      <td>4.13</td>\n",
       "      <td>2.49</td>\n",
       "      <td>2.87</td>\n",
       "      <td>4.95</td>\n",
       "      <td>2.87</td>\n",
       "      <td>10.69</td>\n",
       "      <td>5</td>\n",
       "    </tr>\n",
       "    <tr>\n",
       "      <th>4</th>\n",
       "      <td>0.12</td>\n",
       "      <td>0.11</td>\n",
       "      <td>0.10</td>\n",
       "      <td>0.08</td>\n",
       "      <td>0.10</td>\n",
       "      <td>0.14</td>\n",
       "      <td>0.10</td>\n",
       "      <td>0.11</td>\n",
       "      <td>0.08</td>\n",
       "      <td>0.07</td>\n",
       "      <td>0.10</td>\n",
       "      <td>0.11</td>\n",
       "      <td>0.07</td>\n",
       "      <td>0.09</td>\n",
       "      <td>0.10</td>\n",
       "      <td>0.11</td>\n",
       "      <td>0.10</td>\n",
       "      <td>0.11</td>\n",
       "      <td>0.14</td>\n",
       "      <td>0.09</td>\n",
       "      <td>0.10</td>\n",
       "      <td>0.09</td>\n",
       "      <td>0.11</td>\n",
       "      <td>0.10</td>\n",
       "      <td>0.11</td>\n",
       "      <td>0.11</td>\n",
       "      <td>0.08</td>\n",
       "      <td>0.09</td>\n",
       "      <td>0.14</td>\n",
       "      <td>0.10</td>\n",
       "      <td>0.0</td>\n",
       "      <td>9.76</td>\n",
       "      <td>0.51</td>\n",
       "      <td>6.980076</td>\n",
       "      <td>8.101678</td>\n",
       "      <td>7.481556</td>\n",
       "      <td>2.29</td>\n",
       "      <td>3.94</td>\n",
       "      <td>2.41</td>\n",
       "      <td>3.08</td>\n",
       "      <td>4.64</td>\n",
       "      <td>3.08</td>\n",
       "      <td>10.80</td>\n",
       "      <td>5</td>\n",
       "    </tr>\n",
       "  </tbody>\n",
       "</table>\n",
       "</div>"
      ],
      "text/plain": [
       "      0     1     2     3     4     5     6     7     8     9    10    11  \\\n",
       "0  0.04  0.09  0.14  0.12  0.11  0.10  0.08  0.13  0.13  0.08  0.09  0.10   \n",
       "1  0.12  0.12  0.06  0.07  0.11  0.10  0.11  0.09  0.12  0.10  0.12  0.11   \n",
       "2  0.14  0.09  0.11  0.09  0.09  0.11  0.12  0.08  0.05  0.12  0.09  0.10   \n",
       "3  0.06  0.10  0.09  0.09  0.11  0.07  0.12  0.10  0.14  0.14  0.12  0.08   \n",
       "4  0.12  0.11  0.10  0.08  0.10  0.14  0.10  0.11  0.08  0.07  0.10  0.11   \n",
       "\n",
       "     12    13    14    15    16    17    18    19    20    21    22    23  \\\n",
       "0  0.11  0.11  0.08  0.04  0.16  0.13  0.10  0.03  0.12  0.08  0.09  0.12   \n",
       "1  0.07  0.10  0.13  0.13  0.06  0.11  0.10  0.04  0.11  0.11  0.11  0.09   \n",
       "2  0.12  0.10  0.10  0.12  0.08  0.07  0.10  0.06  0.07  0.11  0.10  0.09   \n",
       "3  0.11  0.10  0.10  0.11  0.11  0.10  0.08  0.11  0.10  0.10  0.11  0.10   \n",
       "4  0.07  0.09  0.10  0.11  0.10  0.11  0.14  0.09  0.10  0.09  0.11  0.10   \n",
       "\n",
       "     24    25    26    27    28    29   30    31    32        33        34  \\\n",
       "0  0.10  0.10  0.08  0.11  0.12  0.10  0.0  8.40  1.76  7.637716  5.683376   \n",
       "1  0.12  0.10  0.11  0.10  0.07  0.08  0.0  7.62  1.43  7.329750  5.596346   \n",
       "2  0.08  0.11  0.11  0.09  0.10  0.12  0.0  7.77  2.39  7.476852  5.516046   \n",
       "3  0.09  0.07  0.12  0.14  0.07  0.11  0.0  9.57  0.49  7.833996  6.563982   \n",
       "4  0.11  0.11  0.08  0.09  0.14  0.10  0.0  9.76  0.51  6.980076  8.101678   \n",
       "\n",
       "         35    36    37    38    39    40    41     42  class  \n",
       "0  7.346010  3.29  7.21  4.00  4.05  8.17  4.05  11.96      1  \n",
       "1  7.117473  4.23  6.88  4.05  5.43  8.19  5.43  12.05      1  \n",
       "2  7.484369  4.18  6.89  4.07  5.55  8.19  5.55  11.99      1  \n",
       "3  7.229839  2.26  4.13  2.49  2.87  4.95  2.87  10.69      5  \n",
       "4  7.481556  2.29  3.94  2.41  3.08  4.64  3.08  10.80      5  "
      ]
     },
     "execution_count": 23,
     "metadata": {},
     "output_type": "execute_result"
    }
   ],
   "source": [
    "df_over.head()"
   ]
  },
  {
   "cell_type": "markdown",
   "metadata": {},
   "source": [
    "# K-fold Class Over sampling - 5-fold"
   ]
  },
  {
   "cell_type": "code",
   "execution_count": 24,
   "metadata": {},
   "outputs": [],
   "source": [
    "from sklearn.model_selection import KFold\n",
    "\n",
    "kf5 = KFold(n_splits = 5, shuffle = True)"
   ]
  },
  {
   "cell_type": "code",
   "execution_count": 25,
   "metadata": {},
   "outputs": [
    {
     "name": "stdout",
     "output_type": "stream",
     "text": [
      "[    0     1     3 ... 12481 12482 12484] [    2     5     7 ... 12474 12478 12483]\n"
     ]
    },
    {
     "name": "stderr",
     "output_type": "stream",
     "text": [
      "/Users/ozge.bursa/opt/anaconda3/lib/python3.7/site-packages/ipykernel_launcher.py:14: DataConversionWarning: A column-vector y was passed when a 1d array was expected. Please change the shape of y to (n_samples,), for example using ravel().\n",
      "  \n"
     ]
    },
    {
     "name": "stdout",
     "output_type": "stream",
     "text": [
      "Accuracy for the fold no. 1 on the test set: 0.9499399279134962\n",
      "[    0     1     2 ... 12482 12483 12484] [    6    14    20 ... 12456 12469 12473]\n"
     ]
    },
    {
     "name": "stderr",
     "output_type": "stream",
     "text": [
      "/Users/ozge.bursa/opt/anaconda3/lib/python3.7/site-packages/ipykernel_launcher.py:14: DataConversionWarning: A column-vector y was passed when a 1d array was expected. Please change the shape of y to (n_samples,), for example using ravel().\n",
      "  \n"
     ]
    },
    {
     "name": "stdout",
     "output_type": "stream",
     "text": [
      "Accuracy for the fold no. 2 on the test set: 0.9495394473368042\n",
      "[    0     2     3 ... 12481 12483 12484] [    1     8    17 ... 12470 12476 12482]\n"
     ]
    },
    {
     "name": "stderr",
     "output_type": "stream",
     "text": [
      "/Users/ozge.bursa/opt/anaconda3/lib/python3.7/site-packages/ipykernel_launcher.py:14: DataConversionWarning: A column-vector y was passed when a 1d array was expected. Please change the shape of y to (n_samples,), for example using ravel().\n",
      "  \n"
     ]
    },
    {
     "name": "stdout",
     "output_type": "stream",
     "text": [
      "Accuracy for the fold no. 3 on the test set: 0.9547456948338006\n",
      "[    1     2     3 ... 12482 12483 12484] [    0    12    13 ... 12472 12475 12479]\n"
     ]
    },
    {
     "name": "stderr",
     "output_type": "stream",
     "text": [
      "/Users/ozge.bursa/opt/anaconda3/lib/python3.7/site-packages/ipykernel_launcher.py:14: DataConversionWarning: A column-vector y was passed when a 1d array was expected. Please change the shape of y to (n_samples,), for example using ravel().\n",
      "  \n"
     ]
    },
    {
     "name": "stdout",
     "output_type": "stream",
     "text": [
      "Accuracy for the fold no. 4 on the test set: 0.9515418502202643\n",
      "[    0     1     2 ... 12479 12482 12483] [    3     4    10 ... 12480 12481 12484]\n"
     ]
    },
    {
     "name": "stderr",
     "output_type": "stream",
     "text": [
      "/Users/ozge.bursa/opt/anaconda3/lib/python3.7/site-packages/ipykernel_launcher.py:14: DataConversionWarning: A column-vector y was passed when a 1d array was expected. Please change the shape of y to (n_samples,), for example using ravel().\n",
      "  \n"
     ]
    },
    {
     "name": "stdout",
     "output_type": "stream",
     "text": [
      "Accuracy for the fold no. 5 on the test set: 0.9527432919503404\n"
     ]
    }
   ],
   "source": [
    "from sklearn.metrics import accuracy_score\n",
    "\n",
    "scores = []\n",
    "i = 1\n",
    "for train_index, test_index in kf5.split(df_over):\n",
    "    print(train_index, test_index)\n",
    "    trainX = df_over.iloc[train_index].drop([\"class\"], 1)\n",
    "    testX = df_over.iloc[test_index].drop([\"class\"], 1)\n",
    "    trainY = df_over.iloc[train_index][[\"class\"]]\n",
    "    testY = df_over.loc[test_index][[\"class\"]]\n",
    "    \n",
    "    #Train the model\n",
    "    csf = RandomForestClassifier(n_estimators=500, class_weight= dict(1- trainY['class'].value_counts(normalize=True)))\n",
    "    csf.fit(trainX, trainY)\n",
    "    pred = csf.predict(testX)\n",
    "\n",
    "    y_test = testY[['class']]\n",
    "    y_pred = pd.DataFrame(pred, columns=['class'])[['class']]\n",
    "    \n",
    "    #Evaluate\n",
    "    print(f\"Accuracy for the fold no. {i} on the test set: {accuracy_score(y_test, y_pred)}\")\n",
    "    scores.append(accuracy_score(y_test, y_pred))\n",
    "    i += 1"
   ]
  },
  {
   "cell_type": "code",
   "execution_count": 26,
   "metadata": {},
   "outputs": [
    {
     "data": {
      "text/plain": [
       "[0.9499399279134962,\n",
       " 0.9495394473368042,\n",
       " 0.9547456948338006,\n",
       " 0.9515418502202643,\n",
       " 0.9527432919503404]"
      ]
     },
     "execution_count": 26,
     "metadata": {},
     "output_type": "execute_result"
    }
   ],
   "source": [
    "scores"
   ]
  },
  {
   "cell_type": "code",
   "execution_count": 27,
   "metadata": {},
   "outputs": [
    {
     "data": {
      "text/plain": [
       "0.9517020424509411"
      ]
     },
     "execution_count": 27,
     "metadata": {},
     "output_type": "execute_result"
    }
   ],
   "source": [
    "from statistics import mean\n",
    "mean(scores)"
   ]
  },
  {
   "cell_type": "markdown",
   "metadata": {},
   "source": [
    "# K-fold User-Class"
   ]
  },
  {
   "cell_type": "code",
   "execution_count": null,
   "metadata": {},
   "outputs": [],
   "source": []
  },
  {
   "cell_type": "code",
   "execution_count": 28,
   "metadata": {},
   "outputs": [],
   "source": [
    "from sklearn.model_selection import KFold\n",
    "\n",
    "kf5 = KFold(n_splits = 5, shuffle = True)"
   ]
  },
  {
   "cell_type": "code",
   "execution_count": 29,
   "metadata": {},
   "outputs": [
    {
     "name": "stdout",
     "output_type": "stream",
     "text": [
      "[   0    1    2 ... 5415 5416 5417] [   3    5    7 ... 5401 5403 5408]\n",
      "Accuracy for the fold no. 1 on the test set: 0.9012915129151291\n",
      "[   1    3    4 ... 5414 5415 5416] [   0    2    6 ... 5412 5413 5417]\n",
      "Accuracy for the fold no. 2 on the test set: 0.9040590405904059\n",
      "[   0    2    3 ... 5415 5416 5417] [   1    8   10 ... 5398 5400 5407]\n",
      "Accuracy for the fold no. 3 on the test set: 0.8939114391143912\n",
      "[   0    1    2 ... 5414 5416 5417] [  17   18   20 ... 5404 5409 5415]\n",
      "Accuracy for the fold no. 4 on the test set: 0.8975069252077562\n",
      "[   0    1    2 ... 5413 5415 5417] [   4    9   12 ... 5406 5414 5416]\n",
      "Accuracy for the fold no. 5 on the test set: 0.889196675900277\n"
     ]
    }
   ],
   "source": [
    "from sklearn.metrics import accuracy_score\n",
    "\n",
    "scores = []\n",
    "i = 1\n",
    "for train_index, test_index in kf5.split(df):\n",
    "    print(train_index, test_index)\n",
    "    trainX = df.iloc[train_index].drop([\"user\", \"class\"], 1)\n",
    "    testX = df.iloc[test_index].drop([\"user\", \"class\"], 1)\n",
    "    trainY = df.iloc[train_index][[\"user\", \"class\"]]\n",
    "    testY = df.loc[test_index][[\"user\", \"class\"]]\n",
    "    \n",
    "    #Train the model\n",
    "    csf = RandomForestClassifier(n_estimators=500, class_weight=[dict(1 - trainY['user'].value_counts(normalize=True)), \n",
    "                                                                 dict(1- trainY['class'].value_counts(normalize=True))])\n",
    "    csf.fit(trainX, trainY)\n",
    "    pred = csf.predict(testX)\n",
    "\n",
    "    y_test = testY[['class']]\n",
    "    y_pred = pd.DataFrame(pred, columns=['user', 'class'])[['class']]\n",
    "    \n",
    "    #Evaluate\n",
    "    print(f\"Accuracy for the fold no. {i} on the test set: {accuracy_score(y_test, y_pred)}\")\n",
    "    scores.append(accuracy_score(y_test, y_pred))\n",
    "    i += 1"
   ]
  },
  {
   "cell_type": "code",
   "execution_count": 30,
   "metadata": {},
   "outputs": [
    {
     "data": {
      "text/plain": [
       "0.8971931187455918"
      ]
     },
     "execution_count": 30,
     "metadata": {},
     "output_type": "execute_result"
    }
   ],
   "source": [
    "mean(scores)"
   ]
  },
  {
   "cell_type": "markdown",
   "metadata": {},
   "source": [
    "# K-fold Class"
   ]
  },
  {
   "cell_type": "code",
   "execution_count": 31,
   "metadata": {},
   "outputs": [],
   "source": [
    "from sklearn.model_selection import KFold\n",
    "\n",
    "kf5 = KFold(n_splits = 5, shuffle = True)"
   ]
  },
  {
   "cell_type": "code",
   "execution_count": 32,
   "metadata": {},
   "outputs": [
    {
     "name": "stdout",
     "output_type": "stream",
     "text": [
      "[   0    1    2 ... 5413 5416 5417] [   4    6    7 ... 5397 5414 5415]\n"
     ]
    },
    {
     "name": "stderr",
     "output_type": "stream",
     "text": [
      "/Users/ozge.bursa/opt/anaconda3/lib/python3.7/site-packages/ipykernel_launcher.py:14: DataConversionWarning: A column-vector y was passed when a 1d array was expected. Please change the shape of y to (n_samples,), for example using ravel().\n",
      "  \n"
     ]
    },
    {
     "name": "stdout",
     "output_type": "stream",
     "text": [
      "Accuracy for the fold no. 1 on the test set: 0.8985239852398524\n",
      "[   0    1    2 ... 5415 5416 5417] [   5   10   11 ... 5403 5404 5409]\n"
     ]
    },
    {
     "name": "stderr",
     "output_type": "stream",
     "text": [
      "/Users/ozge.bursa/opt/anaconda3/lib/python3.7/site-packages/ipykernel_launcher.py:14: DataConversionWarning: A column-vector y was passed when a 1d array was expected. Please change the shape of y to (n_samples,), for example using ravel().\n",
      "  \n"
     ]
    },
    {
     "name": "stdout",
     "output_type": "stream",
     "text": [
      "Accuracy for the fold no. 2 on the test set: 0.8994464944649446\n",
      "[   0    1    3 ... 5414 5415 5417] [   2    9   14 ... 5396 5405 5416]\n"
     ]
    },
    {
     "name": "stderr",
     "output_type": "stream",
     "text": [
      "/Users/ozge.bursa/opt/anaconda3/lib/python3.7/site-packages/ipykernel_launcher.py:14: DataConversionWarning: A column-vector y was passed when a 1d array was expected. Please change the shape of y to (n_samples,), for example using ravel().\n",
      "  \n"
     ]
    },
    {
     "name": "stdout",
     "output_type": "stream",
     "text": [
      "Accuracy for the fold no. 3 on the test set: 0.8892988929889298\n",
      "[   2    3    4 ... 5414 5415 5416] [   0    1   17 ... 5412 5413 5417]\n"
     ]
    },
    {
     "name": "stderr",
     "output_type": "stream",
     "text": [
      "/Users/ozge.bursa/opt/anaconda3/lib/python3.7/site-packages/ipykernel_launcher.py:14: DataConversionWarning: A column-vector y was passed when a 1d array was expected. Please change the shape of y to (n_samples,), for example using ravel().\n",
      "  \n"
     ]
    },
    {
     "name": "stdout",
     "output_type": "stream",
     "text": [
      "Accuracy for the fold no. 4 on the test set: 0.8744228993536473\n",
      "[   0    1    2 ... 5415 5416 5417] [   3   12   19 ... 5394 5406 5408]\n"
     ]
    },
    {
     "name": "stderr",
     "output_type": "stream",
     "text": [
      "/Users/ozge.bursa/opt/anaconda3/lib/python3.7/site-packages/ipykernel_launcher.py:14: DataConversionWarning: A column-vector y was passed when a 1d array was expected. Please change the shape of y to (n_samples,), for example using ravel().\n",
      "  \n"
     ]
    },
    {
     "name": "stdout",
     "output_type": "stream",
     "text": [
      "Accuracy for the fold no. 5 on the test set: 0.8919667590027701\n"
     ]
    }
   ],
   "source": [
    "from sklearn.metrics import accuracy_score\n",
    "\n",
    "scores = []\n",
    "i = 1\n",
    "for train_index, test_index in kf5.split(df):\n",
    "    print(train_index, test_index)\n",
    "    trainX = df.iloc[train_index].drop([\"user\", \"class\"], 1)\n",
    "    testX = df.iloc[test_index].drop([\"user\", \"class\"], 1)\n",
    "    trainY = df.iloc[train_index][[\"class\"]]\n",
    "    testY = df.loc[test_index][[\"class\"]]\n",
    "    \n",
    "    #Train the model\n",
    "    csf = RandomForestClassifier(n_estimators=500, class_weight= dict(1- trainY['class'].value_counts(normalize=True)))\n",
    "    csf.fit(trainX, trainY)\n",
    "    pred = csf.predict(testX)\n",
    "\n",
    "    y_test = testY[['class']]\n",
    "    y_pred = pd.DataFrame(pred, columns=['class'])[['class']]\n",
    "    \n",
    "    #Evaluate\n",
    "    print(f\"Accuracy for the fold no. {i} on the test set: {accuracy_score(y_test, y_pred)}\")\n",
    "    scores.append(accuracy_score(y_test, y_pred))\n",
    "    i += 1"
   ]
  },
  {
   "cell_type": "code",
   "execution_count": 33,
   "metadata": {},
   "outputs": [
    {
     "data": {
      "text/plain": [
       "0.8907318062100289"
      ]
     },
     "execution_count": 33,
     "metadata": {},
     "output_type": "execute_result"
    }
   ],
   "source": [
    "mean(scores)"
   ]
  },
  {
   "cell_type": "markdown",
   "metadata": {},
   "source": [
    "# User, Class"
   ]
  },
  {
   "cell_type": "code",
   "execution_count": 34,
   "metadata": {},
   "outputs": [
    {
     "name": "stdout",
     "output_type": "stream",
     "text": [
      "Accuracy for the fold no. 1 on the test set: 0.8948339483394834\n",
      "Accuracy for the fold no. 2 on the test set: 0.8948339483394834\n",
      "Accuracy for the fold no. 3 on the test set: 0.8819188191881919\n",
      "Accuracy for the fold no. 4 on the test set: 0.9003690036900369\n",
      "Accuracy for the fold no. 5 on the test set: 0.8911439114391144\n",
      "Accuracy for the fold no. 6 on the test set: 0.9261992619926199\n",
      "Accuracy for the fold no. 7 on the test set: 0.9298892988929889\n",
      "Accuracy for the fold no. 8 on the test set: 0.9169741697416974\n",
      "Accuracy for the fold no. 9 on the test set: 0.9279112754158965\n",
      "Accuracy for the fold no. 10 on the test set: 0.8946395563770795\n"
     ]
    }
   ],
   "source": [
    "from sklearn.model_selection import KFold\n",
    "from sklearn.metrics import accuracy_score\n",
    "\n",
    "scores = []\n",
    "\n",
    "kf10 = KFold(n_splits = 10, shuffle = True)\n",
    "\n",
    "i = 1\n",
    "for train_index, test_index in kf10.split(df):\n",
    "    trainX = df.iloc[train_index].drop([\"user\", \"class\"], 1)\n",
    "    testX = df.iloc[test_index].drop([\"user\", \"class\"], 1)\n",
    "    trainY = df.iloc[train_index][[\"user\", \"class\"]]\n",
    "    testY = df.loc[test_index][[\"user\", \"class\"]]\n",
    "    \n",
    "    #Train the model\n",
    "    csf = RandomForestClassifier(n_estimators=500, class_weight=[dict(1 - trainY['user'].value_counts(normalize=True)), \n",
    "                                                                 dict(1- trainY['class'].value_counts(normalize=True))])\n",
    "    csf.fit(trainX, trainY)\n",
    "    pred = csf.predict(testX)\n",
    "\n",
    "    y_test = testY[['class']]\n",
    "    y_pred = pd.DataFrame(pred, columns=['user', 'class'])[['class']]\n",
    "    \n",
    "    #Evaluate\n",
    "    print(f\"Accuracy for the fold no. {i} on the test set: {accuracy_score(y_test, y_pred)}\")\n",
    "    scores.append(accuracy_score(y_test, y_pred))\n",
    "    i += 1"
   ]
  },
  {
   "cell_type": "code",
   "execution_count": 35,
   "metadata": {},
   "outputs": [
    {
     "data": {
      "text/plain": [
       "0.8819188191881919"
      ]
     },
     "execution_count": 35,
     "metadata": {},
     "output_type": "execute_result"
    }
   ],
   "source": [
    "min(scores) # n_estimators  "
   ]
  },
  {
   "cell_type": "markdown",
   "metadata": {},
   "source": [
    "# Class"
   ]
  },
  {
   "cell_type": "code",
   "execution_count": 36,
   "metadata": {},
   "outputs": [
    {
     "name": "stderr",
     "output_type": "stream",
     "text": [
      "/Users/ozge.bursa/opt/anaconda3/lib/python3.7/site-packages/ipykernel_launcher.py:17: DataConversionWarning: A column-vector y was passed when a 1d array was expected. Please change the shape of y to (n_samples,), for example using ravel().\n"
     ]
    },
    {
     "name": "stdout",
     "output_type": "stream",
     "text": [
      "Accuracy for the fold no. 1 on the test set: 0.8966789667896679\n"
     ]
    },
    {
     "name": "stderr",
     "output_type": "stream",
     "text": [
      "/Users/ozge.bursa/opt/anaconda3/lib/python3.7/site-packages/ipykernel_launcher.py:17: DataConversionWarning: A column-vector y was passed when a 1d array was expected. Please change the shape of y to (n_samples,), for example using ravel().\n"
     ]
    },
    {
     "name": "stdout",
     "output_type": "stream",
     "text": [
      "Accuracy for the fold no. 2 on the test set: 0.8929889298892989\n"
     ]
    },
    {
     "name": "stderr",
     "output_type": "stream",
     "text": [
      "/Users/ozge.bursa/opt/anaconda3/lib/python3.7/site-packages/ipykernel_launcher.py:17: DataConversionWarning: A column-vector y was passed when a 1d array was expected. Please change the shape of y to (n_samples,), for example using ravel().\n"
     ]
    },
    {
     "name": "stdout",
     "output_type": "stream",
     "text": [
      "Accuracy for the fold no. 3 on the test set: 0.8929889298892989\n"
     ]
    },
    {
     "name": "stderr",
     "output_type": "stream",
     "text": [
      "/Users/ozge.bursa/opt/anaconda3/lib/python3.7/site-packages/ipykernel_launcher.py:17: DataConversionWarning: A column-vector y was passed when a 1d array was expected. Please change the shape of y to (n_samples,), for example using ravel().\n"
     ]
    },
    {
     "name": "stdout",
     "output_type": "stream",
     "text": [
      "Accuracy for the fold no. 4 on the test set: 0.8929889298892989\n"
     ]
    },
    {
     "name": "stderr",
     "output_type": "stream",
     "text": [
      "/Users/ozge.bursa/opt/anaconda3/lib/python3.7/site-packages/ipykernel_launcher.py:17: DataConversionWarning: A column-vector y was passed when a 1d array was expected. Please change the shape of y to (n_samples,), for example using ravel().\n"
     ]
    },
    {
     "name": "stdout",
     "output_type": "stream",
     "text": [
      "Accuracy for the fold no. 5 on the test set: 0.8911439114391144\n"
     ]
    },
    {
     "name": "stderr",
     "output_type": "stream",
     "text": [
      "/Users/ozge.bursa/opt/anaconda3/lib/python3.7/site-packages/ipykernel_launcher.py:17: DataConversionWarning: A column-vector y was passed when a 1d array was expected. Please change the shape of y to (n_samples,), for example using ravel().\n"
     ]
    },
    {
     "name": "stdout",
     "output_type": "stream",
     "text": [
      "Accuracy for the fold no. 6 on the test set: 0.8874538745387454\n"
     ]
    },
    {
     "name": "stderr",
     "output_type": "stream",
     "text": [
      "/Users/ozge.bursa/opt/anaconda3/lib/python3.7/site-packages/ipykernel_launcher.py:17: DataConversionWarning: A column-vector y was passed when a 1d array was expected. Please change the shape of y to (n_samples,), for example using ravel().\n"
     ]
    },
    {
     "name": "stdout",
     "output_type": "stream",
     "text": [
      "Accuracy for the fold no. 7 on the test set: 0.8985239852398524\n"
     ]
    },
    {
     "name": "stderr",
     "output_type": "stream",
     "text": [
      "/Users/ozge.bursa/opt/anaconda3/lib/python3.7/site-packages/ipykernel_launcher.py:17: DataConversionWarning: A column-vector y was passed when a 1d array was expected. Please change the shape of y to (n_samples,), for example using ravel().\n"
     ]
    },
    {
     "name": "stdout",
     "output_type": "stream",
     "text": [
      "Accuracy for the fold no. 8 on the test set: 0.8892988929889298\n"
     ]
    },
    {
     "name": "stderr",
     "output_type": "stream",
     "text": [
      "/Users/ozge.bursa/opt/anaconda3/lib/python3.7/site-packages/ipykernel_launcher.py:17: DataConversionWarning: A column-vector y was passed when a 1d array was expected. Please change the shape of y to (n_samples,), for example using ravel().\n"
     ]
    },
    {
     "name": "stdout",
     "output_type": "stream",
     "text": [
      "Accuracy for the fold no. 9 on the test set: 0.9038817005545287\n"
     ]
    },
    {
     "name": "stderr",
     "output_type": "stream",
     "text": [
      "/Users/ozge.bursa/opt/anaconda3/lib/python3.7/site-packages/ipykernel_launcher.py:17: DataConversionWarning: A column-vector y was passed when a 1d array was expected. Please change the shape of y to (n_samples,), for example using ravel().\n"
     ]
    },
    {
     "name": "stdout",
     "output_type": "stream",
     "text": [
      "Accuracy for the fold no. 10 on the test set: 0.9075785582255084\n"
     ]
    }
   ],
   "source": [
    "from sklearn.model_selection import KFold\n",
    "from sklearn.metrics import accuracy_score\n",
    "\n",
    "scores2 = []\n",
    "\n",
    "kf10 = KFold(n_splits = 10, shuffle = True)\n",
    "\n",
    "i = 1\n",
    "for train_index, test_index in kf10.split(df):\n",
    "    trainX = df.iloc[train_index].drop([\"user\", \"class\"], 1)\n",
    "    testX = df.iloc[test_index].drop([\"user\", \"class\"], 1)\n",
    "    trainY = df.iloc[train_index][[\"class\"]]\n",
    "    testY = df.loc[test_index][[\"class\"]]\n",
    "    \n",
    "    #Train the model\n",
    "    csf = RandomForestClassifier(n_estimators=500, class_weight=dict(1- trainY['class'].value_counts(normalize=True)))\n",
    "    csf.fit(trainX, trainY)\n",
    "    pred = csf.predict(testX)\n",
    "\n",
    "    y_test = testY[['class']]\n",
    "    y_pred = pd.DataFrame(pred, columns=['class'])[['class']]\n",
    "    \n",
    "    #Evaluate\n",
    "    print(f\"Accuracy for the fold no. {i} on the test set: {accuracy_score(y_test, y_pred)}\")\n",
    "    scores2.append(accuracy_score(y_test, y_pred))\n",
    "    i += 1"
   ]
  },
  {
   "cell_type": "code",
   "execution_count": 37,
   "metadata": {},
   "outputs": [
    {
     "data": {
      "text/plain": [
       "0.8874538745387454"
      ]
     },
     "execution_count": 37,
     "metadata": {},
     "output_type": "execute_result"
    }
   ],
   "source": [
    "min(scores2) # n_estimators  "
   ]
  },
  {
   "cell_type": "code",
   "execution_count": 38,
   "metadata": {},
   "outputs": [
    {
     "name": "stdout",
     "output_type": "stream",
     "text": [
      "0.9075785582255084\n"
     ]
    }
   ],
   "source": [
    "# Accuracy\n",
    "from sklearn.metrics import accuracy_score\n",
    "print(accuracy_score(y_test, y_pred))"
   ]
  },
  {
   "cell_type": "code",
   "execution_count": 39,
   "metadata": {},
   "outputs": [
    {
     "name": "stdout",
     "output_type": "stream",
     "text": [
      "[[ 33   0   0   0  13  13]\n",
      " [  2 158   0   0   2   1]\n",
      " [  1   0  35   0   0   0]\n",
      " [  0   0   0  27   0   0]\n",
      " [  0   3   0   0  36  13]\n",
      " [  2   0   0   0   0 202]]\n"
     ]
    }
   ],
   "source": [
    "from sklearn.metrics import confusion_matrix\n",
    "print(confusion_matrix(y_test,y_pred))"
   ]
  },
  {
   "cell_type": "code",
   "execution_count": 40,
   "metadata": {},
   "outputs": [
    {
     "name": "stdout",
     "output_type": "stream",
     "text": [
      "[0.55932203 0.96932515 0.97222222 1.         0.69230769 0.99019608]\n",
      "[0.86842105 0.98136646 1.         1.         0.70588235 0.88209607]\n"
     ]
    },
    {
     "name": "stderr",
     "output_type": "stream",
     "text": [
      "/Users/ozge.bursa/opt/anaconda3/lib/python3.7/site-packages/sklearn/preprocessing/label.py:273: DataConversionWarning: A column-vector y was passed when a 1d array was expected. Please change the shape of y to (n_samples, ), for example using ravel().\n",
      "  y = column_or_1d(y, warn=True)\n"
     ]
    },
    {
     "data": {
      "text/plain": [
       "array([0.68041237, 0.97530864, 0.98591549, 1.        , 0.69902913,\n",
       "       0.9330254 ])"
      ]
     },
     "execution_count": 40,
     "metadata": {},
     "output_type": "execute_result"
    }
   ],
   "source": [
    "# Recall\n",
    "from sklearn.metrics import recall_score\n",
    "print(recall_score(clEnc.inverse_transform(y_test), clEnc.inverse_transform(y_pred), average=None))\n",
    "# Precision\n",
    "from sklearn.metrics import precision_score\n",
    "print(precision_score(clEnc.inverse_transform(y_test), clEnc.inverse_transform(y_pred), average=None))\n",
    "# F1 score\n",
    "from sklearn.metrics import f1_score\n",
    "f1_score(clEnc.inverse_transform(y_test), clEnc.inverse_transform(y_pred), average=None)"
   ]
  }
 ],
 "metadata": {
  "kernelspec": {
   "display_name": "Python 3",
   "language": "python",
   "name": "python3"
  },
  "language_info": {
   "codemirror_mode": {
    "name": "ipython",
    "version": 3
   },
   "file_extension": ".py",
   "mimetype": "text/x-python",
   "name": "python",
   "nbconvert_exporter": "python",
   "pygments_lexer": "ipython3",
   "version": "3.7.4"
  }
 },
 "nbformat": 4,
 "nbformat_minor": 4
}
