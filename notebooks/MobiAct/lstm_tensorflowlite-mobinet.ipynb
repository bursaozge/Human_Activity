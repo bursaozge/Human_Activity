{
 "cells": [
  {
   "cell_type": "code",
   "execution_count": 1,
   "metadata": {},
   "outputs": [
    {
     "name": "stderr",
     "output_type": "stream",
     "text": [
      "/Users/ozge.bursa/opt/anaconda3/lib/python3.7/site-packages/statsmodels/tools/_testing.py:19: FutureWarning: pandas.util.testing is deprecated. Use the functions in the public API at pandas.testing instead.\n",
      "  import pandas.util.testing as tm\n"
     ]
    }
   ],
   "source": [
    "import numpy as np\n",
    "import tensorflow as tf\n",
    "from tensorflow import keras\n",
    "import pandas as pd\n",
    "import seaborn as sns\n",
    "from pylab import rcParams\n",
    "import matplotlib.pyplot as plt\n",
    "from matplotlib import rc\n",
    "from pandas.plotting import register_matplotlib_converters\n",
    "\n",
    "%matplotlib inline\n",
    "%config InlineBackend.figure_format='retina'\n",
    "\n",
    "register_matplotlib_converters()\n",
    "sns.set(style='whitegrid', palette='muted', font_scale=1.5)\n",
    "\n",
    "rcParams['figure.figsize'] = 22, 10\n",
    "\n",
    "RANDOM_SEED = 42\n",
    "\n",
    "np.random.seed(RANDOM_SEED)\n",
    "#tf.random.set_random_seed(RANDOM_SEED)"
   ]
  },
  {
   "cell_type": "code",
   "execution_count": 2,
   "metadata": {},
   "outputs": [
    {
     "data": {
      "text/plain": [
       "'2.5.0'"
      ]
     },
     "execution_count": 2,
     "metadata": {},
     "output_type": "execute_result"
    }
   ],
   "source": [
    "tf.__version__"
   ]
  },
  {
   "cell_type": "code",
   "execution_count": 3,
   "metadata": {},
   "outputs": [],
   "source": [
    "# Tensorflow 2"
   ]
  },
  {
   "cell_type": "code",
   "execution_count": 4,
   "metadata": {},
   "outputs": [],
   "source": [
    "#!pip3 install --upgrade tensorflow"
   ]
  },
  {
   "cell_type": "code",
   "execution_count": 5,
   "metadata": {},
   "outputs": [],
   "source": [
    "column_names = ['user_id', 'activity', 'timestamp', 'x_axis', 'y_axis', 'z_axis']\n",
    "\n",
    "df = pd.read_csv('../data/MobiAct/raw_data.csv')"
   ]
  },
  {
   "cell_type": "code",
   "execution_count": 6,
   "metadata": {},
   "outputs": [
    {
     "data": {
      "text/html": [
       "<div>\n",
       "<style scoped>\n",
       "    .dataframe tbody tr th:only-of-type {\n",
       "        vertical-align: middle;\n",
       "    }\n",
       "\n",
       "    .dataframe tbody tr th {\n",
       "        vertical-align: top;\n",
       "    }\n",
       "\n",
       "    .dataframe thead th {\n",
       "        text-align: right;\n",
       "    }\n",
       "</style>\n",
       "<table border=\"1\" class=\"dataframe\">\n",
       "  <thead>\n",
       "    <tr style=\"text-align: right;\">\n",
       "      <th></th>\n",
       "      <th>timestamp</th>\n",
       "      <th>x_axis</th>\n",
       "      <th>y_axis</th>\n",
       "      <th>z_axis</th>\n",
       "      <th>activity</th>\n",
       "      <th>user_id</th>\n",
       "    </tr>\n",
       "  </thead>\n",
       "  <tbody>\n",
       "    <tr>\n",
       "      <th>0</th>\n",
       "      <td>235423306000</td>\n",
       "      <td>-0.172383</td>\n",
       "      <td>9.883265</td>\n",
       "      <td>-0.450110</td>\n",
       "      <td>STD</td>\n",
       "      <td>39</td>\n",
       "    </tr>\n",
       "    <tr>\n",
       "      <th>1</th>\n",
       "      <td>235450722000</td>\n",
       "      <td>-0.220267</td>\n",
       "      <td>9.921572</td>\n",
       "      <td>-0.440533</td>\n",
       "      <td>STD</td>\n",
       "      <td>39</td>\n",
       "    </tr>\n",
       "  </tbody>\n",
       "</table>\n",
       "</div>"
      ],
      "text/plain": [
       "      timestamp    x_axis    y_axis    z_axis activity  user_id\n",
       "0  235423306000 -0.172383  9.883265 -0.450110      STD       39\n",
       "1  235450722000 -0.220267  9.921572 -0.440533      STD       39"
      ]
     },
     "execution_count": 6,
     "metadata": {},
     "output_type": "execute_result"
    }
   ],
   "source": [
    "df = df.rename(columns={'User': 'user_id', 'Activity':'activity', \n",
    "                   'Time': 'timestamp', 'x':'x_axis', 'y':'y_axis', 'z':'z_axis'})\n",
    "df.head(2)"
   ]
  },
  {
   "cell_type": "code",
   "execution_count": 7,
   "metadata": {},
   "outputs": [
    {
     "name": "stdout",
     "output_type": "stream",
     "text": [
      "<class 'pandas.core.frame.DataFrame'>\n",
      "RangeIndex: 5275371 entries, 0 to 5275370\n",
      "Data columns (total 6 columns):\n",
      " #   Column     Dtype  \n",
      "---  ------     -----  \n",
      " 0   timestamp  int64  \n",
      " 1   x_axis     float64\n",
      " 2   y_axis     float64\n",
      " 3   z_axis     float64\n",
      " 4   activity   object \n",
      " 5   user_id    int64  \n",
      "dtypes: float64(3), int64(2), object(1)\n",
      "memory usage: 241.5+ MB\n"
     ]
    }
   ],
   "source": [
    "df.info()"
   ]
  },
  {
   "cell_type": "code",
   "execution_count": 8,
   "metadata": {},
   "outputs": [],
   "source": [
    "df.dropna(axis=0, how='any', inplace=True)"
   ]
  },
  {
   "cell_type": "code",
   "execution_count": 9,
   "metadata": {},
   "outputs": [
    {
     "data": {
      "text/html": [
       "<div>\n",
       "<style scoped>\n",
       "    .dataframe tbody tr th:only-of-type {\n",
       "        vertical-align: middle;\n",
       "    }\n",
       "\n",
       "    .dataframe tbody tr th {\n",
       "        vertical-align: top;\n",
       "    }\n",
       "\n",
       "    .dataframe thead th {\n",
       "        text-align: right;\n",
       "    }\n",
       "</style>\n",
       "<table border=\"1\" class=\"dataframe\">\n",
       "  <thead>\n",
       "    <tr style=\"text-align: right;\">\n",
       "      <th></th>\n",
       "      <th>timestamp</th>\n",
       "      <th>x_axis</th>\n",
       "      <th>y_axis</th>\n",
       "      <th>z_axis</th>\n",
       "      <th>activity</th>\n",
       "      <th>user_id</th>\n",
       "    </tr>\n",
       "  </thead>\n",
       "  <tbody>\n",
       "    <tr>\n",
       "      <th>0</th>\n",
       "      <td>235423306000</td>\n",
       "      <td>-0.172383</td>\n",
       "      <td>9.883265</td>\n",
       "      <td>-0.450110</td>\n",
       "      <td>STD</td>\n",
       "      <td>39</td>\n",
       "    </tr>\n",
       "    <tr>\n",
       "      <th>1</th>\n",
       "      <td>235450722000</td>\n",
       "      <td>-0.220267</td>\n",
       "      <td>9.921572</td>\n",
       "      <td>-0.440533</td>\n",
       "      <td>STD</td>\n",
       "      <td>39</td>\n",
       "    </tr>\n",
       "    <tr>\n",
       "      <th>2</th>\n",
       "      <td>235460429000</td>\n",
       "      <td>-0.258574</td>\n",
       "      <td>9.892841</td>\n",
       "      <td>-0.459687</td>\n",
       "      <td>STD</td>\n",
       "      <td>39</td>\n",
       "    </tr>\n",
       "    <tr>\n",
       "      <th>3</th>\n",
       "      <td>235470358000</td>\n",
       "      <td>-0.248997</td>\n",
       "      <td>9.873688</td>\n",
       "      <td>-0.450110</td>\n",
       "      <td>STD</td>\n",
       "      <td>39</td>\n",
       "    </tr>\n",
       "    <tr>\n",
       "      <th>4</th>\n",
       "      <td>235490379000</td>\n",
       "      <td>-0.229843</td>\n",
       "      <td>9.825804</td>\n",
       "      <td>-0.411803</td>\n",
       "      <td>STD</td>\n",
       "      <td>39</td>\n",
       "    </tr>\n",
       "  </tbody>\n",
       "</table>\n",
       "</div>"
      ],
      "text/plain": [
       "      timestamp    x_axis    y_axis    z_axis activity  user_id\n",
       "0  235423306000 -0.172383  9.883265 -0.450110      STD       39\n",
       "1  235450722000 -0.220267  9.921572 -0.440533      STD       39\n",
       "2  235460429000 -0.258574  9.892841 -0.459687      STD       39\n",
       "3  235470358000 -0.248997  9.873688 -0.450110      STD       39\n",
       "4  235490379000 -0.229843  9.825804 -0.411803      STD       39"
      ]
     },
     "execution_count": 9,
     "metadata": {},
     "output_type": "execute_result"
    }
   ],
   "source": [
    "df.head()"
   ]
  },
  {
   "cell_type": "code",
   "execution_count": 10,
   "metadata": {},
   "outputs": [
    {
     "data": {
      "text/plain": [
       "array([39, 41, 20, 65, 58, 22, 67, 43, 47,  9, 26, 63, 24, 61, 19, 45, 66,\n",
       "       23, 42, 40, 38, 59, 64, 21, 18, 60, 25, 44, 46, 62, 27,  8, 16, 53,\n",
       "        4, 32, 48, 29,  6, 51,  2, 10, 55, 34, 36, 12, 57, 49, 50,  7, 28,\n",
       "        5, 52, 33, 37,  1, 56, 54, 11,  3, 35])"
      ]
     },
     "execution_count": 10,
     "metadata": {},
     "output_type": "execute_result"
    }
   ],
   "source": [
    "df.user_id.unique()"
   ]
  },
  {
   "cell_type": "code",
   "execution_count": 11,
   "metadata": {},
   "outputs": [
    {
     "data": {
      "text/plain": [
       "61"
      ]
     },
     "execution_count": 11,
     "metadata": {},
     "output_type": "execute_result"
    }
   ],
   "source": [
    "df.user_id.nunique()"
   ]
  },
  {
   "cell_type": "code",
   "execution_count": 12,
   "metadata": {},
   "outputs": [],
   "source": [
    "df_train = df[df['user_id'] <= 50]\n",
    "df_test = df[df['user_id'] > 50]"
   ]
  },
  {
   "cell_type": "code",
   "execution_count": 13,
   "metadata": {},
   "outputs": [
    {
     "data": {
      "text/plain": [
       "0.7188400588318812"
      ]
     },
     "execution_count": 13,
     "metadata": {},
     "output_type": "execute_result"
    }
   ],
   "source": [
    "df_train.shape[0] / df.shape[0]"
   ]
  },
  {
   "cell_type": "code",
   "execution_count": 14,
   "metadata": {},
   "outputs": [
    {
     "data": {
      "text/plain": [
       "(1483223, 6)"
      ]
     },
     "execution_count": 14,
     "metadata": {},
     "output_type": "execute_result"
    }
   ],
   "source": [
    "df_test.shape"
   ]
  },
  {
   "cell_type": "code",
   "execution_count": 15,
   "metadata": {},
   "outputs": [
    {
     "name": "stderr",
     "output_type": "stream",
     "text": [
      "/Users/ozge.bursa/opt/anaconda3/lib/python3.7/site-packages/pandas/core/indexing.py:966: SettingWithCopyWarning: \n",
      "A value is trying to be set on a copy of a slice from a DataFrame.\n",
      "Try using .loc[row_indexer,col_indexer] = value instead\n",
      "\n",
      "See the caveats in the documentation: https://pandas.pydata.org/pandas-docs/stable/user_guide/indexing.html#returning-a-view-versus-a-copy\n",
      "  self.obj[item] = s\n",
      "/Users/ozge.bursa/opt/anaconda3/lib/python3.7/site-packages/pandas/core/indexing.py:966: SettingWithCopyWarning: \n",
      "A value is trying to be set on a copy of a slice from a DataFrame.\n",
      "Try using .loc[row_indexer,col_indexer] = value instead\n",
      "\n",
      "See the caveats in the documentation: https://pandas.pydata.org/pandas-docs/stable/user_guide/indexing.html#returning-a-view-versus-a-copy\n",
      "  self.obj[item] = s\n"
     ]
    }
   ],
   "source": [
    "from sklearn.preprocessing import RobustScaler\n",
    "\n",
    "scale_columns = ['x_axis', 'y_axis', 'z_axis']\n",
    "\n",
    "scaler = RobustScaler()\n",
    "\n",
    "scaler = scaler.fit(df_train[scale_columns])\n",
    "\n",
    "df_train.loc[:, scale_columns] = scaler.transform(df_train[scale_columns].to_numpy())\n",
    "df_test.loc[:, scale_columns] = scaler.transform(df_test[scale_columns].to_numpy())"
   ]
  },
  {
   "cell_type": "code",
   "execution_count": 16,
   "metadata": {},
   "outputs": [],
   "source": [
    "from scipy import stats\n",
    "\n",
    "def create_dataset(X, y, time_steps=1, step=1):\n",
    "    Xs, ys = [], []\n",
    "    for i in range(0, len(X) - time_steps, step):\n",
    "        v = X.iloc[i:(i + time_steps)].values\n",
    "        labels = y.iloc[i: i + time_steps]\n",
    "        Xs.append(v)        \n",
    "        ys.append(stats.mode(labels)[0][0])\n",
    "    return np.array(Xs), np.array(ys).reshape(-1, 1)\n",
    "\n",
    "TIME_STEPS = 200\n",
    "STEP = 40\n",
    "\n",
    "X_train, y_train = create_dataset(\n",
    "    df_train[['x_axis', 'y_axis', 'z_axis']], \n",
    "    df_train.activity, \n",
    "    TIME_STEPS, \n",
    "    STEP\n",
    ")\n",
    "\n",
    "X_test, y_test = create_dataset(\n",
    "    df_test[['x_axis', 'y_axis', 'z_axis']], \n",
    "    df_test.activity, \n",
    "    TIME_STEPS, \n",
    "    STEP\n",
    ")"
   ]
  },
  {
   "cell_type": "code",
   "execution_count": 17,
   "metadata": {},
   "outputs": [
    {
     "name": "stdout",
     "output_type": "stream",
     "text": [
      "(94799, 200, 3) (94799, 1)\n"
     ]
    }
   ],
   "source": [
    "print(X_train.shape, y_train.shape)"
   ]
  },
  {
   "cell_type": "code",
   "execution_count": 18,
   "metadata": {},
   "outputs": [],
   "source": [
    "from sklearn.preprocessing import OneHotEncoder\n",
    "\n",
    "enc = OneHotEncoder(handle_unknown='ignore', sparse=False)\n",
    "\n",
    "enc = enc.fit(y_train)\n",
    "\n",
    "y_train = enc.transform(y_train)\n",
    "y_test = enc.transform(y_test)"
   ]
  },
  {
   "cell_type": "code",
   "execution_count": 19,
   "metadata": {},
   "outputs": [
    {
     "name": "stdout",
     "output_type": "stream",
     "text": [
      "(94799, 200, 3) (94799, 11)\n"
     ]
    }
   ],
   "source": [
    "print(X_train.shape, y_train.shape)"
   ]
  },
  {
   "cell_type": "code",
   "execution_count": 20,
   "metadata": {},
   "outputs": [],
   "source": [
    "momentum = [0, 0.2, 0.4, 0.6, 0.8, 0.9]\n",
    "learn_rate = [0.001, 0.01, 0.1, 0.2, 0.3]   \n",
    "batch_size = [64, 128]\n",
    "epochs = [20, 50]"
   ]
  },
  {
   "cell_type": "code",
   "execution_count": null,
   "metadata": {},
   "outputs": [],
   "source": []
  },
  {
   "cell_type": "code",
   "execution_count": 21,
   "metadata": {},
   "outputs": [
    {
     "name": "stdout",
     "output_type": "stream",
     "text": [
      "Epoch 1/10\n",
      "1334/1334 [==============================] - 273s 203ms/step - loss: 0.8923 - acc: 0.6864 - val_loss: 15.0226 - val_acc: 3.1646e-04\n",
      "Epoch 2/10\n",
      "1334/1334 [==============================] - 305s 228ms/step - loss: 0.4562 - acc: 0.8511 - val_loss: 15.9163 - val_acc: 0.1022\n",
      "Epoch 3/10\n",
      "1334/1334 [==============================] - 306s 229ms/step - loss: 0.3968 - acc: 0.8724 - val_loss: 18.7089 - val_acc: 0.1215\n",
      "Epoch 4/10\n",
      "1334/1334 [==============================] - 311s 233ms/step - loss: 0.2680 - acc: 0.9159 - val_loss: 21.1016 - val_acc: 0.2107\n",
      "Epoch 5/10\n",
      "1334/1334 [==============================] - 285s 214ms/step - loss: 0.2683 - acc: 0.9161 - val_loss: 18.0727 - val_acc: 0.1883\n",
      "Epoch 6/10\n",
      "1334/1334 [==============================] - 269s 202ms/step - loss: 0.5146 - acc: 0.8273 - val_loss: 27.7183 - val_acc: 0.1418\n",
      "Epoch 7/10\n",
      "1334/1334 [==============================] - 265s 199ms/step - loss: 0.4643 - acc: 0.8454 - val_loss: 26.2371 - val_acc: 0.1689\n",
      "Epoch 8/10\n",
      "1334/1334 [==============================] - 266s 199ms/step - loss: 0.4778 - acc: 0.8280 - val_loss: 29.8949 - val_acc: 0.1378\n",
      "Epoch 9/10\n",
      "1334/1334 [==============================] - 267s 200ms/step - loss: 0.4390 - acc: 0.8500 - val_loss: 26.1242 - val_acc: 0.1706\n",
      "Epoch 10/10\n",
      "1334/1334 [==============================] - 266s 200ms/step - loss: 0.3972 - acc: 0.8624 - val_loss: 33.5528 - val_acc: 0.1648\n"
     ]
    }
   ],
   "source": [
    "model = keras.Sequential()\n",
    "model.add(\n",
    "    keras.layers.Bidirectional(\n",
    "      keras.layers.LSTM(\n",
    "          units=128, \n",
    "          input_shape=[X_train.shape[1], X_train.shape[2]]\n",
    "      )\n",
    "    )\n",
    ")\n",
    "model.add(keras.layers.Dropout(rate=0.5))\n",
    "model.add(keras.layers.Dense(units=128, activation='relu'))\n",
    "model.add(keras.layers.Dense(y_train.shape[1], activation='softmax'))\n",
    "#model.compile(loss='categorical_crossentropy', optimizer='adam', metrics=['acc'], learning_rate=0.1)\n",
    "#model.compile(loss='categorical_crossentropy', optimizer='adam', metrics=['acc'], learn_rate =0.1)\n",
    "model.compile(loss='categorical_crossentropy', optimizer=keras.optimizers.Adam(learning_rate=0.01), metrics=['acc'])\n",
    "history = model.fit(X_train, y_train, epochs=10, batch_size=64, validation_split=0.1, shuffle=True)"
   ]
  },
  {
   "cell_type": "code",
   "execution_count": null,
   "metadata": {},
   "outputs": [],
   "source": [
    "model.optimizer.get_config()"
   ]
  },
  {
   "cell_type": "code",
   "execution_count": 22,
   "metadata": {},
   "outputs": [
    {
     "name": "stdout",
     "output_type": "stream",
     "text": [
      "<tf.Variable 'Adam/learning_rate:0' shape=() dtype=float32, numpy=0.01>\n"
     ]
    }
   ],
   "source": [
    "print(model.optimizer.lr)"
   ]
  },
  {
   "cell_type": "code",
   "execution_count": 23,
   "metadata": {},
   "outputs": [
    {
     "name": "stdout",
     "output_type": "stream",
     "text": [
      "1159/1159 [==============================] - 58s 50ms/step - loss: 5.5961 - acc: 0.7161\n"
     ]
    },
    {
     "data": {
      "text/plain": [
       "[5.596107006072998, 0.7160966396331787]"
      ]
     },
     "execution_count": 23,
     "metadata": {},
     "output_type": "execute_result"
    }
   ],
   "source": [
    "model.evaluate(X_test, y_test)"
   ]
  },
  {
   "cell_type": "code",
   "execution_count": 24,
   "metadata": {},
   "outputs": [],
   "source": [
    "model.save('saved_models/lstm.h5')"
   ]
  },
  {
   "cell_type": "code",
   "execution_count": null,
   "metadata": {},
   "outputs": [],
   "source": [
    "model = tf.keras.models.load_model('saved_models/lstm.h5')"
   ]
  },
  {
   "cell_type": "code",
   "execution_count": 25,
   "metadata": {},
   "outputs": [],
   "source": [
    "y_pred = model.predict(X_test)"
   ]
  },
  {
   "cell_type": "code",
   "execution_count": 26,
   "metadata": {},
   "outputs": [],
   "source": [
    "input_shape = [X_train.shape[1], X_train.shape[2]]"
   ]
  },
  {
   "cell_type": "code",
   "execution_count": null,
   "metadata": {},
   "outputs": [],
   "source": [
    "# Save the model.\n",
    "with open('../tflite_models/lstm.', 'wb') as f:\n",
    "  f.write(tflite_model)"
   ]
  },
  {
   "cell_type": "code",
   "execution_count": 27,
   "metadata": {},
   "outputs": [
    {
     "data": {
      "text/plain": [
       "array([[1.32804979e-38, 1.06071132e-35, 0.00000000e+00, ...,\n",
       "        9.93608846e-04, 1.31371559e-03, 1.78992973e-10],\n",
       "       [1.95587747e-37, 1.26437791e-34, 1.34905178e-37, ...,\n",
       "        1.24109932e-03, 1.66124641e-03, 3.79007603e-10],\n",
       "       [1.25960479e-20, 3.86151898e-19, 1.00807112e-20, ...,\n",
       "        2.86046248e-02, 4.57158759e-02, 1.76000467e-05],\n",
       "       ...,\n",
       "       [1.19860753e-21, 1.61337119e-20, 1.44624907e-21, ...,\n",
       "        4.06885371e-02, 3.50342616e-02, 9.22889113e-01],\n",
       "       [1.36814862e-13, 7.20992927e-13, 1.84400780e-13, ...,\n",
       "        1.01091444e-01, 1.42108724e-01, 7.37684309e-01],\n",
       "       [2.28779594e-20, 2.55626572e-19, 2.65788156e-20, ...,\n",
       "        4.50406596e-02, 4.03689891e-02, 9.12792146e-01]], dtype=float32)"
      ]
     },
     "execution_count": 27,
     "metadata": {},
     "output_type": "execute_result"
    }
   ],
   "source": [
    "y_pred"
   ]
  },
  {
   "cell_type": "code",
   "execution_count": 28,
   "metadata": {},
   "outputs": [
    {
     "data": {
      "text/plain": [
       "array([['STD'],\n",
       "       ['STD'],\n",
       "       ['STD'],\n",
       "       ...,\n",
       "       ['WAL'],\n",
       "       ['WAL'],\n",
       "       ['WAL']], dtype='<U3')"
      ]
     },
     "execution_count": 28,
     "metadata": {},
     "output_type": "execute_result"
    }
   ],
   "source": [
    "enc.inverse_transform(y_pred)"
   ]
  },
  {
   "cell_type": "markdown",
   "metadata": {},
   "source": [
    "## TFLITE CONVERTER"
   ]
  },
  {
   "cell_type": "code",
   "execution_count": 30,
   "metadata": {},
   "outputs": [],
   "source": [
    "TFLITE_MODEL = '../tflite_models/mobiact/model_lstm_lite.tflite'\n",
    "TFLITE_DYNAMIC_MODEL = '../tflite_models/mobiact/model_lstm_lite_dynamic.tflite'\n",
    "TFLITE_FLOAT16_MODEL = '../tflite_models/mobiact/model_lstm_lite_float16.tflite'"
   ]
  },
  {
   "cell_type": "code",
   "execution_count": 31,
   "metadata": {},
   "outputs": [
    {
     "name": "stderr",
     "output_type": "stream",
     "text": [
      "WARNING:absl:Found untraced functions such as lstm_cell_1_layer_call_and_return_conditional_losses, lstm_cell_1_layer_call_fn, lstm_cell_2_layer_call_and_return_conditional_losses, lstm_cell_2_layer_call_fn, lstm_cell_1_layer_call_fn while saving (showing 5 of 10). These functions will not be directly callable after loading.\n"
     ]
    },
    {
     "name": "stdout",
     "output_type": "stream",
     "text": [
      "INFO:tensorflow:Assets written to: /var/folders/7r/4tyskpd90772kcc14kpglgdrz0lbv6/T/tmpyinpq_af/assets\n"
     ]
    },
    {
     "name": "stderr",
     "output_type": "stream",
     "text": [
      "INFO:tensorflow:Assets written to: /var/folders/7r/4tyskpd90772kcc14kpglgdrz0lbv6/T/tmpyinpq_af/assets\n"
     ]
    }
   ],
   "source": [
    "# Convert the model \n",
    "converter = tf.lite.TFLiteConverter.from_keras_model(model) # path to the SavedModel directory\n",
    "tflite_model = converter.convert()"
   ]
  },
  {
   "cell_type": "code",
   "execution_count": 32,
   "metadata": {},
   "outputs": [],
   "source": [
    "# Save the model.\n",
    "with open(TFLITE_MODEL, 'wb') as f:\n",
    "  f.write(tflite_model)"
   ]
  },
  {
   "cell_type": "code",
   "execution_count": 33,
   "metadata": {},
   "outputs": [
    {
     "name": "stderr",
     "output_type": "stream",
     "text": [
      "WARNING:absl:Found untraced functions such as lstm_cell_1_layer_call_and_return_conditional_losses, lstm_cell_1_layer_call_fn, lstm_cell_2_layer_call_and_return_conditional_losses, lstm_cell_2_layer_call_fn, lstm_cell_1_layer_call_fn while saving (showing 5 of 10). These functions will not be directly callable after loading.\n"
     ]
    },
    {
     "name": "stdout",
     "output_type": "stream",
     "text": [
      "INFO:tensorflow:Assets written to: /var/folders/7r/4tyskpd90772kcc14kpglgdrz0lbv6/T/tmpt_rze001/assets\n"
     ]
    },
    {
     "name": "stderr",
     "output_type": "stream",
     "text": [
      "INFO:tensorflow:Assets written to: /var/folders/7r/4tyskpd90772kcc14kpglgdrz0lbv6/T/tmpt_rze001/assets\n"
     ]
    }
   ],
   "source": [
    "# Convert the model \n",
    "# Dynamic\n",
    "converter = tf.lite.TFLiteConverter.from_keras_model(model) # path to the SavedModel directory\n",
    "converter.optimizations = [tf.lite.Optimize.DEFAULT]\n",
    "tflite_quant_model_dynamic = converter.convert()"
   ]
  },
  {
   "cell_type": "code",
   "execution_count": 34,
   "metadata": {},
   "outputs": [],
   "source": [
    "# Save the model.\n",
    "with open(TFLITE_DYNAMIC_MODEL, 'wb') as f:\n",
    "  f.write(tflite_quant_model_dynamic)"
   ]
  },
  {
   "cell_type": "code",
   "execution_count": 35,
   "metadata": {},
   "outputs": [
    {
     "name": "stderr",
     "output_type": "stream",
     "text": [
      "WARNING:absl:Found untraced functions such as lstm_cell_1_layer_call_and_return_conditional_losses, lstm_cell_1_layer_call_fn, lstm_cell_2_layer_call_and_return_conditional_losses, lstm_cell_2_layer_call_fn, lstm_cell_1_layer_call_fn while saving (showing 5 of 10). These functions will not be directly callable after loading.\n"
     ]
    },
    {
     "name": "stdout",
     "output_type": "stream",
     "text": [
      "INFO:tensorflow:Assets written to: /var/folders/7r/4tyskpd90772kcc14kpglgdrz0lbv6/T/tmp8axwi5ta/assets\n"
     ]
    },
    {
     "name": "stderr",
     "output_type": "stream",
     "text": [
      "INFO:tensorflow:Assets written to: /var/folders/7r/4tyskpd90772kcc14kpglgdrz0lbv6/T/tmp8axwi5ta/assets\n"
     ]
    }
   ],
   "source": [
    "# Convert the model \n",
    "# Float16\n",
    "converter = tf.lite.TFLiteConverter.from_keras_model(model)\n",
    "converter.optimizations = [tf.lite.Optimize.DEFAULT]\n",
    "converter.target_spec.supported_types = [tf.float16]\n",
    "tflite_quant_model_float16 = converter.convert()"
   ]
  },
  {
   "cell_type": "code",
   "execution_count": 36,
   "metadata": {},
   "outputs": [],
   "source": [
    "# Save the model.\n",
    "with open(TFLITE_FLOAT16_MODEL, 'wb') as f:\n",
    "  f.write(tflite_quant_model_float16)"
   ]
  },
  {
   "cell_type": "markdown",
   "metadata": {},
   "source": [
    "## TFLITE INTERPRETER"
   ]
  },
  {
   "cell_type": "markdown",
   "metadata": {},
   "source": [
    "## TFLITE"
   ]
  },
  {
   "cell_type": "code",
   "execution_count": 64,
   "metadata": {},
   "outputs": [],
   "source": [
    "# Load the TFLite model and allocate tensors.  \n",
    "interpreter = tf.lite.Interpreter(model_path=TFLITE_MODEL, num_threads=2)    #(model_content=tflite_model) \n",
    "interpreter.allocate_tensors()"
   ]
  },
  {
   "cell_type": "code",
   "execution_count": 65,
   "metadata": {},
   "outputs": [],
   "source": [
    "# Get input and output tensors.    \n",
    "input_det = interpreter.get_input_details()[0]\n",
    "output_det = interpreter.get_output_details()[0]"
   ]
  },
  {
   "cell_type": "code",
   "execution_count": 66,
   "metadata": {},
   "outputs": [],
   "source": [
    "input_index = input_det[\"index\"]\n",
    "output_index = output_det[\"index\"]\n",
    "input_shape = input_det[\"shape\"]\n",
    "output_shape = output_det[\"shape\"]\n",
    "input_dtype = input_det[\"dtype\"]\n",
    "output_dtype = output_det[\"dtype\"]"
   ]
  },
  {
   "cell_type": "code",
   "execution_count": 67,
   "metadata": {},
   "outputs": [
    {
     "data": {
      "text/plain": [
       "((94799, 200, 3), (94799, 11), (37076, 200, 3), (37076, 11))"
      ]
     },
     "execution_count": 67,
     "metadata": {},
     "output_type": "execute_result"
    }
   ],
   "source": [
    "X_train.shape, y_train.shape, X_test.shape, y_test.shape"
   ]
  },
  {
   "cell_type": "code",
   "execution_count": 68,
   "metadata": {},
   "outputs": [],
   "source": [
    "def predict(inp, input_dtype, output_shape, output_dtype, interpreter, input_index, output_index):\n",
    "    inp = inp.astype(input_dtype)\n",
    "    count = inp.shape[0]\n",
    "    out = np.zeros((count, output_shape[1]), dtype=output_dtype)\n",
    "    for i in range(count):\n",
    "        interpreter.set_tensor(input_index, inp[i:i+1])\n",
    "        interpreter.invoke()\n",
    "        out[i] = interpreter.get_tensor(output_index)[0]\n",
    "    return out"
   ]
  },
  {
   "cell_type": "code",
   "execution_count": null,
   "metadata": {},
   "outputs": [],
   "source": [
    "%time y_pred_lite = predict(X_test, input_dtype, output_shape, output_dtype, interpreter, input_index, output_index)"
   ]
  },
  {
   "cell_type": "code",
   "execution_count": null,
   "metadata": {},
   "outputs": [],
   "source": [
    "y_pred_lite.shape"
   ]
  },
  {
   "cell_type": "code",
   "execution_count": null,
   "metadata": {},
   "outputs": [],
   "source": [
    "#y_pred_lite = np.argmax(y_pred_lite, axis=1) \n",
    "y_pred_lite"
   ]
  },
  {
   "cell_type": "markdown",
   "metadata": {},
   "source": [
    "## TFLITE DYNAMIC"
   ]
  },
  {
   "cell_type": "code",
   "execution_count": 45,
   "metadata": {},
   "outputs": [],
   "source": [
    "# Load the TFLite model and allocate tensors.  \n",
    "interpreter = tf.lite.Interpreter(model_path=TFLITE_DYNAMIC_MODEL, num_threads=4)    #(model_content=tflite_model) \n",
    "interpreter.allocate_tensors()\n",
    "\n",
    "# Get input and output tensors.    \n",
    "input_det = interpreter.get_input_details()[0]\n",
    "output_det = interpreter.get_output_details()[0]\n",
    "\n",
    "input_index = input_det[\"index\"]\n",
    "output_index = output_det[\"index\"]\n",
    "input_shape = input_det[\"shape\"]\n",
    "output_shape = output_det[\"shape\"]\n",
    "input_dtype = input_det[\"dtype\"]\n",
    "output_dtype = output_det[\"dtype\"]"
   ]
  },
  {
   "cell_type": "code",
   "execution_count": 46,
   "metadata": {},
   "outputs": [
    {
     "name": "stdout",
     "output_type": "stream",
     "text": [
      "CPU times: user 7min 58s, sys: 1.51 s, total: 8min\n",
      "Wall time: 8min 2s\n"
     ]
    }
   ],
   "source": [
    "%time y_pred_lite_dynamic = predict(X_test, input_dtype, output_shape, output_dtype, interpreter, input_index, output_index)"
   ]
  },
  {
   "cell_type": "code",
   "execution_count": 47,
   "metadata": {},
   "outputs": [
    {
     "data": {
      "text/plain": [
       "array([ 7,  7,  7, ..., 10, 10, 10])"
      ]
     },
     "execution_count": 47,
     "metadata": {},
     "output_type": "execute_result"
    }
   ],
   "source": [
    "y_pred_lite_dynamic = np.argmax(y_pred_lite_dynamic, axis=1) \n",
    "y_pred_lite_dynamic"
   ]
  },
  {
   "cell_type": "markdown",
   "metadata": {},
   "source": [
    "## TFLITE FLOAT16"
   ]
  },
  {
   "cell_type": "code",
   "execution_count": 48,
   "metadata": {},
   "outputs": [],
   "source": [
    "# Load the TFLite model and allocate tensors.  \n",
    "interpreter = tf.lite.Interpreter(model_path=TFLITE_FLOAT16_MODEL, num_threads=2)    #(model_content=tflite_model) \n",
    "interpreter.allocate_tensors()\n",
    "\n",
    "# Get input and output tensors.    \n",
    "input_det = interpreter.get_input_details()[0]\n",
    "output_det = interpreter.get_output_details()[0]\n",
    "\n",
    "input_index = input_det[\"index\"]\n",
    "output_index = output_det[\"index\"]\n",
    "input_shape = input_det[\"shape\"]\n",
    "output_shape = output_det[\"shape\"]\n",
    "input_dtype = input_det[\"dtype\"]\n",
    "output_dtype = output_det[\"dtype\"]"
   ]
  },
  {
   "cell_type": "code",
   "execution_count": 49,
   "metadata": {},
   "outputs": [
    {
     "name": "stdout",
     "output_type": "stream",
     "text": [
      "CPU times: user 8min 5s, sys: 1.08 s, total: 8min 6s\n",
      "Wall time: 8min 7s\n"
     ]
    }
   ],
   "source": [
    "%time y_pred_lite_float16 = predict(X_test, input_dtype, output_shape, output_dtype, interpreter, input_index, output_index)"
   ]
  },
  {
   "cell_type": "code",
   "execution_count": 50,
   "metadata": {},
   "outputs": [
    {
     "data": {
      "text/plain": [
       "array([ 7,  7,  7, ..., 10, 10, 10])"
      ]
     },
     "execution_count": 50,
     "metadata": {},
     "output_type": "execute_result"
    }
   ],
   "source": [
    "y_pred_lite_float16 = np.argmax(y_pred_lite_float16, axis=1) \n",
    "y_pred_lite_float16"
   ]
  },
  {
   "cell_type": "code",
   "execution_count": 51,
   "metadata": {},
   "outputs": [],
   "source": [
    "## Ploting Confusion Matrix"
   ]
  },
  {
   "cell_type": "code",
   "execution_count": 52,
   "metadata": {},
   "outputs": [
    {
     "name": "stdout",
     "output_type": "stream",
     "text": [
      "0.7160966663070449\n"
     ]
    }
   ],
   "source": [
    "# Accuracy\n",
    "from sklearn.metrics import accuracy_score\n",
    "print(accuracy_score(enc.inverse_transform(y_test), enc.inverse_transform(y_pred)))"
   ]
  },
  {
   "cell_type": "code",
   "execution_count": null,
   "metadata": {},
   "outputs": [],
   "source": [
    "#from sklearn.metrics import accuracy_score\n",
    "#print(accuracy_score(enc.inverse_transform(y_test), enc.inverse_transform(y_pred)))\n",
    "\n",
    "print(accuracy_score(enc.inverse_transform(y_test), enc.inverse_transform(y_pred_lite)))\n",
    "\n",
    "#print(accuracy_score(enc.inverse_transform(y_test), enc.inverse_transform(y_pred_lite_dynamic)))"
   ]
  },
  {
   "cell_type": "code",
   "execution_count": null,
   "metadata": {},
   "outputs": [],
   "source": []
  },
  {
   "cell_type": "code",
   "execution_count": null,
   "metadata": {},
   "outputs": [],
   "source": []
  },
  {
   "cell_type": "code",
   "execution_count": null,
   "metadata": {},
   "outputs": [],
   "source": []
  },
  {
   "cell_type": "code",
   "execution_count": null,
   "metadata": {},
   "outputs": [],
   "source": []
  },
  {
   "cell_type": "code",
   "execution_count": null,
   "metadata": {},
   "outputs": [],
   "source": []
  },
  {
   "cell_type": "code",
   "execution_count": null,
   "metadata": {},
   "outputs": [],
   "source": []
  },
  {
   "cell_type": "code",
   "execution_count": 63,
   "metadata": {},
   "outputs": [
    {
     "data": {
      "text/plain": [
       "array([['STD'],\n",
       "       ['STD'],\n",
       "       ['STD'],\n",
       "       ...,\n",
       "       ['WAL'],\n",
       "       ['WAL'],\n",
       "       ['WAL']], dtype='<U3')"
      ]
     },
     "execution_count": 63,
     "metadata": {},
     "output_type": "execute_result"
    }
   ],
   "source": [
    "enc.inverse_transform(y_pred)"
   ]
  },
  {
   "cell_type": "code",
   "execution_count": null,
   "metadata": {},
   "outputs": [],
   "source": [
    "y_test"
   ]
  },
  {
   "cell_type": "code",
   "execution_count": null,
   "metadata": {},
   "outputs": [],
   "source": [
    "enc.inverse_transform(y_test)"
   ]
  },
  {
   "cell_type": "code",
   "execution_count": null,
   "metadata": {},
   "outputs": [],
   "source": []
  },
  {
   "cell_type": "code",
   "execution_count": null,
   "metadata": {},
   "outputs": [],
   "source": [
    "# Confusion Matrix\n",
    "from sklearn.metrics import confusion_matrix\n",
    "print(confusion_matrix(enc.inverse_transform(y_test), enc.inverse_transform(y_pred)))\n",
    "# Accuracy\n",
    "from sklearn.metrics import accuracy_score\n",
    "print(accuracy_score(enc.inverse_transform(y_test), enc.inverse_transform(y_pred)))\n",
    "# Recall\n",
    "from sklearn.metrics import recall_score\n",
    "print(recall_score(enc.inverse_transform(y_test), enc.inverse_transform(y_pred), average=None))\n",
    "# Precision\n",
    "from sklearn.metrics import precision_score\n",
    "print(precision_score(enc.inverse_transform(y_test), enc.inverse_transform(y_pred), average=None))\n",
    "# F1 score\n",
    "from sklearn.metrics import f1_score\n",
    "f1_score(enc.inverse_transform(y_test), enc.inverse_transform(y_pred), average=None)"
   ]
  },
  {
   "cell_type": "code",
   "execution_count": null,
   "metadata": {},
   "outputs": [],
   "source": [
    "from sklearn.preprocessing import MultiLabelBinarizer\n",
    "from sklearn.metrics import f1_score\n",
    "\n",
    "binarizer = MultiLabelBinarizer()\n",
    "\n",
    "# This should be your original approach\n",
    "#binarizer.fit(your actual true output consisting of all labels)\n",
    "\n",
    "# In this case, I am considering only the given labels.\n",
    "binarizer.fit(enc.inverse_transform(y_test))\n",
    "\n",
    "f1_score(binarizer.transform(enc.inverse_transform(y_test)), \n",
    "         binarizer.transform(enc.inverse_transform(y_pred)), \n",
    "         average='weighted')"
   ]
  },
  {
   "cell_type": "code",
   "execution_count": null,
   "metadata": {},
   "outputs": [],
   "source": [
    "enc.inverse_transform(y_pred)"
   ]
  },
  {
   "cell_type": "code",
   "execution_count": null,
   "metadata": {},
   "outputs": [],
   "source": [
    "f1_score(binarizer.transform(enc.inverse_transform(y_test)), \n",
    "         binarizer.transform(enc.inverse_transform(y_pred)), \n",
    "         average=None)"
   ]
  },
  {
   "cell_type": "code",
   "execution_count": null,
   "metadata": {},
   "outputs": [],
   "source": []
  }
 ],
 "metadata": {
  "kernelspec": {
   "display_name": "Python 3",
   "language": "python",
   "name": "python3"
  },
  "language_info": {
   "codemirror_mode": {
    "name": "ipython",
    "version": 3
   },
   "file_extension": ".py",
   "mimetype": "text/x-python",
   "name": "python",
   "nbconvert_exporter": "python",
   "pygments_lexer": "ipython3",
   "version": "3.7.4"
  }
 },
 "nbformat": 4,
 "nbformat_minor": 4
}
